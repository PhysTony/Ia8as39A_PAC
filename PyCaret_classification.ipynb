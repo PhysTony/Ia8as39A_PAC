{
  "nbformat": 4,
  "nbformat_minor": 0,
  "metadata": {
    "kernelspec": {
      "display_name": "Python 3",
      "language": "python",
      "name": "python3"
    },
    "language_info": {
      "codemirror_mode": {
        "name": "ipython",
        "version": 3
      },
      "file_extension": ".py",
      "mimetype": "text/x-python",
      "name": "python",
      "nbconvert_exporter": "python",
      "pygments_lexer": "ipython3",
      "version": "3.8.3"
    },
    "colab": {
      "name": "PyCaret_classification.ipynb",
      "provenance": [],
      "collapsed_sections": []
    },
    "widgets": {
      "application/vnd.jupyter.widget-state+json": {
        "0f7adb367e8c4830a2d279b5fd3136ae": {
          "model_module": "@jupyter-widgets/controls",
          "model_name": "IntProgressModel",
          "state": {
            "_view_name": "ProgressView",
            "style": "IPY_MODEL_fed72abaa5d14dc8a0ddf09eabdda6ac",
            "_dom_classes": [],
            "description": "Processing: ",
            "_model_name": "IntProgressModel",
            "bar_style": "",
            "max": 13,
            "_view_module": "@jupyter-widgets/controls",
            "_model_module_version": "1.5.0",
            "value": 3,
            "_view_count": null,
            "_view_module_version": "1.5.0",
            "orientation": "horizontal",
            "min": 0,
            "description_tooltip": null,
            "_model_module": "@jupyter-widgets/controls",
            "layout": "IPY_MODEL_bd83ff3596ae4bc786bc0ee9945cb14d"
          }
        },
        "fed72abaa5d14dc8a0ddf09eabdda6ac": {
          "model_module": "@jupyter-widgets/controls",
          "model_name": "ProgressStyleModel",
          "state": {
            "_view_name": "StyleView",
            "_model_name": "ProgressStyleModel",
            "description_width": "",
            "_view_module": "@jupyter-widgets/base",
            "_model_module_version": "1.5.0",
            "_view_count": null,
            "_view_module_version": "1.2.0",
            "bar_color": null,
            "_model_module": "@jupyter-widgets/controls"
          }
        },
        "bd83ff3596ae4bc786bc0ee9945cb14d": {
          "model_module": "@jupyter-widgets/base",
          "model_name": "LayoutModel",
          "state": {
            "_view_name": "LayoutView",
            "grid_template_rows": null,
            "right": null,
            "justify_content": null,
            "_view_module": "@jupyter-widgets/base",
            "overflow": null,
            "_model_module_version": "1.2.0",
            "_view_count": null,
            "flex_flow": null,
            "width": null,
            "min_width": null,
            "border": null,
            "align_items": null,
            "bottom": null,
            "_model_module": "@jupyter-widgets/base",
            "top": null,
            "grid_column": null,
            "overflow_y": null,
            "overflow_x": null,
            "grid_auto_flow": null,
            "grid_area": null,
            "grid_template_columns": null,
            "flex": null,
            "_model_name": "LayoutModel",
            "justify_items": null,
            "grid_row": null,
            "max_height": null,
            "align_content": null,
            "visibility": null,
            "align_self": null,
            "height": null,
            "min_height": null,
            "padding": null,
            "grid_auto_rows": null,
            "grid_gap": null,
            "max_width": null,
            "order": null,
            "_view_module_version": "1.2.0",
            "grid_template_areas": null,
            "object_position": null,
            "object_fit": null,
            "grid_auto_columns": null,
            "margin": null,
            "display": null,
            "left": null
          }
        },
        "5af254d3e7274d6a8a45f9be5a780230": {
          "model_module": "@jupyter-widgets/controls",
          "model_name": "TextModel",
          "state": {
            "_view_name": "TextView",
            "style": "IPY_MODEL_63384757c36047c582300f9624e107a6",
            "_dom_classes": [],
            "description": "",
            "_model_name": "TextModel",
            "placeholder": "​",
            "_view_module": "@jupyter-widgets/controls",
            "_model_module_version": "1.5.0",
            "value": "Following data types have been inferred automatically, if they are correct press enter to continue or type 'quit' otherwise.",
            "_view_count": null,
            "disabled": false,
            "_view_module_version": "1.5.0",
            "continuous_update": true,
            "description_tooltip": null,
            "_model_module": "@jupyter-widgets/controls",
            "layout": "IPY_MODEL_b864353e0f344272b8473773bac7c9b7"
          }
        },
        "63384757c36047c582300f9624e107a6": {
          "model_module": "@jupyter-widgets/controls",
          "model_name": "DescriptionStyleModel",
          "state": {
            "_view_name": "StyleView",
            "_model_name": "DescriptionStyleModel",
            "description_width": "",
            "_view_module": "@jupyter-widgets/base",
            "_model_module_version": "1.5.0",
            "_view_count": null,
            "_view_module_version": "1.2.0",
            "_model_module": "@jupyter-widgets/controls"
          }
        },
        "b864353e0f344272b8473773bac7c9b7": {
          "model_module": "@jupyter-widgets/base",
          "model_name": "LayoutModel",
          "state": {
            "_view_name": "LayoutView",
            "grid_template_rows": null,
            "right": null,
            "justify_content": null,
            "_view_module": "@jupyter-widgets/base",
            "overflow": null,
            "_model_module_version": "1.2.0",
            "_view_count": null,
            "flex_flow": null,
            "width": "100%",
            "min_width": null,
            "border": null,
            "align_items": null,
            "bottom": null,
            "_model_module": "@jupyter-widgets/base",
            "top": null,
            "grid_column": null,
            "overflow_y": null,
            "overflow_x": null,
            "grid_auto_flow": null,
            "grid_area": null,
            "grid_template_columns": null,
            "flex": null,
            "_model_name": "LayoutModel",
            "justify_items": null,
            "grid_row": null,
            "max_height": null,
            "align_content": null,
            "visibility": null,
            "align_self": null,
            "height": null,
            "min_height": null,
            "padding": null,
            "grid_auto_rows": null,
            "grid_gap": null,
            "max_width": null,
            "order": null,
            "_view_module_version": "1.2.0",
            "grid_template_areas": null,
            "object_position": null,
            "object_fit": null,
            "grid_auto_columns": null,
            "margin": null,
            "display": null,
            "left": null
          }
        },
        "008f986130314e4cb44d5f510a4feb0d": {
          "model_module": "@jupyter-widgets/controls",
          "model_name": "IntProgressModel",
          "state": {
            "_view_name": "ProgressView",
            "style": "IPY_MODEL_dff167aed6084845b6dd2fea9cfaf446",
            "_dom_classes": [],
            "description": "Processing: ",
            "_model_name": "IntProgressModel",
            "bar_style": "",
            "max": 82,
            "_view_module": "@jupyter-widgets/controls",
            "_model_module_version": "1.5.0",
            "value": 77,
            "_view_count": null,
            "_view_module_version": "1.5.0",
            "orientation": "horizontal",
            "min": 0,
            "description_tooltip": null,
            "_model_module": "@jupyter-widgets/controls",
            "layout": "IPY_MODEL_00a7eb3652ee453199af3368ba784726"
          }
        },
        "dff167aed6084845b6dd2fea9cfaf446": {
          "model_module": "@jupyter-widgets/controls",
          "model_name": "ProgressStyleModel",
          "state": {
            "_view_name": "StyleView",
            "_model_name": "ProgressStyleModel",
            "description_width": "",
            "_view_module": "@jupyter-widgets/base",
            "_model_module_version": "1.5.0",
            "_view_count": null,
            "_view_module_version": "1.2.0",
            "bar_color": null,
            "_model_module": "@jupyter-widgets/controls"
          }
        },
        "00a7eb3652ee453199af3368ba784726": {
          "model_module": "@jupyter-widgets/base",
          "model_name": "LayoutModel",
          "state": {
            "_view_name": "LayoutView",
            "grid_template_rows": null,
            "right": null,
            "justify_content": null,
            "_view_module": "@jupyter-widgets/base",
            "overflow": null,
            "_model_module_version": "1.2.0",
            "_view_count": null,
            "flex_flow": null,
            "width": null,
            "min_width": null,
            "border": null,
            "align_items": null,
            "bottom": null,
            "_model_module": "@jupyter-widgets/base",
            "top": null,
            "grid_column": null,
            "overflow_y": null,
            "overflow_x": null,
            "grid_auto_flow": null,
            "grid_area": null,
            "grid_template_columns": null,
            "flex": null,
            "_model_name": "LayoutModel",
            "justify_items": null,
            "grid_row": null,
            "max_height": null,
            "align_content": null,
            "visibility": null,
            "align_self": null,
            "height": null,
            "min_height": null,
            "padding": null,
            "grid_auto_rows": null,
            "grid_gap": null,
            "max_width": null,
            "order": null,
            "_view_module_version": "1.2.0",
            "grid_template_areas": null,
            "object_position": null,
            "object_fit": null,
            "grid_auto_columns": null,
            "margin": null,
            "display": null,
            "left": null
          }
        },
        "b1eaeec3aaf24aa08e0d50cbe0f67230": {
          "model_module": "@jupyter-widgets/controls",
          "model_name": "IntProgressModel",
          "state": {
            "_view_name": "ProgressView",
            "style": "IPY_MODEL_bebd4f8865ae41988ec18430213b8382",
            "_dom_classes": [],
            "description": "Processing: ",
            "_model_name": "IntProgressModel",
            "bar_style": "",
            "max": 8,
            "_view_module": "@jupyter-widgets/controls",
            "_model_module_version": "1.5.0",
            "value": 8,
            "_view_count": null,
            "_view_module_version": "1.5.0",
            "orientation": "horizontal",
            "min": 0,
            "description_tooltip": null,
            "_model_module": "@jupyter-widgets/controls",
            "layout": "IPY_MODEL_0e02d18494fa4cee8bcc0227ad26e871"
          }
        },
        "bebd4f8865ae41988ec18430213b8382": {
          "model_module": "@jupyter-widgets/controls",
          "model_name": "ProgressStyleModel",
          "state": {
            "_view_name": "StyleView",
            "_model_name": "ProgressStyleModel",
            "description_width": "",
            "_view_module": "@jupyter-widgets/base",
            "_model_module_version": "1.5.0",
            "_view_count": null,
            "_view_module_version": "1.2.0",
            "bar_color": null,
            "_model_module": "@jupyter-widgets/controls"
          }
        },
        "0e02d18494fa4cee8bcc0227ad26e871": {
          "model_module": "@jupyter-widgets/base",
          "model_name": "LayoutModel",
          "state": {
            "_view_name": "LayoutView",
            "grid_template_rows": null,
            "right": null,
            "justify_content": null,
            "_view_module": "@jupyter-widgets/base",
            "overflow": null,
            "_model_module_version": "1.2.0",
            "_view_count": null,
            "flex_flow": null,
            "width": null,
            "min_width": null,
            "border": null,
            "align_items": null,
            "bottom": null,
            "_model_module": "@jupyter-widgets/base",
            "top": null,
            "grid_column": null,
            "overflow_y": null,
            "overflow_x": null,
            "grid_auto_flow": null,
            "grid_area": null,
            "grid_template_columns": null,
            "flex": null,
            "_model_name": "LayoutModel",
            "justify_items": null,
            "grid_row": null,
            "max_height": null,
            "align_content": null,
            "visibility": null,
            "align_self": null,
            "height": null,
            "min_height": null,
            "padding": null,
            "grid_auto_rows": null,
            "grid_gap": null,
            "max_width": null,
            "order": null,
            "_view_module_version": "1.2.0",
            "grid_template_areas": null,
            "object_position": null,
            "object_fit": null,
            "grid_auto_columns": null,
            "margin": null,
            "display": null,
            "left": null
          }
        },
        "564815c56e2841b983e5f59829ef7f4a": {
          "model_module": "@jupyter-widgets/controls",
          "model_name": "IntProgressModel",
          "state": {
            "_view_name": "ProgressView",
            "style": "IPY_MODEL_465ad61b8fb142568f64a183710fce2c",
            "_dom_classes": [],
            "description": "Processing: ",
            "_model_name": "IntProgressModel",
            "bar_style": "",
            "max": 5,
            "_view_module": "@jupyter-widgets/controls",
            "_model_module_version": "1.5.0",
            "value": 5,
            "_view_count": null,
            "_view_module_version": "1.5.0",
            "orientation": "horizontal",
            "min": 0,
            "description_tooltip": null,
            "_model_module": "@jupyter-widgets/controls",
            "layout": "IPY_MODEL_b0ad2f77008a423ab635becc01c92a7c"
          }
        },
        "465ad61b8fb142568f64a183710fce2c": {
          "model_module": "@jupyter-widgets/controls",
          "model_name": "ProgressStyleModel",
          "state": {
            "_view_name": "StyleView",
            "_model_name": "ProgressStyleModel",
            "description_width": "",
            "_view_module": "@jupyter-widgets/base",
            "_model_module_version": "1.5.0",
            "_view_count": null,
            "_view_module_version": "1.2.0",
            "bar_color": null,
            "_model_module": "@jupyter-widgets/controls"
          }
        },
        "b0ad2f77008a423ab635becc01c92a7c": {
          "model_module": "@jupyter-widgets/base",
          "model_name": "LayoutModel",
          "state": {
            "_view_name": "LayoutView",
            "grid_template_rows": null,
            "right": null,
            "justify_content": null,
            "_view_module": "@jupyter-widgets/base",
            "overflow": null,
            "_model_module_version": "1.2.0",
            "_view_count": null,
            "flex_flow": null,
            "width": null,
            "min_width": null,
            "border": null,
            "align_items": null,
            "bottom": null,
            "_model_module": "@jupyter-widgets/base",
            "top": null,
            "grid_column": null,
            "overflow_y": null,
            "overflow_x": null,
            "grid_auto_flow": null,
            "grid_area": null,
            "grid_template_columns": null,
            "flex": null,
            "_model_name": "LayoutModel",
            "justify_items": null,
            "grid_row": null,
            "max_height": null,
            "align_content": null,
            "visibility": null,
            "align_self": null,
            "height": null,
            "min_height": null,
            "padding": null,
            "grid_auto_rows": null,
            "grid_gap": null,
            "max_width": null,
            "order": null,
            "_view_module_version": "1.2.0",
            "grid_template_areas": null,
            "object_position": null,
            "object_fit": null,
            "grid_auto_columns": null,
            "margin": null,
            "display": null,
            "left": null
          }
        },
        "63d75983efb941dd8748325043568094": {
          "model_module": "@jupyter-widgets/controls",
          "model_name": "IntProgressModel",
          "state": {
            "_view_name": "ProgressView",
            "style": "IPY_MODEL_9226244f0c224cdba9c4719c2c0fe69b",
            "_dom_classes": [],
            "description": "Processing: ",
            "_model_name": "IntProgressModel",
            "bar_style": "",
            "max": 5,
            "_view_module": "@jupyter-widgets/controls",
            "_model_module_version": "1.5.0",
            "value": 5,
            "_view_count": null,
            "_view_module_version": "1.5.0",
            "orientation": "horizontal",
            "min": 0,
            "description_tooltip": null,
            "_model_module": "@jupyter-widgets/controls",
            "layout": "IPY_MODEL_a772bcc716c34c28963a2c95e1c5d6bb"
          }
        },
        "a90ec4cb73de407185b4aa964fc0de8b": {
          "model_module": "@jupyter-widgets/controls",
          "model_name": "IntProgressModel",
          "state": {
            "_view_name": "ProgressView",
            "style": "IPY_MODEL_3081ca0df65b4858a3860d4783f8e302",
            "_dom_classes": [],
            "description": "Processing: ",
            "_model_name": "IntProgressModel",
            "bar_style": "",
            "max": 5,
            "_view_module": "@jupyter-widgets/controls",
            "_model_module_version": "1.5.0",
            "value": 5,
            "_view_count": null,
            "_view_module_version": "1.5.0",
            "orientation": "horizontal",
            "min": 0,
            "description_tooltip": null,
            "_model_module": "@jupyter-widgets/controls",
            "layout": "IPY_MODEL_d1c46b20581d411abd0dcef560554afa"
          }
        },
        "2ed817fcf7c7481ebcfbf902f34739e3": {
          "model_module": "@jupyter-widgets/controls",
          "model_name": "IntProgressModel",
          "state": {
            "_view_name": "ProgressView",
            "style": "IPY_MODEL_dedb8432f3f14cdf87161d0ff1e8746d",
            "_dom_classes": [],
            "description": "Processing: ",
            "_model_name": "IntProgressModel",
            "bar_style": "",
            "max": 5,
            "_view_module": "@jupyter-widgets/controls",
            "_model_module_version": "1.5.0",
            "value": 5,
            "_view_count": null,
            "_view_module_version": "1.5.0",
            "orientation": "horizontal",
            "min": 0,
            "description_tooltip": null,
            "_model_module": "@jupyter-widgets/controls",
            "layout": "IPY_MODEL_8468bcb8041b444aa169f26ece5828af"
          }
        },
        "dedb8432f3f14cdf87161d0ff1e8746d": {
          "model_module": "@jupyter-widgets/controls",
          "model_name": "ProgressStyleModel",
          "state": {
            "_view_name": "StyleView",
            "_model_name": "ProgressStyleModel",
            "description_width": "",
            "_view_module": "@jupyter-widgets/base",
            "_model_module_version": "1.5.0",
            "_view_count": null,
            "_view_module_version": "1.2.0",
            "bar_color": null,
            "_model_module": "@jupyter-widgets/controls"
          }
        },
        "8468bcb8041b444aa169f26ece5828af": {
          "model_module": "@jupyter-widgets/base",
          "model_name": "LayoutModel",
          "state": {
            "_view_name": "LayoutView",
            "grid_template_rows": null,
            "right": null,
            "justify_content": null,
            "_view_module": "@jupyter-widgets/base",
            "overflow": null,
            "_model_module_version": "1.2.0",
            "_view_count": null,
            "flex_flow": null,
            "width": null,
            "min_width": null,
            "border": null,
            "align_items": null,
            "bottom": null,
            "_model_module": "@jupyter-widgets/base",
            "top": null,
            "grid_column": null,
            "overflow_y": null,
            "overflow_x": null,
            "grid_auto_flow": null,
            "grid_area": null,
            "grid_template_columns": null,
            "flex": null,
            "_model_name": "LayoutModel",
            "justify_items": null,
            "grid_row": null,
            "max_height": null,
            "align_content": null,
            "visibility": null,
            "align_self": null,
            "height": null,
            "min_height": null,
            "padding": null,
            "grid_auto_rows": null,
            "grid_gap": null,
            "max_width": null,
            "order": null,
            "_view_module_version": "1.2.0",
            "grid_template_areas": null,
            "object_position": null,
            "object_fit": null,
            "grid_auto_columns": null,
            "margin": null,
            "display": null,
            "left": null
          }
        }
      }
    }
  },
  "cells": [
    {
      "cell_type": "markdown",
      "metadata": {
        "id": "Fv0F0fLLoPEy"
      },
      "source": [
        "## PyCaret: Anatomy of Classification"
      ]
    },
    {
      "cell_type": "markdown",
      "metadata": {
        "id": "LNH8SUlWoPEz"
      },
      "source": [
        "\n",
        "### Task 1: Import Data, Initial dataset check and setup Pycaret(install and set up environment)"
      ]
    },
    {
      "cell_type": "code",
      "metadata": {
        "id": "QCnq-mKcqyjk",
        "outputId": "c45d428f-26e1-44c5-a6eb-b33ed9366204",
        "colab": {
          "base_uri": "https://localhost:8080/",
          "height": 34
        }
      },
      "source": [
        "# Mounting Google Drive\n",
        "from google.colab import drive\n",
        "drive.mount(\"/content/gdrive\")"
      ],
      "execution_count": null,
      "outputs": [
        {
          "output_type": "stream",
          "text": [
            "Mounted at /content/gdrive\n"
          ],
          "name": "stdout"
        }
      ]
    },
    {
      "cell_type": "code",
      "metadata": {
        "id": "RjeH6xduoPE0"
      },
      "source": [
        "import pandas as pd"
      ],
      "execution_count": null,
      "outputs": []
    },
    {
      "cell_type": "code",
      "metadata": {
        "id": "UYSMIGlWtUf9",
        "outputId": "dd323095-40df-4fcd-c6c1-ad958ea8a310",
        "colab": {
          "resources": {
            "http://localhost:8080/nbextensions/google.colab/files.js": {
              "data": "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",
              "ok": true,
              "headers": [
                [
                  "content-type",
                  "application/javascript"
                ]
              ],
              "status": 200,
              "status_text": ""
            }
          },
          "base_uri": "https://localhost:8080/",
          "height": 72
        }
      },
      "source": [
        "# Importing Data from Local System\n",
        "from google.colab import files\n",
        "uploaded = files.upload()"
      ],
      "execution_count": null,
      "outputs": [
        {
          "output_type": "display_data",
          "data": {
            "text/html": [
              "\n",
              "     <input type=\"file\" id=\"files-d7a61c31-c036-4c83-9a51-7a2a102ec42a\" name=\"files[]\" multiple disabled\n",
              "        style=\"border:none\" />\n",
              "     <output id=\"result-d7a61c31-c036-4c83-9a51-7a2a102ec42a\">\n",
              "      Upload widget is only available when the cell has been executed in the\n",
              "      current browser session. Please rerun this cell to enable.\n",
              "      </output>\n",
              "      <script src=\"/nbextensions/google.colab/files.js\"></script> "
            ],
            "text/plain": [
              "<IPython.core.display.HTML object>"
            ]
          },
          "metadata": {
            "tags": []
          }
        },
        {
          "output_type": "stream",
          "text": [
            "Saving bank.csv to bank (2).csv\n"
          ],
          "name": "stdout"
        }
      ]
    },
    {
      "cell_type": "code",
      "metadata": {
        "id": "CjHRRr4ouL1L"
      },
      "source": [
        "# importing the data\n",
        "df1 = pd.read_csv('bank.csv', sep=\";\")"
      ],
      "execution_count": null,
      "outputs": []
    },
    {
      "cell_type": "code",
      "metadata": {
        "id": "G7iR5f2doPE4"
      },
      "source": [
        "# Original code\n",
        "# df1 = pd.read_csv('bank.csv', sep=\";\")"
      ],
      "execution_count": null,
      "outputs": []
    },
    {
      "cell_type": "code",
      "metadata": {
        "id": "8ZH_Mb-CoPE8",
        "outputId": "7c634fa9-2945-437e-daf0-27643d4032d0",
        "colab": {
          "base_uri": "https://localhost:8080/",
          "height": 204
        }
      },
      "source": [
        "df1.head()"
      ],
      "execution_count": null,
      "outputs": [
        {
          "output_type": "execute_result",
          "data": {
            "text/html": [
              "<div>\n",
              "<style scoped>\n",
              "    .dataframe tbody tr th:only-of-type {\n",
              "        vertical-align: middle;\n",
              "    }\n",
              "\n",
              "    .dataframe tbody tr th {\n",
              "        vertical-align: top;\n",
              "    }\n",
              "\n",
              "    .dataframe thead th {\n",
              "        text-align: right;\n",
              "    }\n",
              "</style>\n",
              "<table border=\"1\" class=\"dataframe\">\n",
              "  <thead>\n",
              "    <tr style=\"text-align: right;\">\n",
              "      <th></th>\n",
              "      <th>age</th>\n",
              "      <th>job</th>\n",
              "      <th>marital</th>\n",
              "      <th>education</th>\n",
              "      <th>default</th>\n",
              "      <th>balance</th>\n",
              "      <th>housing</th>\n",
              "      <th>loan</th>\n",
              "      <th>contact</th>\n",
              "      <th>day</th>\n",
              "      <th>month</th>\n",
              "      <th>duration</th>\n",
              "      <th>campaign</th>\n",
              "      <th>pdays</th>\n",
              "      <th>previous</th>\n",
              "      <th>poutcome</th>\n",
              "      <th>y</th>\n",
              "    </tr>\n",
              "  </thead>\n",
              "  <tbody>\n",
              "    <tr>\n",
              "      <th>0</th>\n",
              "      <td>30</td>\n",
              "      <td>unemployed</td>\n",
              "      <td>married</td>\n",
              "      <td>primary</td>\n",
              "      <td>no</td>\n",
              "      <td>1787</td>\n",
              "      <td>no</td>\n",
              "      <td>no</td>\n",
              "      <td>cellular</td>\n",
              "      <td>19</td>\n",
              "      <td>oct</td>\n",
              "      <td>79</td>\n",
              "      <td>1</td>\n",
              "      <td>-1</td>\n",
              "      <td>0</td>\n",
              "      <td>unknown</td>\n",
              "      <td>no</td>\n",
              "    </tr>\n",
              "    <tr>\n",
              "      <th>1</th>\n",
              "      <td>33</td>\n",
              "      <td>services</td>\n",
              "      <td>married</td>\n",
              "      <td>secondary</td>\n",
              "      <td>no</td>\n",
              "      <td>4789</td>\n",
              "      <td>yes</td>\n",
              "      <td>yes</td>\n",
              "      <td>cellular</td>\n",
              "      <td>11</td>\n",
              "      <td>may</td>\n",
              "      <td>220</td>\n",
              "      <td>1</td>\n",
              "      <td>339</td>\n",
              "      <td>4</td>\n",
              "      <td>failure</td>\n",
              "      <td>no</td>\n",
              "    </tr>\n",
              "    <tr>\n",
              "      <th>2</th>\n",
              "      <td>35</td>\n",
              "      <td>management</td>\n",
              "      <td>single</td>\n",
              "      <td>tertiary</td>\n",
              "      <td>no</td>\n",
              "      <td>1350</td>\n",
              "      <td>yes</td>\n",
              "      <td>no</td>\n",
              "      <td>cellular</td>\n",
              "      <td>16</td>\n",
              "      <td>apr</td>\n",
              "      <td>185</td>\n",
              "      <td>1</td>\n",
              "      <td>330</td>\n",
              "      <td>1</td>\n",
              "      <td>failure</td>\n",
              "      <td>no</td>\n",
              "    </tr>\n",
              "    <tr>\n",
              "      <th>3</th>\n",
              "      <td>30</td>\n",
              "      <td>management</td>\n",
              "      <td>married</td>\n",
              "      <td>tertiary</td>\n",
              "      <td>no</td>\n",
              "      <td>1476</td>\n",
              "      <td>yes</td>\n",
              "      <td>yes</td>\n",
              "      <td>unknown</td>\n",
              "      <td>3</td>\n",
              "      <td>jun</td>\n",
              "      <td>199</td>\n",
              "      <td>4</td>\n",
              "      <td>-1</td>\n",
              "      <td>0</td>\n",
              "      <td>unknown</td>\n",
              "      <td>no</td>\n",
              "    </tr>\n",
              "    <tr>\n",
              "      <th>4</th>\n",
              "      <td>59</td>\n",
              "      <td>blue-collar</td>\n",
              "      <td>married</td>\n",
              "      <td>secondary</td>\n",
              "      <td>no</td>\n",
              "      <td>0</td>\n",
              "      <td>yes</td>\n",
              "      <td>no</td>\n",
              "      <td>unknown</td>\n",
              "      <td>5</td>\n",
              "      <td>may</td>\n",
              "      <td>226</td>\n",
              "      <td>1</td>\n",
              "      <td>-1</td>\n",
              "      <td>0</td>\n",
              "      <td>unknown</td>\n",
              "      <td>no</td>\n",
              "    </tr>\n",
              "  </tbody>\n",
              "</table>\n",
              "</div>"
            ],
            "text/plain": [
              "   age          job  marital  education  ... pdays  previous poutcome   y\n",
              "0   30   unemployed  married    primary  ...    -1         0  unknown  no\n",
              "1   33     services  married  secondary  ...   339         4  failure  no\n",
              "2   35   management   single   tertiary  ...   330         1  failure  no\n",
              "3   30   management  married   tertiary  ...    -1         0  unknown  no\n",
              "4   59  blue-collar  married  secondary  ...    -1         0  unknown  no\n",
              "\n",
              "[5 rows x 17 columns]"
            ]
          },
          "metadata": {
            "tags": []
          },
          "execution_count": 23
        }
      ]
    },
    {
      "cell_type": "code",
      "metadata": {
        "id": "ZVmDQM2GoPFB",
        "outputId": "3e20e4d8-3189-40fc-f8b6-8bd27e4b813d",
        "colab": {
          "base_uri": "https://localhost:8080/",
          "height": 297
        }
      },
      "source": [
        "df1.describe()"
      ],
      "execution_count": null,
      "outputs": [
        {
          "output_type": "execute_result",
          "data": {
            "text/html": [
              "<div>\n",
              "<style scoped>\n",
              "    .dataframe tbody tr th:only-of-type {\n",
              "        vertical-align: middle;\n",
              "    }\n",
              "\n",
              "    .dataframe tbody tr th {\n",
              "        vertical-align: top;\n",
              "    }\n",
              "\n",
              "    .dataframe thead th {\n",
              "        text-align: right;\n",
              "    }\n",
              "</style>\n",
              "<table border=\"1\" class=\"dataframe\">\n",
              "  <thead>\n",
              "    <tr style=\"text-align: right;\">\n",
              "      <th></th>\n",
              "      <th>age</th>\n",
              "      <th>balance</th>\n",
              "      <th>day</th>\n",
              "      <th>duration</th>\n",
              "      <th>campaign</th>\n",
              "      <th>pdays</th>\n",
              "      <th>previous</th>\n",
              "    </tr>\n",
              "  </thead>\n",
              "  <tbody>\n",
              "    <tr>\n",
              "      <th>count</th>\n",
              "      <td>4521.000000</td>\n",
              "      <td>4521.000000</td>\n",
              "      <td>4521.000000</td>\n",
              "      <td>4521.000000</td>\n",
              "      <td>4521.000000</td>\n",
              "      <td>4521.000000</td>\n",
              "      <td>4521.000000</td>\n",
              "    </tr>\n",
              "    <tr>\n",
              "      <th>mean</th>\n",
              "      <td>41.170095</td>\n",
              "      <td>1422.657819</td>\n",
              "      <td>15.915284</td>\n",
              "      <td>263.961292</td>\n",
              "      <td>2.793630</td>\n",
              "      <td>39.766645</td>\n",
              "      <td>0.542579</td>\n",
              "    </tr>\n",
              "    <tr>\n",
              "      <th>std</th>\n",
              "      <td>10.576211</td>\n",
              "      <td>3009.638142</td>\n",
              "      <td>8.247667</td>\n",
              "      <td>259.856633</td>\n",
              "      <td>3.109807</td>\n",
              "      <td>100.121124</td>\n",
              "      <td>1.693562</td>\n",
              "    </tr>\n",
              "    <tr>\n",
              "      <th>min</th>\n",
              "      <td>19.000000</td>\n",
              "      <td>-3313.000000</td>\n",
              "      <td>1.000000</td>\n",
              "      <td>4.000000</td>\n",
              "      <td>1.000000</td>\n",
              "      <td>-1.000000</td>\n",
              "      <td>0.000000</td>\n",
              "    </tr>\n",
              "    <tr>\n",
              "      <th>25%</th>\n",
              "      <td>33.000000</td>\n",
              "      <td>69.000000</td>\n",
              "      <td>9.000000</td>\n",
              "      <td>104.000000</td>\n",
              "      <td>1.000000</td>\n",
              "      <td>-1.000000</td>\n",
              "      <td>0.000000</td>\n",
              "    </tr>\n",
              "    <tr>\n",
              "      <th>50%</th>\n",
              "      <td>39.000000</td>\n",
              "      <td>444.000000</td>\n",
              "      <td>16.000000</td>\n",
              "      <td>185.000000</td>\n",
              "      <td>2.000000</td>\n",
              "      <td>-1.000000</td>\n",
              "      <td>0.000000</td>\n",
              "    </tr>\n",
              "    <tr>\n",
              "      <th>75%</th>\n",
              "      <td>49.000000</td>\n",
              "      <td>1480.000000</td>\n",
              "      <td>21.000000</td>\n",
              "      <td>329.000000</td>\n",
              "      <td>3.000000</td>\n",
              "      <td>-1.000000</td>\n",
              "      <td>0.000000</td>\n",
              "    </tr>\n",
              "    <tr>\n",
              "      <th>max</th>\n",
              "      <td>87.000000</td>\n",
              "      <td>71188.000000</td>\n",
              "      <td>31.000000</td>\n",
              "      <td>3025.000000</td>\n",
              "      <td>50.000000</td>\n",
              "      <td>871.000000</td>\n",
              "      <td>25.000000</td>\n",
              "    </tr>\n",
              "  </tbody>\n",
              "</table>\n",
              "</div>"
            ],
            "text/plain": [
              "               age       balance  ...        pdays     previous\n",
              "count  4521.000000   4521.000000  ...  4521.000000  4521.000000\n",
              "mean     41.170095   1422.657819  ...    39.766645     0.542579\n",
              "std      10.576211   3009.638142  ...   100.121124     1.693562\n",
              "min      19.000000  -3313.000000  ...    -1.000000     0.000000\n",
              "25%      33.000000     69.000000  ...    -1.000000     0.000000\n",
              "50%      39.000000    444.000000  ...    -1.000000     0.000000\n",
              "75%      49.000000   1480.000000  ...    -1.000000     0.000000\n",
              "max      87.000000  71188.000000  ...   871.000000    25.000000\n",
              "\n",
              "[8 rows x 7 columns]"
            ]
          },
          "metadata": {
            "tags": []
          },
          "execution_count": 24
        }
      ]
    },
    {
      "cell_type": "code",
      "metadata": {
        "id": "hW_b5SkEoPFF",
        "outputId": "47e3dd20-2e7e-4e72-b1e9-a257cb342efc",
        "colab": {
          "base_uri": "https://localhost:8080/",
          "height": 425
        }
      },
      "source": [
        "#looking for any missing value in any feature\n",
        "df1.info()"
      ],
      "execution_count": null,
      "outputs": [
        {
          "output_type": "stream",
          "text": [
            "<class 'pandas.core.frame.DataFrame'>\n",
            "RangeIndex: 4521 entries, 0 to 4520\n",
            "Data columns (total 17 columns):\n",
            " #   Column     Non-Null Count  Dtype \n",
            "---  ------     --------------  ----- \n",
            " 0   age        4521 non-null   int64 \n",
            " 1   job        4521 non-null   object\n",
            " 2   marital    4521 non-null   object\n",
            " 3   education  4521 non-null   object\n",
            " 4   default    4521 non-null   object\n",
            " 5   balance    4521 non-null   int64 \n",
            " 6   housing    4521 non-null   object\n",
            " 7   loan       4521 non-null   object\n",
            " 8   contact    4521 non-null   object\n",
            " 9   day        4521 non-null   int64 \n",
            " 10  month      4521 non-null   object\n",
            " 11  duration   4521 non-null   int64 \n",
            " 12  campaign   4521 non-null   int64 \n",
            " 13  pdays      4521 non-null   int64 \n",
            " 14  previous   4521 non-null   int64 \n",
            " 15  poutcome   4521 non-null   object\n",
            " 16  y          4521 non-null   object\n",
            "dtypes: int64(7), object(10)\n",
            "memory usage: 600.6+ KB\n"
          ],
          "name": "stdout"
        }
      ]
    },
    {
      "cell_type": "code",
      "metadata": {
        "id": "1Co4YLB1oPFJ",
        "outputId": "4780ad2b-3db3-4951-ef3f-00361703cd70",
        "colab": {
          "base_uri": "https://localhost:8080/",
          "height": 390
        }
      },
      "source": [
        "#including categorical feautres as well\n",
        "df1.describe(include='all')"
      ],
      "execution_count": null,
      "outputs": [
        {
          "output_type": "execute_result",
          "data": {
            "text/html": [
              "<div>\n",
              "<style scoped>\n",
              "    .dataframe tbody tr th:only-of-type {\n",
              "        vertical-align: middle;\n",
              "    }\n",
              "\n",
              "    .dataframe tbody tr th {\n",
              "        vertical-align: top;\n",
              "    }\n",
              "\n",
              "    .dataframe thead th {\n",
              "        text-align: right;\n",
              "    }\n",
              "</style>\n",
              "<table border=\"1\" class=\"dataframe\">\n",
              "  <thead>\n",
              "    <tr style=\"text-align: right;\">\n",
              "      <th></th>\n",
              "      <th>age</th>\n",
              "      <th>job</th>\n",
              "      <th>marital</th>\n",
              "      <th>education</th>\n",
              "      <th>default</th>\n",
              "      <th>balance</th>\n",
              "      <th>housing</th>\n",
              "      <th>loan</th>\n",
              "      <th>contact</th>\n",
              "      <th>day</th>\n",
              "      <th>month</th>\n",
              "      <th>duration</th>\n",
              "      <th>campaign</th>\n",
              "      <th>pdays</th>\n",
              "      <th>previous</th>\n",
              "      <th>poutcome</th>\n",
              "      <th>y</th>\n",
              "    </tr>\n",
              "  </thead>\n",
              "  <tbody>\n",
              "    <tr>\n",
              "      <th>count</th>\n",
              "      <td>4521.000000</td>\n",
              "      <td>4521</td>\n",
              "      <td>4521</td>\n",
              "      <td>4521</td>\n",
              "      <td>4521</td>\n",
              "      <td>4521.000000</td>\n",
              "      <td>4521</td>\n",
              "      <td>4521</td>\n",
              "      <td>4521</td>\n",
              "      <td>4521.000000</td>\n",
              "      <td>4521</td>\n",
              "      <td>4521.000000</td>\n",
              "      <td>4521.000000</td>\n",
              "      <td>4521.000000</td>\n",
              "      <td>4521.000000</td>\n",
              "      <td>4521</td>\n",
              "      <td>4521</td>\n",
              "    </tr>\n",
              "    <tr>\n",
              "      <th>unique</th>\n",
              "      <td>NaN</td>\n",
              "      <td>12</td>\n",
              "      <td>3</td>\n",
              "      <td>4</td>\n",
              "      <td>2</td>\n",
              "      <td>NaN</td>\n",
              "      <td>2</td>\n",
              "      <td>2</td>\n",
              "      <td>3</td>\n",
              "      <td>NaN</td>\n",
              "      <td>12</td>\n",
              "      <td>NaN</td>\n",
              "      <td>NaN</td>\n",
              "      <td>NaN</td>\n",
              "      <td>NaN</td>\n",
              "      <td>4</td>\n",
              "      <td>2</td>\n",
              "    </tr>\n",
              "    <tr>\n",
              "      <th>top</th>\n",
              "      <td>NaN</td>\n",
              "      <td>management</td>\n",
              "      <td>married</td>\n",
              "      <td>secondary</td>\n",
              "      <td>no</td>\n",
              "      <td>NaN</td>\n",
              "      <td>yes</td>\n",
              "      <td>no</td>\n",
              "      <td>cellular</td>\n",
              "      <td>NaN</td>\n",
              "      <td>may</td>\n",
              "      <td>NaN</td>\n",
              "      <td>NaN</td>\n",
              "      <td>NaN</td>\n",
              "      <td>NaN</td>\n",
              "      <td>unknown</td>\n",
              "      <td>no</td>\n",
              "    </tr>\n",
              "    <tr>\n",
              "      <th>freq</th>\n",
              "      <td>NaN</td>\n",
              "      <td>969</td>\n",
              "      <td>2797</td>\n",
              "      <td>2306</td>\n",
              "      <td>4445</td>\n",
              "      <td>NaN</td>\n",
              "      <td>2559</td>\n",
              "      <td>3830</td>\n",
              "      <td>2896</td>\n",
              "      <td>NaN</td>\n",
              "      <td>1398</td>\n",
              "      <td>NaN</td>\n",
              "      <td>NaN</td>\n",
              "      <td>NaN</td>\n",
              "      <td>NaN</td>\n",
              "      <td>3705</td>\n",
              "      <td>4000</td>\n",
              "    </tr>\n",
              "    <tr>\n",
              "      <th>mean</th>\n",
              "      <td>41.170095</td>\n",
              "      <td>NaN</td>\n",
              "      <td>NaN</td>\n",
              "      <td>NaN</td>\n",
              "      <td>NaN</td>\n",
              "      <td>1422.657819</td>\n",
              "      <td>NaN</td>\n",
              "      <td>NaN</td>\n",
              "      <td>NaN</td>\n",
              "      <td>15.915284</td>\n",
              "      <td>NaN</td>\n",
              "      <td>263.961292</td>\n",
              "      <td>2.793630</td>\n",
              "      <td>39.766645</td>\n",
              "      <td>0.542579</td>\n",
              "      <td>NaN</td>\n",
              "      <td>NaN</td>\n",
              "    </tr>\n",
              "    <tr>\n",
              "      <th>std</th>\n",
              "      <td>10.576211</td>\n",
              "      <td>NaN</td>\n",
              "      <td>NaN</td>\n",
              "      <td>NaN</td>\n",
              "      <td>NaN</td>\n",
              "      <td>3009.638142</td>\n",
              "      <td>NaN</td>\n",
              "      <td>NaN</td>\n",
              "      <td>NaN</td>\n",
              "      <td>8.247667</td>\n",
              "      <td>NaN</td>\n",
              "      <td>259.856633</td>\n",
              "      <td>3.109807</td>\n",
              "      <td>100.121124</td>\n",
              "      <td>1.693562</td>\n",
              "      <td>NaN</td>\n",
              "      <td>NaN</td>\n",
              "    </tr>\n",
              "    <tr>\n",
              "      <th>min</th>\n",
              "      <td>19.000000</td>\n",
              "      <td>NaN</td>\n",
              "      <td>NaN</td>\n",
              "      <td>NaN</td>\n",
              "      <td>NaN</td>\n",
              "      <td>-3313.000000</td>\n",
              "      <td>NaN</td>\n",
              "      <td>NaN</td>\n",
              "      <td>NaN</td>\n",
              "      <td>1.000000</td>\n",
              "      <td>NaN</td>\n",
              "      <td>4.000000</td>\n",
              "      <td>1.000000</td>\n",
              "      <td>-1.000000</td>\n",
              "      <td>0.000000</td>\n",
              "      <td>NaN</td>\n",
              "      <td>NaN</td>\n",
              "    </tr>\n",
              "    <tr>\n",
              "      <th>25%</th>\n",
              "      <td>33.000000</td>\n",
              "      <td>NaN</td>\n",
              "      <td>NaN</td>\n",
              "      <td>NaN</td>\n",
              "      <td>NaN</td>\n",
              "      <td>69.000000</td>\n",
              "      <td>NaN</td>\n",
              "      <td>NaN</td>\n",
              "      <td>NaN</td>\n",
              "      <td>9.000000</td>\n",
              "      <td>NaN</td>\n",
              "      <td>104.000000</td>\n",
              "      <td>1.000000</td>\n",
              "      <td>-1.000000</td>\n",
              "      <td>0.000000</td>\n",
              "      <td>NaN</td>\n",
              "      <td>NaN</td>\n",
              "    </tr>\n",
              "    <tr>\n",
              "      <th>50%</th>\n",
              "      <td>39.000000</td>\n",
              "      <td>NaN</td>\n",
              "      <td>NaN</td>\n",
              "      <td>NaN</td>\n",
              "      <td>NaN</td>\n",
              "      <td>444.000000</td>\n",
              "      <td>NaN</td>\n",
              "      <td>NaN</td>\n",
              "      <td>NaN</td>\n",
              "      <td>16.000000</td>\n",
              "      <td>NaN</td>\n",
              "      <td>185.000000</td>\n",
              "      <td>2.000000</td>\n",
              "      <td>-1.000000</td>\n",
              "      <td>0.000000</td>\n",
              "      <td>NaN</td>\n",
              "      <td>NaN</td>\n",
              "    </tr>\n",
              "    <tr>\n",
              "      <th>75%</th>\n",
              "      <td>49.000000</td>\n",
              "      <td>NaN</td>\n",
              "      <td>NaN</td>\n",
              "      <td>NaN</td>\n",
              "      <td>NaN</td>\n",
              "      <td>1480.000000</td>\n",
              "      <td>NaN</td>\n",
              "      <td>NaN</td>\n",
              "      <td>NaN</td>\n",
              "      <td>21.000000</td>\n",
              "      <td>NaN</td>\n",
              "      <td>329.000000</td>\n",
              "      <td>3.000000</td>\n",
              "      <td>-1.000000</td>\n",
              "      <td>0.000000</td>\n",
              "      <td>NaN</td>\n",
              "      <td>NaN</td>\n",
              "    </tr>\n",
              "    <tr>\n",
              "      <th>max</th>\n",
              "      <td>87.000000</td>\n",
              "      <td>NaN</td>\n",
              "      <td>NaN</td>\n",
              "      <td>NaN</td>\n",
              "      <td>NaN</td>\n",
              "      <td>71188.000000</td>\n",
              "      <td>NaN</td>\n",
              "      <td>NaN</td>\n",
              "      <td>NaN</td>\n",
              "      <td>31.000000</td>\n",
              "      <td>NaN</td>\n",
              "      <td>3025.000000</td>\n",
              "      <td>50.000000</td>\n",
              "      <td>871.000000</td>\n",
              "      <td>25.000000</td>\n",
              "      <td>NaN</td>\n",
              "      <td>NaN</td>\n",
              "    </tr>\n",
              "  </tbody>\n",
              "</table>\n",
              "</div>"
            ],
            "text/plain": [
              "                age         job  marital  ...     previous poutcome     y\n",
              "count   4521.000000        4521     4521  ...  4521.000000     4521  4521\n",
              "unique          NaN          12        3  ...          NaN        4     2\n",
              "top             NaN  management  married  ...          NaN  unknown    no\n",
              "freq            NaN         969     2797  ...          NaN     3705  4000\n",
              "mean      41.170095         NaN      NaN  ...     0.542579      NaN   NaN\n",
              "std       10.576211         NaN      NaN  ...     1.693562      NaN   NaN\n",
              "min       19.000000         NaN      NaN  ...     0.000000      NaN   NaN\n",
              "25%       33.000000         NaN      NaN  ...     0.000000      NaN   NaN\n",
              "50%       39.000000         NaN      NaN  ...     0.000000      NaN   NaN\n",
              "75%       49.000000         NaN      NaN  ...     0.000000      NaN   NaN\n",
              "max       87.000000         NaN      NaN  ...    25.000000      NaN   NaN\n",
              "\n",
              "[11 rows x 17 columns]"
            ]
          },
          "metadata": {
            "tags": []
          },
          "execution_count": 26
        }
      ]
    },
    {
      "cell_type": "code",
      "metadata": {
        "id": "2xIByvHfoPFP",
        "outputId": "26d3cef4-f9a4-443c-e3ef-f4f7686c9a1b",
        "colab": {
          "base_uri": "https://localhost:8080/",
          "height": 1000
        }
      },
      "source": [
        "#latest version of PyCaret\n",
        "! pip install pycaret==2.0"
      ],
      "execution_count": null,
      "outputs": [
        {
          "output_type": "stream",
          "text": [
            "Collecting pycaret==2.0\n",
            "\u001b[?25l  Downloading https://files.pythonhosted.org/packages/91/ae/000d825af8f7d9ff86808600f220e7ad57a873987fd6119c87dc4c5b1d91/pycaret-2.0-py3-none-any.whl (255kB)\n",
            "\u001b[K     |████████████████████████████████| 256kB 5.5MB/s \n",
            "\u001b[?25hCollecting pyod\n",
            "\u001b[?25l  Downloading https://files.pythonhosted.org/packages/a3/4b/d2edd1e85b132d480feced17f044267b3e330391240779d78b1c3d378b24/pyod-0.8.3.tar.gz (96kB)\n",
            "\u001b[K     |████████████████████████████████| 102kB 8.7MB/s \n",
            "\u001b[?25hCollecting datefinder>=0.7.0\n",
            "  Downloading https://files.pythonhosted.org/packages/0c/4f/29524c9ca35d2ba1a8a3c6c895b90fc92525cf0fe357f747133890953ebe/datefinder-0.7.1-py2.py3-none-any.whl\n",
            "Requirement already satisfied: joblib in /usr/local/lib/python3.6/dist-packages (from pycaret==2.0) (0.17.0)\n",
            "Collecting yellowbrick>=1.0.1\n",
            "\u001b[?25l  Downloading https://files.pythonhosted.org/packages/1f/ad/ae6744ddb9c7053916bed95430152b9a41b7d410e16a1cc7cd744a611d90/yellowbrick-1.2-py3-none-any.whl (269kB)\n",
            "\u001b[K     |████████████████████████████████| 276kB 17.4MB/s \n",
            "\u001b[?25hRequirement already satisfied: xgboost>=0.90 in /usr/local/lib/python3.6/dist-packages (from pycaret==2.0) (0.90)\n",
            "Collecting catboost\n",
            "\u001b[?25l  Downloading https://files.pythonhosted.org/packages/52/39/128fff65072c8327371e3c594f3c826d29c85b21cb6485980353b168e0e4/catboost-0.24.2-cp36-none-manylinux1_x86_64.whl (66.1MB)\n",
            "\u001b[K     |████████████████████████████████| 66.2MB 60kB/s \n",
            "\u001b[?25hRequirement already satisfied: imbalanced-learn in /usr/local/lib/python3.6/dist-packages (from pycaret==2.0) (0.4.3)\n",
            "Requirement already satisfied: IPython in /usr/local/lib/python3.6/dist-packages (from pycaret==2.0) (5.5.0)\n",
            "Requirement already satisfied: seaborn in /usr/local/lib/python3.6/dist-packages (from pycaret==2.0) (0.11.0)\n",
            "Requirement already satisfied: matplotlib in /usr/local/lib/python3.6/dist-packages (from pycaret==2.0) (3.2.2)\n",
            "Requirement already satisfied: wordcloud in /usr/local/lib/python3.6/dist-packages (from pycaret==2.0) (1.5.0)\n",
            "Collecting scikit-learn>=0.23\n",
            "\u001b[?25l  Downloading https://files.pythonhosted.org/packages/5c/a1/273def87037a7fb010512bbc5901c31cfddfca8080bc63b42b26e3cc55b3/scikit_learn-0.23.2-cp36-cp36m-manylinux1_x86_64.whl (6.8MB)\n",
            "\u001b[K     |████████████████████████████████| 6.8MB 37.0MB/s \n",
            "\u001b[?25hCollecting pandas-profiling>=2.3.0\n",
            "\u001b[?25l  Downloading https://files.pythonhosted.org/packages/32/79/5d03ed1172e3e67a997a6a795bcdd2ab58f84851969d01a91455383795b6/pandas_profiling-2.9.0-py2.py3-none-any.whl (258kB)\n",
            "\u001b[K     |████████████████████████████████| 266kB 45.5MB/s \n",
            "\u001b[?25hRequirement already satisfied: plotly>=4.4.1 in /usr/local/lib/python3.6/dist-packages (from pycaret==2.0) (4.4.1)\n",
            "Collecting lightgbm>=2.3.1\n",
            "\u001b[?25l  Downloading https://files.pythonhosted.org/packages/25/47/f8ef524e15ff86f5246cb4e1cee200b747ddb2536429fa021cc5f17ea40a/lightgbm-3.0.0-py2.py3-none-manylinux1_x86_64.whl (1.7MB)\n",
            "\u001b[K     |████████████████████████████████| 1.8MB 39.6MB/s \n",
            "\u001b[?25hRequirement already satisfied: ipywidgets in /usr/local/lib/python3.6/dist-packages (from pycaret==2.0) (7.5.1)\n",
            "Collecting DateTime>=4.3\n",
            "\u001b[?25l  Downloading https://files.pythonhosted.org/packages/73/22/a5297f3a1f92468cc737f8ce7ba6e5f245fcfafeae810ba37bd1039ea01c/DateTime-4.3-py2.py3-none-any.whl (60kB)\n",
            "\u001b[K     |████████████████████████████████| 61kB 8.3MB/s \n",
            "\u001b[?25hCollecting mlflow\n",
            "\u001b[?25l  Downloading https://files.pythonhosted.org/packages/aa/2d/7fa1f6e310ded489d943ea20cd7977a9867cb8d81b526d9c9460ce4a5b39/mlflow-1.11.0-py3-none-any.whl (13.9MB)\n",
            "\u001b[K     |████████████████████████████████| 13.9MB 42.5MB/s \n",
            "\u001b[?25hRequirement already satisfied: gensim in /usr/local/lib/python3.6/dist-packages (from pycaret==2.0) (3.6.0)\n",
            "Requirement already satisfied: numpy>=1.17 in /usr/local/lib/python3.6/dist-packages (from pycaret==2.0) (1.18.5)\n",
            "Requirement already satisfied: spacy in /usr/local/lib/python3.6/dist-packages (from pycaret==2.0) (2.2.4)\n",
            "Requirement already satisfied: cufflinks>=0.17.0 in /usr/local/lib/python3.6/dist-packages (from pycaret==2.0) (0.17.3)\n",
            "Requirement already satisfied: mlxtend in /usr/local/lib/python3.6/dist-packages (from pycaret==2.0) (0.14.0)\n",
            "Requirement already satisfied: umap-learn in /usr/local/lib/python3.6/dist-packages (from pycaret==2.0) (0.4.6)\n",
            "Collecting kmodes>=0.10.1\n",
            "  Downloading https://files.pythonhosted.org/packages/b2/55/d8ec1ae1f7e1e202a8a4184c6852a3ee993b202b0459672c699d0ac18fc8/kmodes-0.10.2-py2.py3-none-any.whl\n",
            "Collecting pyLDAvis\n",
            "\u001b[?25l  Downloading https://files.pythonhosted.org/packages/a5/3a/af82e070a8a96e13217c8f362f9a73e82d61ac8fff3a2561946a97f96266/pyLDAvis-2.1.2.tar.gz (1.6MB)\n",
            "\u001b[K     |████████████████████████████████| 1.6MB 40.8MB/s \n",
            "\u001b[?25hRequirement already satisfied: textblob in /usr/local/lib/python3.6/dist-packages (from pycaret==2.0) (0.15.3)\n",
            "Requirement already satisfied: nltk in /usr/local/lib/python3.6/dist-packages (from pycaret==2.0) (3.2.5)\n",
            "Requirement already satisfied: pandas in /usr/local/lib/python3.6/dist-packages (from pycaret==2.0) (1.1.3)\n",
            "Collecting combo\n",
            "  Downloading https://files.pythonhosted.org/packages/0a/2a/61b6ac584e75d8df16dc27962aa5fe99d76b09da5b6710e83d4862c84001/combo-0.1.1.tar.gz\n",
            "Requirement already satisfied: numba>=0.35 in /usr/local/lib/python3.6/dist-packages (from pyod->pycaret==2.0) (0.48.0)\n",
            "Requirement already satisfied: scipy>=0.19.1 in /usr/local/lib/python3.6/dist-packages (from pyod->pycaret==2.0) (1.4.1)\n",
            "Requirement already satisfied: six in /usr/local/lib/python3.6/dist-packages (from pyod->pycaret==2.0) (1.15.0)\n",
            "Requirement already satisfied: statsmodels in /usr/local/lib/python3.6/dist-packages (from pyod->pycaret==2.0) (0.10.2)\n",
            "Collecting suod\n",
            "\u001b[?25l  Downloading https://files.pythonhosted.org/packages/a1/87/9170cabe1b5e10a7d095c0e28f2e30e7c1886a13f063de85d3cfacc06f4b/suod-0.0.4.tar.gz (2.1MB)\n",
            "\u001b[K     |████████████████████████████████| 2.1MB 34.8MB/s \n",
            "\u001b[?25hRequirement already satisfied: regex>=2017.02.08 in /usr/local/lib/python3.6/dist-packages (from datefinder>=0.7.0->pycaret==2.0) (2019.12.20)\n",
            "Requirement already satisfied: python-dateutil>=2.4.2 in /usr/local/lib/python3.6/dist-packages (from datefinder>=0.7.0->pycaret==2.0) (2.8.1)\n",
            "Requirement already satisfied: pytz in /usr/local/lib/python3.6/dist-packages (from datefinder>=0.7.0->pycaret==2.0) (2018.9)\n",
            "Requirement already satisfied: cycler>=0.10.0 in /usr/local/lib/python3.6/dist-packages (from yellowbrick>=1.0.1->pycaret==2.0) (0.10.0)\n",
            "Requirement already satisfied: graphviz in /usr/local/lib/python3.6/dist-packages (from catboost->pycaret==2.0) (0.10.1)\n",
            "Requirement already satisfied: decorator in /usr/local/lib/python3.6/dist-packages (from IPython->pycaret==2.0) (4.4.2)\n",
            "Requirement already satisfied: pickleshare in /usr/local/lib/python3.6/dist-packages (from IPython->pycaret==2.0) (0.7.5)\n",
            "Requirement already satisfied: pygments in /usr/local/lib/python3.6/dist-packages (from IPython->pycaret==2.0) (2.6.1)\n",
            "Requirement already satisfied: traitlets>=4.2 in /usr/local/lib/python3.6/dist-packages (from IPython->pycaret==2.0) (4.3.3)\n",
            "Requirement already satisfied: setuptools>=18.5 in /usr/local/lib/python3.6/dist-packages (from IPython->pycaret==2.0) (50.3.0)\n",
            "Requirement already satisfied: prompt-toolkit<2.0.0,>=1.0.4 in /usr/local/lib/python3.6/dist-packages (from IPython->pycaret==2.0) (1.0.18)\n",
            "Requirement already satisfied: pexpect; sys_platform != \"win32\" in /usr/local/lib/python3.6/dist-packages (from IPython->pycaret==2.0) (4.8.0)\n",
            "Requirement already satisfied: simplegeneric>0.8 in /usr/local/lib/python3.6/dist-packages (from IPython->pycaret==2.0) (0.8.1)\n",
            "Requirement already satisfied: pyparsing!=2.0.4,!=2.1.2,!=2.1.6,>=2.0.1 in /usr/local/lib/python3.6/dist-packages (from matplotlib->pycaret==2.0) (2.4.7)\n",
            "Requirement already satisfied: kiwisolver>=1.0.1 in /usr/local/lib/python3.6/dist-packages (from matplotlib->pycaret==2.0) (1.2.0)\n",
            "Requirement already satisfied: pillow in /usr/local/lib/python3.6/dist-packages (from wordcloud->pycaret==2.0) (7.0.0)\n",
            "Collecting threadpoolctl>=2.0.0\n",
            "  Downloading https://files.pythonhosted.org/packages/f7/12/ec3f2e203afa394a149911729357aa48affc59c20e2c1c8297a60f33f133/threadpoolctl-2.1.0-py3-none-any.whl\n",
            "Requirement already satisfied: jinja2>=2.11.1 in /usr/local/lib/python3.6/dist-packages (from pandas-profiling>=2.3.0->pycaret==2.0) (2.11.2)\n",
            "Collecting phik>=0.9.10\n",
            "\u001b[?25l  Downloading https://files.pythonhosted.org/packages/01/5a/7ef1c04ce62cd72f900c06298dc2385840550d5c653a0dbc19109a5477e6/phik-0.10.0-py3-none-any.whl (599kB)\n",
            "\u001b[K     |████████████████████████████████| 604kB 28.6MB/s \n",
            "\u001b[?25hCollecting htmlmin>=0.1.12\n",
            "  Downloading https://files.pythonhosted.org/packages/b3/e7/fcd59e12169de19f0131ff2812077f964c6b960e7c09804d30a7bf2ab461/htmlmin-0.1.12.tar.gz\n",
            "Collecting tangled-up-in-unicode>=0.0.6\n",
            "\u001b[?25l  Downloading https://files.pythonhosted.org/packages/4a/e2/e588ab9298d4989ce7fdb2b97d18aac878d99dbdc379a4476a09d9271b68/tangled_up_in_unicode-0.0.6-py3-none-any.whl (3.1MB)\n",
            "\u001b[K     |████████████████████████████████| 3.1MB 34.4MB/s \n",
            "\u001b[?25hCollecting visions[type_image_path]==0.5.0\n",
            "\u001b[?25l  Downloading https://files.pythonhosted.org/packages/26/e3/9416e94e767d59a86edcbcb8e1c8f42874d272c3b343676074879e9db0e0/visions-0.5.0-py3-none-any.whl (64kB)\n",
            "\u001b[K     |████████████████████████████████| 71kB 9.4MB/s \n",
            "\u001b[?25hCollecting tqdm>=4.43.0\n",
            "\u001b[?25l  Downloading https://files.pythonhosted.org/packages/93/3a/96b3dc293aa72443cf9627444c3c221a7ba34bb622e4d8bf1b5d4f2d9d08/tqdm-4.51.0-py2.py3-none-any.whl (70kB)\n",
            "\u001b[K     |████████████████████████████████| 71kB 8.8MB/s \n",
            "\u001b[?25hCollecting confuse>=1.0.0\n",
            "\u001b[?25l  Downloading https://files.pythonhosted.org/packages/b5/6d/bedc0d1068bd244cee05843313cbec6cebb9f01f925538269bababc6d887/confuse-1.3.0-py2.py3-none-any.whl (64kB)\n",
            "\u001b[K     |████████████████████████████████| 71kB 8.5MB/s \n",
            "\u001b[?25hRequirement already satisfied: requests>=2.23.0 in /usr/local/lib/python3.6/dist-packages (from pandas-profiling>=2.3.0->pycaret==2.0) (2.23.0)\n",
            "Requirement already satisfied: missingno>=0.4.2 in /usr/local/lib/python3.6/dist-packages (from pandas-profiling>=2.3.0->pycaret==2.0) (0.4.2)\n",
            "Requirement already satisfied: attrs>=19.3.0 in /usr/local/lib/python3.6/dist-packages (from pandas-profiling>=2.3.0->pycaret==2.0) (20.2.0)\n",
            "Requirement already satisfied: retrying>=1.3.3 in /usr/local/lib/python3.6/dist-packages (from plotly>=4.4.1->pycaret==2.0) (1.3.3)\n",
            "Requirement already satisfied: nbformat>=4.2.0 in /usr/local/lib/python3.6/dist-packages (from ipywidgets->pycaret==2.0) (5.0.8)\n",
            "Requirement already satisfied: widgetsnbextension~=3.5.0 in /usr/local/lib/python3.6/dist-packages (from ipywidgets->pycaret==2.0) (3.5.1)\n",
            "Requirement already satisfied: ipykernel>=4.5.1 in /usr/local/lib/python3.6/dist-packages (from ipywidgets->pycaret==2.0) (4.10.1)\n",
            "Collecting zope.interface\n",
            "\u001b[?25l  Downloading https://files.pythonhosted.org/packages/c5/89/1eb9dbb9e24f5e2c29ab1a88097b2f1333858aac3cd3cccc6c4c1c8ad867/zope.interface-5.1.2-cp36-cp36m-manylinux2010_x86_64.whl (236kB)\n",
            "\u001b[K     |████████████████████████████████| 245kB 34.5MB/s \n",
            "\u001b[?25hCollecting querystring-parser\n",
            "  Downloading https://files.pythonhosted.org/packages/88/6b/572b2590fd55114118bf08bde63c0a421dcc82d593700f3e2ad89908a8a9/querystring_parser-1.2.4-py2.py3-none-any.whl\n",
            "Requirement already satisfied: sqlparse in /usr/local/lib/python3.6/dist-packages (from mlflow->pycaret==2.0) (0.4.1)\n",
            "Collecting databricks-cli>=0.8.7\n",
            "\u001b[?25l  Downloading https://files.pythonhosted.org/packages/20/d9/01d0bda8d764be9e7448a41c34eec002e67e88e0d558b80d0ba922b4f7f0/databricks-cli-0.13.0.tar.gz (54kB)\n",
            "\u001b[K     |████████████████████████████████| 61kB 7.2MB/s \n",
            "\u001b[?25hRequirement already satisfied: protobuf>=3.6.0 in /usr/local/lib/python3.6/dist-packages (from mlflow->pycaret==2.0) (3.12.4)\n",
            "Collecting gorilla\n",
            "  Downloading https://files.pythonhosted.org/packages/e3/56/5a683944cbfc77e429c6f03c636ca50504a785f60ffae91ddd7f5f7bb520/gorilla-0.3.0-py2.py3-none-any.whl\n",
            "Collecting prometheus-flask-exporter\n",
            "  Downloading https://files.pythonhosted.org/packages/4c/d5/8a046d683c2cc084b6a502812827ede69b1064f95d93f94b83f809b21723/prometheus_flask_exporter-0.18.1.tar.gz\n",
            "Collecting gunicorn; platform_system != \"Windows\"\n",
            "\u001b[?25l  Downloading https://files.pythonhosted.org/packages/69/ca/926f7cd3a2014b16870086b2d0fdc84a9e49473c68a8dff8b57f7c156f43/gunicorn-20.0.4-py2.py3-none-any.whl (77kB)\n",
            "\u001b[K     |████████████████████████████████| 81kB 9.0MB/s \n",
            "\u001b[?25hCollecting gitpython>=2.1.0\n",
            "\u001b[?25l  Downloading https://files.pythonhosted.org/packages/24/d1/a7f8fe3df258549b303415157328bfcc63e9b11d06a7ad7a3327f3d32606/GitPython-3.1.11-py3-none-any.whl (159kB)\n",
            "\u001b[K     |████████████████████████████████| 163kB 46.2MB/s \n",
            "\u001b[?25hRequirement already satisfied: entrypoints in /usr/local/lib/python3.6/dist-packages (from mlflow->pycaret==2.0) (0.3)\n",
            "Requirement already satisfied: cloudpickle in /usr/local/lib/python3.6/dist-packages (from mlflow->pycaret==2.0) (1.3.0)\n",
            "Requirement already satisfied: click>=7.0 in /usr/local/lib/python3.6/dist-packages (from mlflow->pycaret==2.0) (7.1.2)\n",
            "Collecting azure-storage-blob>=12.0\n",
            "\u001b[?25l  Downloading https://files.pythonhosted.org/packages/b8/84/7e51b3e1156bcb89a20b9ec641d4fced4800aa79daac3a403898c32046be/azure_storage_blob-12.5.0-py2.py3-none-any.whl (326kB)\n",
            "\u001b[K     |████████████████████████████████| 327kB 36.5MB/s \n",
            "\u001b[?25hCollecting docker>=4.0.0\n",
            "\u001b[?25l  Downloading https://files.pythonhosted.org/packages/9e/8c/8d42dbd83679483db207535f4fb02dc84325fa78b290f057694b057fcd21/docker-4.3.1-py2.py3-none-any.whl (145kB)\n",
            "\u001b[K     |████████████████████████████████| 153kB 50.9MB/s \n",
            "\u001b[?25hCollecting alembic<=1.4.1\n",
            "\u001b[?25l  Downloading https://files.pythonhosted.org/packages/e0/e9/359dbb77c35c419df0aedeb1d53e71e7e3f438ff64a8fdb048c907404de3/alembic-1.4.1.tar.gz (1.1MB)\n",
            "\u001b[K     |████████████████████████████████| 1.1MB 36.4MB/s \n",
            "\u001b[?25hRequirement already satisfied: pyyaml in /usr/local/lib/python3.6/dist-packages (from mlflow->pycaret==2.0) (3.13)\n",
            "Requirement already satisfied: Flask in /usr/local/lib/python3.6/dist-packages (from mlflow->pycaret==2.0) (1.1.2)\n",
            "Collecting sqlalchemy<=1.3.13\n",
            "\u001b[?25l  Downloading https://files.pythonhosted.org/packages/af/47/35edeb0f86c0b44934c05d961c893e223ef27e79e1f53b5e6f14820ff553/SQLAlchemy-1.3.13.tar.gz (6.0MB)\n",
            "\u001b[K     |████████████████████████████████| 6.0MB 35.4MB/s \n",
            "\u001b[?25hRequirement already satisfied: smart-open>=1.2.1 in /usr/local/lib/python3.6/dist-packages (from gensim->pycaret==2.0) (3.0.0)\n",
            "Requirement already satisfied: preshed<3.1.0,>=3.0.2 in /usr/local/lib/python3.6/dist-packages (from spacy->pycaret==2.0) (3.0.2)\n",
            "Requirement already satisfied: thinc==7.4.0 in /usr/local/lib/python3.6/dist-packages (from spacy->pycaret==2.0) (7.4.0)\n",
            "Requirement already satisfied: wasabi<1.1.0,>=0.4.0 in /usr/local/lib/python3.6/dist-packages (from spacy->pycaret==2.0) (0.8.0)\n",
            "Requirement already satisfied: plac<1.2.0,>=0.9.6 in /usr/local/lib/python3.6/dist-packages (from spacy->pycaret==2.0) (1.1.3)\n",
            "Requirement already satisfied: blis<0.5.0,>=0.4.0 in /usr/local/lib/python3.6/dist-packages (from spacy->pycaret==2.0) (0.4.1)\n",
            "Requirement already satisfied: srsly<1.1.0,>=1.0.2 in /usr/local/lib/python3.6/dist-packages (from spacy->pycaret==2.0) (1.0.2)\n",
            "Requirement already satisfied: catalogue<1.1.0,>=0.0.7 in /usr/local/lib/python3.6/dist-packages (from spacy->pycaret==2.0) (1.0.0)\n",
            "Requirement already satisfied: cymem<2.1.0,>=2.0.2 in /usr/local/lib/python3.6/dist-packages (from spacy->pycaret==2.0) (2.0.3)\n",
            "Requirement already satisfied: murmurhash<1.1.0,>=0.28.0 in /usr/local/lib/python3.6/dist-packages (from spacy->pycaret==2.0) (1.0.2)\n",
            "Requirement already satisfied: colorlover>=0.2.1 in /usr/local/lib/python3.6/dist-packages (from cufflinks>=0.17.0->pycaret==2.0) (0.3.0)\n",
            "Requirement already satisfied: wheel>=0.23.0 in /usr/local/lib/python3.6/dist-packages (from pyLDAvis->pycaret==2.0) (0.35.1)\n",
            "Requirement already satisfied: numexpr in /usr/local/lib/python3.6/dist-packages (from pyLDAvis->pycaret==2.0) (2.7.1)\n",
            "Requirement already satisfied: pytest in /usr/local/lib/python3.6/dist-packages (from pyLDAvis->pycaret==2.0) (3.6.4)\n",
            "Requirement already satisfied: future in /usr/local/lib/python3.6/dist-packages (from pyLDAvis->pycaret==2.0) (0.16.0)\n",
            "Collecting funcy\n",
            "  Downloading https://files.pythonhosted.org/packages/66/89/479de0afbbfb98d1c4b887936808764627300208bb771fcd823403645a36/funcy-1.15-py2.py3-none-any.whl\n",
            "Requirement already satisfied: llvmlite<0.32.0,>=0.31.0dev0 in /usr/local/lib/python3.6/dist-packages (from numba>=0.35->pyod->pycaret==2.0) (0.31.0)\n",
            "Requirement already satisfied: patsy>=0.4.0 in /usr/local/lib/python3.6/dist-packages (from statsmodels->pyod->pycaret==2.0) (0.5.1)\n",
            "Requirement already satisfied: ipython-genutils in /usr/local/lib/python3.6/dist-packages (from traitlets>=4.2->IPython->pycaret==2.0) (0.2.0)\n",
            "Requirement already satisfied: wcwidth in /usr/local/lib/python3.6/dist-packages (from prompt-toolkit<2.0.0,>=1.0.4->IPython->pycaret==2.0) (0.2.5)\n",
            "Requirement already satisfied: ptyprocess>=0.5 in /usr/local/lib/python3.6/dist-packages (from pexpect; sys_platform != \"win32\"->IPython->pycaret==2.0) (0.6.0)\n",
            "Requirement already satisfied: MarkupSafe>=0.23 in /usr/local/lib/python3.6/dist-packages (from jinja2>=2.11.1->pandas-profiling>=2.3.0->pycaret==2.0) (1.1.1)\n",
            "Requirement already satisfied: networkx>=2.4 in /usr/local/lib/python3.6/dist-packages (from visions[type_image_path]==0.5.0->pandas-profiling>=2.3.0->pycaret==2.0) (2.5)\n",
            "Collecting imagehash; extra == \"type_image_path\"\n",
            "\u001b[?25l  Downloading https://files.pythonhosted.org/packages/1a/5d/cc81830be3c4705a46cdbca74439b67f1017881383ba0127c41c4cecb7b3/ImageHash-4.1.0.tar.gz (291kB)\n",
            "\u001b[K     |████████████████████████████████| 296kB 31.7MB/s \n",
            "\u001b[?25hRequirement already satisfied: chardet<4,>=3.0.2 in /usr/local/lib/python3.6/dist-packages (from requests>=2.23.0->pandas-profiling>=2.3.0->pycaret==2.0) (3.0.4)\n",
            "Requirement already satisfied: certifi>=2017.4.17 in /usr/local/lib/python3.6/dist-packages (from requests>=2.23.0->pandas-profiling>=2.3.0->pycaret==2.0) (2020.6.20)\n",
            "Requirement already satisfied: urllib3!=1.25.0,!=1.25.1,<1.26,>=1.21.1 in /usr/local/lib/python3.6/dist-packages (from requests>=2.23.0->pandas-profiling>=2.3.0->pycaret==2.0) (1.24.3)\n",
            "Requirement already satisfied: idna<3,>=2.5 in /usr/local/lib/python3.6/dist-packages (from requests>=2.23.0->pandas-profiling>=2.3.0->pycaret==2.0) (2.10)\n",
            "Requirement already satisfied: jupyter-core in /usr/local/lib/python3.6/dist-packages (from nbformat>=4.2.0->ipywidgets->pycaret==2.0) (4.6.3)\n",
            "Requirement already satisfied: jsonschema!=2.5.0,>=2.4 in /usr/local/lib/python3.6/dist-packages (from nbformat>=4.2.0->ipywidgets->pycaret==2.0) (2.6.0)\n",
            "Requirement already satisfied: notebook>=4.4.1 in /usr/local/lib/python3.6/dist-packages (from widgetsnbextension~=3.5.0->ipywidgets->pycaret==2.0) (5.3.1)\n",
            "Requirement already satisfied: jupyter-client in /usr/local/lib/python3.6/dist-packages (from ipykernel>=4.5.1->ipywidgets->pycaret==2.0) (5.3.5)\n",
            "Requirement already satisfied: tornado>=4.0 in /usr/local/lib/python3.6/dist-packages (from ipykernel>=4.5.1->ipywidgets->pycaret==2.0) (5.1.1)\n",
            "Requirement already satisfied: tabulate>=0.7.7 in /usr/local/lib/python3.6/dist-packages (from databricks-cli>=0.8.7->mlflow->pycaret==2.0) (0.8.7)\n",
            "Requirement already satisfied: prometheus_client in /usr/local/lib/python3.6/dist-packages (from prometheus-flask-exporter->mlflow->pycaret==2.0) (0.8.0)\n",
            "Collecting gitdb<5,>=4.0.1\n",
            "\u001b[?25l  Downloading https://files.pythonhosted.org/packages/48/11/d1800bca0a3bae820b84b7d813ad1eff15a48a64caea9c823fc8c1b119e8/gitdb-4.0.5-py3-none-any.whl (63kB)\n",
            "\u001b[K     |████████████████████████████████| 71kB 8.2MB/s \n",
            "\u001b[?25hCollecting msrest>=0.6.10\n",
            "\u001b[?25l  Downloading https://files.pythonhosted.org/packages/fa/f5/9e315fe8cb985b0ce052b34bcb767883dc739f46fadb62f05a7e6d6eedbe/msrest-0.6.19-py2.py3-none-any.whl (84kB)\n",
            "\u001b[K     |████████████████████████████████| 92kB 7.7MB/s \n",
            "\u001b[?25hCollecting azure-core<2.0.0,>=1.6.0\n",
            "\u001b[?25l  Downloading https://files.pythonhosted.org/packages/4c/fa/46974f4a7ad78b27e3eda8a573cc0c2508849f0d7d360b61c07cc5b46014/azure_core-1.8.2-py2.py3-none-any.whl (122kB)\n",
            "\u001b[K     |████████████████████████████████| 122kB 48.8MB/s \n",
            "\u001b[?25hCollecting cryptography>=2.1.4\n",
            "\u001b[?25l  Downloading https://files.pythonhosted.org/packages/4a/a8/904c6f56c6018fc0b860510a55ea6123d561d02157f9e0855301afa27749/cryptography-3.2-cp35-abi3-manylinux2010_x86_64.whl (2.6MB)\n",
            "\u001b[K     |████████████████████████████████| 2.7MB 33.6MB/s \n",
            "\u001b[?25hCollecting websocket-client>=0.32.0\n",
            "\u001b[?25l  Downloading https://files.pythonhosted.org/packages/4c/5f/f61b420143ed1c8dc69f9eaec5ff1ac36109d52c80de49d66e0c36c3dfdf/websocket_client-0.57.0-py2.py3-none-any.whl (200kB)\n",
            "\u001b[K     |████████████████████████████████| 204kB 32.7MB/s \n",
            "\u001b[?25hCollecting Mako\n",
            "\u001b[?25l  Downloading https://files.pythonhosted.org/packages/a6/37/0e706200d22172eb8fa17d68a7ae22dec7631a0a92266634fb518a88a5b2/Mako-1.1.3-py2.py3-none-any.whl (75kB)\n",
            "\u001b[K     |████████████████████████████████| 81kB 6.0MB/s \n",
            "\u001b[?25hCollecting python-editor>=0.3\n",
            "  Downloading https://files.pythonhosted.org/packages/c6/d3/201fc3abe391bbae6606e6f1d598c15d367033332bd54352b12f35513717/python_editor-1.0.4-py3-none-any.whl\n",
            "Requirement already satisfied: itsdangerous>=0.24 in /usr/local/lib/python3.6/dist-packages (from Flask->mlflow->pycaret==2.0) (1.1.0)\n",
            "Requirement already satisfied: Werkzeug>=0.15 in /usr/local/lib/python3.6/dist-packages (from Flask->mlflow->pycaret==2.0) (1.0.1)\n",
            "Requirement already satisfied: importlib-metadata>=0.20; python_version < \"3.8\" in /usr/local/lib/python3.6/dist-packages (from catalogue<1.1.0,>=0.0.7->spacy->pycaret==2.0) (2.0.0)\n",
            "Requirement already satisfied: atomicwrites>=1.0 in /usr/local/lib/python3.6/dist-packages (from pytest->pyLDAvis->pycaret==2.0) (1.4.0)\n",
            "Requirement already satisfied: pluggy<0.8,>=0.5 in /usr/local/lib/python3.6/dist-packages (from pytest->pyLDAvis->pycaret==2.0) (0.7.1)\n",
            "Requirement already satisfied: more-itertools>=4.0.0 in /usr/local/lib/python3.6/dist-packages (from pytest->pyLDAvis->pycaret==2.0) (8.5.0)\n",
            "Requirement already satisfied: py>=1.5.0 in /usr/local/lib/python3.6/dist-packages (from pytest->pyLDAvis->pycaret==2.0) (1.9.0)\n",
            "Requirement already satisfied: PyWavelets in /usr/local/lib/python3.6/dist-packages (from imagehash; extra == \"type_image_path\"->visions[type_image_path]==0.5.0->pandas-profiling>=2.3.0->pycaret==2.0) (1.1.1)\n",
            "Requirement already satisfied: Send2Trash in /usr/local/lib/python3.6/dist-packages (from notebook>=4.4.1->widgetsnbextension~=3.5.0->ipywidgets->pycaret==2.0) (1.5.0)\n",
            "Requirement already satisfied: nbconvert in /usr/local/lib/python3.6/dist-packages (from notebook>=4.4.1->widgetsnbextension~=3.5.0->ipywidgets->pycaret==2.0) (5.6.1)\n",
            "Requirement already satisfied: terminado>=0.8.1 in /usr/local/lib/python3.6/dist-packages (from notebook>=4.4.1->widgetsnbextension~=3.5.0->ipywidgets->pycaret==2.0) (0.9.1)\n",
            "Requirement already satisfied: pyzmq>=13 in /usr/local/lib/python3.6/dist-packages (from jupyter-client->ipykernel>=4.5.1->ipywidgets->pycaret==2.0) (19.0.2)\n",
            "Collecting smmap<4,>=3.0.1\n",
            "  Downloading https://files.pythonhosted.org/packages/b0/9a/4d409a6234eb940e6a78dfdfc66156e7522262f5f2fecca07dc55915952d/smmap-3.0.4-py2.py3-none-any.whl\n",
            "Requirement already satisfied: requests-oauthlib>=0.5.0 in /usr/local/lib/python3.6/dist-packages (from msrest>=0.6.10->azure-storage-blob>=12.0->mlflow->pycaret==2.0) (1.3.0)\n",
            "Collecting isodate>=0.6.0\n",
            "\u001b[?25l  Downloading https://files.pythonhosted.org/packages/9b/9f/b36f7774ff5ea8e428fdcfc4bb332c39ee5b9362ddd3d40d9516a55221b2/isodate-0.6.0-py2.py3-none-any.whl (45kB)\n",
            "\u001b[K     |████████████████████████████████| 51kB 4.6MB/s \n",
            "\u001b[?25hRequirement already satisfied: cffi!=1.11.3,>=1.8 in /usr/local/lib/python3.6/dist-packages (from cryptography>=2.1.4->azure-storage-blob>=12.0->mlflow->pycaret==2.0) (1.14.3)\n",
            "Requirement already satisfied: zipp>=0.5 in /usr/local/lib/python3.6/dist-packages (from importlib-metadata>=0.20; python_version < \"3.8\"->catalogue<1.1.0,>=0.0.7->spacy->pycaret==2.0) (3.3.1)\n",
            "Requirement already satisfied: testpath in /usr/local/lib/python3.6/dist-packages (from nbconvert->notebook>=4.4.1->widgetsnbextension~=3.5.0->ipywidgets->pycaret==2.0) (0.4.4)\n",
            "Requirement already satisfied: bleach in /usr/local/lib/python3.6/dist-packages (from nbconvert->notebook>=4.4.1->widgetsnbextension~=3.5.0->ipywidgets->pycaret==2.0) (3.2.1)\n",
            "Requirement already satisfied: pandocfilters>=1.4.1 in /usr/local/lib/python3.6/dist-packages (from nbconvert->notebook>=4.4.1->widgetsnbextension~=3.5.0->ipywidgets->pycaret==2.0) (1.4.2)\n",
            "Requirement already satisfied: defusedxml in /usr/local/lib/python3.6/dist-packages (from nbconvert->notebook>=4.4.1->widgetsnbextension~=3.5.0->ipywidgets->pycaret==2.0) (0.6.0)\n",
            "Requirement already satisfied: mistune<2,>=0.8.1 in /usr/local/lib/python3.6/dist-packages (from nbconvert->notebook>=4.4.1->widgetsnbextension~=3.5.0->ipywidgets->pycaret==2.0) (0.8.4)\n",
            "Requirement already satisfied: oauthlib>=3.0.0 in /usr/local/lib/python3.6/dist-packages (from requests-oauthlib>=0.5.0->msrest>=0.6.10->azure-storage-blob>=12.0->mlflow->pycaret==2.0) (3.1.0)\n",
            "Requirement already satisfied: pycparser in /usr/local/lib/python3.6/dist-packages (from cffi!=1.11.3,>=1.8->cryptography>=2.1.4->azure-storage-blob>=12.0->mlflow->pycaret==2.0) (2.20)\n",
            "Requirement already satisfied: webencodings in /usr/local/lib/python3.6/dist-packages (from bleach->nbconvert->notebook>=4.4.1->widgetsnbextension~=3.5.0->ipywidgets->pycaret==2.0) (0.5.1)\n",
            "Requirement already satisfied: packaging in /usr/local/lib/python3.6/dist-packages (from bleach->nbconvert->notebook>=4.4.1->widgetsnbextension~=3.5.0->ipywidgets->pycaret==2.0) (20.4)\n",
            "Building wheels for collected packages: pyod, pyLDAvis, combo, suod, htmlmin, databricks-cli, prometheus-flask-exporter, alembic, sqlalchemy, imagehash\n",
            "  Building wheel for pyod (setup.py) ... \u001b[?25l\u001b[?25hdone\n",
            "  Created wheel for pyod: filename=pyod-0.8.3-cp36-none-any.whl size=110349 sha256=6929c07a287047de71838347cb92a0109fafc3cbc0258902ad38673fbbb43010\n",
            "  Stored in directory: /root/.cache/pip/wheels/29/46/95/86facd235cce1d58ae6747ab1aea2b3742564325a66a60863a\n",
            "  Building wheel for pyLDAvis (setup.py) ... \u001b[?25l\u001b[?25hdone\n",
            "  Created wheel for pyLDAvis: filename=pyLDAvis-2.1.2-py2.py3-none-any.whl size=97712 sha256=1879f40616db8a22cd8e07d9a6f676a60896f1458d3e4f270d369150f76fb72e\n",
            "  Stored in directory: /root/.cache/pip/wheels/98/71/24/513a99e58bb6b8465bae4d2d5e9dba8f0bef8179e3051ac414\n",
            "  Building wheel for combo (setup.py) ... \u001b[?25l\u001b[?25hdone\n",
            "  Created wheel for combo: filename=combo-0.1.1-cp36-none-any.whl size=42113 sha256=b6318da7506ab040e3d03601bd6f883fa3143bff66becc7cd867174b2c5035c8\n",
            "  Stored in directory: /root/.cache/pip/wheels/55/ec/e5/a2331372c676c467e70c6646e646edf6997d5c4905b8c0f5e6\n",
            "  Building wheel for suod (setup.py) ... \u001b[?25l\u001b[?25hdone\n",
            "  Created wheel for suod: filename=suod-0.0.4-cp36-none-any.whl size=2167158 sha256=0609d819db8257cf63e99b36d79d92a53e25a5346e5092283997013205788591\n",
            "  Stored in directory: /root/.cache/pip/wheels/57/55/e5/a4fca65bba231f6d0115059b589148774b41faea25b3f2aa27\n",
            "  Building wheel for htmlmin (setup.py) ... \u001b[?25l\u001b[?25hdone\n",
            "  Created wheel for htmlmin: filename=htmlmin-0.1.12-cp36-none-any.whl size=27085 sha256=b806c93e4f667e1c1c08ba08d6d85b64ceaa9f5adc9b35d7939d281af5db09c8\n",
            "  Stored in directory: /root/.cache/pip/wheels/43/07/ac/7c5a9d708d65247ac1f94066cf1db075540b85716c30255459\n",
            "  Building wheel for databricks-cli (setup.py) ... \u001b[?25l\u001b[?25hdone\n",
            "  Created wheel for databricks-cli: filename=databricks_cli-0.13.0-cp36-none-any.whl size=100347 sha256=e67249cbfca36f9e3cdee571246c4582473c97819a38fab8da68c188731ece87\n",
            "  Stored in directory: /root/.cache/pip/wheels/d3/ba/45/11e7abe40b8e21f4aab12a3051e269b24d17f2b288bb7418d5\n",
            "  Building wheel for prometheus-flask-exporter (setup.py) ... \u001b[?25l\u001b[?25hdone\n",
            "  Created wheel for prometheus-flask-exporter: filename=prometheus_flask_exporter-0.18.1-cp36-none-any.whl size=17157 sha256=71cbe55477e0ea422c188a6564ecd53127b88e50f8b17181ca0fe7a44c956371\n",
            "  Stored in directory: /root/.cache/pip/wheels/b4/1f/b8/66bd9bc3a9d6c6987ff6c4dfeb6f1fe97b5a0e5ed5849c0437\n",
            "  Building wheel for alembic (setup.py) ... \u001b[?25l\u001b[?25hdone\n",
            "  Created wheel for alembic: filename=alembic-1.4.1-py2.py3-none-any.whl size=158155 sha256=787fd7057490f49904cf62817a2cd4529ee9eb87ab273bc5cfc99fa0b46556e9\n",
            "  Stored in directory: /root/.cache/pip/wheels/84/07/f7/12f7370ca47a66030c2edeedcc23dec26ea0ac22dcb4c4a0f3\n",
            "  Building wheel for sqlalchemy (setup.py) ... \u001b[?25l\u001b[?25hdone\n",
            "  Created wheel for sqlalchemy: filename=SQLAlchemy-1.3.13-cp36-cp36m-linux_x86_64.whl size=1217129 sha256=7df31a49983e81b37a91894e1257e2fd7eb963d3af622dc82ff38feb534859ad\n",
            "  Stored in directory: /root/.cache/pip/wheels/b3/35/98/4c9cb3fd63d21d5606b972dd70643769745adf60e622467b71\n",
            "  Building wheel for imagehash (setup.py) ... \u001b[?25l\u001b[?25hdone\n",
            "  Created wheel for imagehash: filename=ImageHash-4.1.0-py2.py3-none-any.whl size=291991 sha256=09f1ecafdbb9c6ca1d99c1022080995902626890ee35f52d1bba5e6cfb94bc77\n",
            "  Stored in directory: /root/.cache/pip/wheels/07/1c/dc/6831446f09feb8cc199ec73a0f2f0703253f6ae013a22f4be9\n",
            "Successfully built pyod pyLDAvis combo suod htmlmin databricks-cli prometheus-flask-exporter alembic sqlalchemy imagehash\n",
            "Installing collected packages: threadpoolctl, scikit-learn, combo, suod, pyod, datefinder, yellowbrick, catboost, phik, htmlmin, tangled-up-in-unicode, imagehash, visions, tqdm, confuse, pandas-profiling, lightgbm, zope.interface, DateTime, querystring-parser, databricks-cli, gorilla, prometheus-flask-exporter, gunicorn, smmap, gitdb, gitpython, isodate, msrest, azure-core, cryptography, azure-storage-blob, websocket-client, docker, sqlalchemy, Mako, python-editor, alembic, mlflow, kmodes, funcy, pyLDAvis, pycaret\n",
            "  Found existing installation: scikit-learn 0.22.2.post1\n",
            "    Uninstalling scikit-learn-0.22.2.post1:\n",
            "      Successfully uninstalled scikit-learn-0.22.2.post1\n",
            "  Found existing installation: yellowbrick 0.9.1\n",
            "    Uninstalling yellowbrick-0.9.1:\n",
            "      Successfully uninstalled yellowbrick-0.9.1\n",
            "  Found existing installation: tqdm 4.41.1\n",
            "    Uninstalling tqdm-4.41.1:\n",
            "      Successfully uninstalled tqdm-4.41.1\n",
            "  Found existing installation: pandas-profiling 1.4.1\n",
            "    Uninstalling pandas-profiling-1.4.1:\n",
            "      Successfully uninstalled pandas-profiling-1.4.1\n",
            "  Found existing installation: lightgbm 2.2.3\n",
            "    Uninstalling lightgbm-2.2.3:\n",
            "      Successfully uninstalled lightgbm-2.2.3\n",
            "  Found existing installation: SQLAlchemy 1.3.20\n",
            "    Uninstalling SQLAlchemy-1.3.20:\n",
            "      Successfully uninstalled SQLAlchemy-1.3.20\n",
            "Successfully installed DateTime-4.3 Mako-1.1.3 alembic-1.4.1 azure-core-1.8.2 azure-storage-blob-12.5.0 catboost-0.24.2 combo-0.1.1 confuse-1.3.0 cryptography-3.2 databricks-cli-0.13.0 datefinder-0.7.1 docker-4.3.1 funcy-1.15 gitdb-4.0.5 gitpython-3.1.11 gorilla-0.3.0 gunicorn-20.0.4 htmlmin-0.1.12 imagehash-4.1.0 isodate-0.6.0 kmodes-0.10.2 lightgbm-3.0.0 mlflow-1.11.0 msrest-0.6.19 pandas-profiling-2.9.0 phik-0.10.0 prometheus-flask-exporter-0.18.1 pyLDAvis-2.1.2 pycaret-2.0 pyod-0.8.3 python-editor-1.0.4 querystring-parser-1.2.4 scikit-learn-0.23.2 smmap-3.0.4 sqlalchemy-1.3.13 suod-0.0.4 tangled-up-in-unicode-0.0.6 threadpoolctl-2.1.0 tqdm-4.51.0 visions-0.5.0 websocket-client-0.57.0 yellowbrick-1.2 zope.interface-5.1.2\n"
          ],
          "name": "stdout"
        }
      ]
    },
    {
      "cell_type": "markdown",
      "metadata": {
        "id": "VkuXq6pIoPFV"
      },
      "source": [
        "#### Lonk to Classification Documention of PyCaret https://pycaret.org/classification/"
      ]
    },
    {
      "cell_type": "code",
      "metadata": {
        "id": "dRnGYkGLoPFW"
      },
      "source": [
        "#becuase we are working on classification task\n",
        "from pycaret.classification import *"
      ],
      "execution_count": null,
      "outputs": []
    },
    {
      "cell_type": "code",
      "metadata": {
        "id": "Q1fNqVf_oPFx",
        "outputId": "f5b68c7e-11ba-4613-9819-46dac9ca43c4",
        "colab": {
          "base_uri": "https://localhost:8080/",
          "height": 981,
          "referenced_widgets": [
            "0f7adb367e8c4830a2d279b5fd3136ae",
            "fed72abaa5d14dc8a0ddf09eabdda6ac",
            "bd83ff3596ae4bc786bc0ee9945cb14d",
            "5af254d3e7274d6a8a45f9be5a780230",
            "63384757c36047c582300f9624e107a6",
            "b864353e0f344272b8473773bac7c9b7"
          ]
        }
      },
      "source": [
        "#setting up the session\n",
        "# target: the output\n",
        "# sesion_id: to replicate our work easily\n",
        "# normalize_method: the method used to normalize the data if is required\n",
        "session_1 = setup(df1, target = 'y', session_id=123, log_experiment=False, normalize=True, normalize_method='zscore', \n",
        "                  transformation=True, transformation_method = 'quantile', experiment_name='bank_1')"
      ],
      "execution_count": null,
      "outputs": [
        {
          "output_type": "stream",
          "text": [
            "Setup Succesfully Completed!\n"
          ],
          "name": "stdout"
        },
        {
          "output_type": "display_data",
          "data": {
            "text/html": [
              "<style  type=\"text/css\" >\n",
              "#T_6b296d86_1845_11eb_932b_0242ac1c0002row15_col1,#T_6b296d86_1845_11eb_932b_0242ac1c0002row17_col1{\n",
              "            background-color:  lightgreen;\n",
              "        }</style><table id=\"T_6b296d86_1845_11eb_932b_0242ac1c0002\" ><thead>    <tr>        <th class=\"blank level0\" ></th>        <th class=\"col_heading level0 col0\" >Description</th>        <th class=\"col_heading level0 col1\" >Value</th>    </tr></thead><tbody>\n",
              "                <tr>\n",
              "                        <th id=\"T_6b296d86_1845_11eb_932b_0242ac1c0002level0_row0\" class=\"row_heading level0 row0\" >0</th>\n",
              "                        <td id=\"T_6b296d86_1845_11eb_932b_0242ac1c0002row0_col0\" class=\"data row0 col0\" >session_id</td>\n",
              "                        <td id=\"T_6b296d86_1845_11eb_932b_0242ac1c0002row0_col1\" class=\"data row0 col1\" >123</td>\n",
              "            </tr>\n",
              "            <tr>\n",
              "                        <th id=\"T_6b296d86_1845_11eb_932b_0242ac1c0002level0_row1\" class=\"row_heading level0 row1\" >1</th>\n",
              "                        <td id=\"T_6b296d86_1845_11eb_932b_0242ac1c0002row1_col0\" class=\"data row1 col0\" >Target Type</td>\n",
              "                        <td id=\"T_6b296d86_1845_11eb_932b_0242ac1c0002row1_col1\" class=\"data row1 col1\" >Binary</td>\n",
              "            </tr>\n",
              "            <tr>\n",
              "                        <th id=\"T_6b296d86_1845_11eb_932b_0242ac1c0002level0_row2\" class=\"row_heading level0 row2\" >2</th>\n",
              "                        <td id=\"T_6b296d86_1845_11eb_932b_0242ac1c0002row2_col0\" class=\"data row2 col0\" >Label Encoded</td>\n",
              "                        <td id=\"T_6b296d86_1845_11eb_932b_0242ac1c0002row2_col1\" class=\"data row2 col1\" >no: 0, yes: 1</td>\n",
              "            </tr>\n",
              "            <tr>\n",
              "                        <th id=\"T_6b296d86_1845_11eb_932b_0242ac1c0002level0_row3\" class=\"row_heading level0 row3\" >3</th>\n",
              "                        <td id=\"T_6b296d86_1845_11eb_932b_0242ac1c0002row3_col0\" class=\"data row3 col0\" >Original Data</td>\n",
              "                        <td id=\"T_6b296d86_1845_11eb_932b_0242ac1c0002row3_col1\" class=\"data row3 col1\" >(4521, 17)</td>\n",
              "            </tr>\n",
              "            <tr>\n",
              "                        <th id=\"T_6b296d86_1845_11eb_932b_0242ac1c0002level0_row4\" class=\"row_heading level0 row4\" >4</th>\n",
              "                        <td id=\"T_6b296d86_1845_11eb_932b_0242ac1c0002row4_col0\" class=\"data row4 col0\" >Missing Values </td>\n",
              "                        <td id=\"T_6b296d86_1845_11eb_932b_0242ac1c0002row4_col1\" class=\"data row4 col1\" >False</td>\n",
              "            </tr>\n",
              "            <tr>\n",
              "                        <th id=\"T_6b296d86_1845_11eb_932b_0242ac1c0002level0_row5\" class=\"row_heading level0 row5\" >5</th>\n",
              "                        <td id=\"T_6b296d86_1845_11eb_932b_0242ac1c0002row5_col0\" class=\"data row5 col0\" >Numeric Features </td>\n",
              "                        <td id=\"T_6b296d86_1845_11eb_932b_0242ac1c0002row5_col1\" class=\"data row5 col1\" >7</td>\n",
              "            </tr>\n",
              "            <tr>\n",
              "                        <th id=\"T_6b296d86_1845_11eb_932b_0242ac1c0002level0_row6\" class=\"row_heading level0 row6\" >6</th>\n",
              "                        <td id=\"T_6b296d86_1845_11eb_932b_0242ac1c0002row6_col0\" class=\"data row6 col0\" >Categorical Features </td>\n",
              "                        <td id=\"T_6b296d86_1845_11eb_932b_0242ac1c0002row6_col1\" class=\"data row6 col1\" >9</td>\n",
              "            </tr>\n",
              "            <tr>\n",
              "                        <th id=\"T_6b296d86_1845_11eb_932b_0242ac1c0002level0_row7\" class=\"row_heading level0 row7\" >7</th>\n",
              "                        <td id=\"T_6b296d86_1845_11eb_932b_0242ac1c0002row7_col0\" class=\"data row7 col0\" >Ordinal Features </td>\n",
              "                        <td id=\"T_6b296d86_1845_11eb_932b_0242ac1c0002row7_col1\" class=\"data row7 col1\" >False</td>\n",
              "            </tr>\n",
              "            <tr>\n",
              "                        <th id=\"T_6b296d86_1845_11eb_932b_0242ac1c0002level0_row8\" class=\"row_heading level0 row8\" >8</th>\n",
              "                        <td id=\"T_6b296d86_1845_11eb_932b_0242ac1c0002row8_col0\" class=\"data row8 col0\" >High Cardinality Features </td>\n",
              "                        <td id=\"T_6b296d86_1845_11eb_932b_0242ac1c0002row8_col1\" class=\"data row8 col1\" >False</td>\n",
              "            </tr>\n",
              "            <tr>\n",
              "                        <th id=\"T_6b296d86_1845_11eb_932b_0242ac1c0002level0_row9\" class=\"row_heading level0 row9\" >9</th>\n",
              "                        <td id=\"T_6b296d86_1845_11eb_932b_0242ac1c0002row9_col0\" class=\"data row9 col0\" >High Cardinality Method </td>\n",
              "                        <td id=\"T_6b296d86_1845_11eb_932b_0242ac1c0002row9_col1\" class=\"data row9 col1\" >None</td>\n",
              "            </tr>\n",
              "            <tr>\n",
              "                        <th id=\"T_6b296d86_1845_11eb_932b_0242ac1c0002level0_row10\" class=\"row_heading level0 row10\" >10</th>\n",
              "                        <td id=\"T_6b296d86_1845_11eb_932b_0242ac1c0002row10_col0\" class=\"data row10 col0\" >Sampled Data</td>\n",
              "                        <td id=\"T_6b296d86_1845_11eb_932b_0242ac1c0002row10_col1\" class=\"data row10 col1\" >(4521, 17)</td>\n",
              "            </tr>\n",
              "            <tr>\n",
              "                        <th id=\"T_6b296d86_1845_11eb_932b_0242ac1c0002level0_row11\" class=\"row_heading level0 row11\" >11</th>\n",
              "                        <td id=\"T_6b296d86_1845_11eb_932b_0242ac1c0002row11_col0\" class=\"data row11 col0\" >Transformed Train Set</td>\n",
              "                        <td id=\"T_6b296d86_1845_11eb_932b_0242ac1c0002row11_col1\" class=\"data row11 col1\" >(3164, 51)</td>\n",
              "            </tr>\n",
              "            <tr>\n",
              "                        <th id=\"T_6b296d86_1845_11eb_932b_0242ac1c0002level0_row12\" class=\"row_heading level0 row12\" >12</th>\n",
              "                        <td id=\"T_6b296d86_1845_11eb_932b_0242ac1c0002row12_col0\" class=\"data row12 col0\" >Transformed Test Set</td>\n",
              "                        <td id=\"T_6b296d86_1845_11eb_932b_0242ac1c0002row12_col1\" class=\"data row12 col1\" >(1357, 51)</td>\n",
              "            </tr>\n",
              "            <tr>\n",
              "                        <th id=\"T_6b296d86_1845_11eb_932b_0242ac1c0002level0_row13\" class=\"row_heading level0 row13\" >13</th>\n",
              "                        <td id=\"T_6b296d86_1845_11eb_932b_0242ac1c0002row13_col0\" class=\"data row13 col0\" >Numeric Imputer </td>\n",
              "                        <td id=\"T_6b296d86_1845_11eb_932b_0242ac1c0002row13_col1\" class=\"data row13 col1\" >mean</td>\n",
              "            </tr>\n",
              "            <tr>\n",
              "                        <th id=\"T_6b296d86_1845_11eb_932b_0242ac1c0002level0_row14\" class=\"row_heading level0 row14\" >14</th>\n",
              "                        <td id=\"T_6b296d86_1845_11eb_932b_0242ac1c0002row14_col0\" class=\"data row14 col0\" >Categorical Imputer </td>\n",
              "                        <td id=\"T_6b296d86_1845_11eb_932b_0242ac1c0002row14_col1\" class=\"data row14 col1\" >constant</td>\n",
              "            </tr>\n",
              "            <tr>\n",
              "                        <th id=\"T_6b296d86_1845_11eb_932b_0242ac1c0002level0_row15\" class=\"row_heading level0 row15\" >15</th>\n",
              "                        <td id=\"T_6b296d86_1845_11eb_932b_0242ac1c0002row15_col0\" class=\"data row15 col0\" >Normalize </td>\n",
              "                        <td id=\"T_6b296d86_1845_11eb_932b_0242ac1c0002row15_col1\" class=\"data row15 col1\" >True</td>\n",
              "            </tr>\n",
              "            <tr>\n",
              "                        <th id=\"T_6b296d86_1845_11eb_932b_0242ac1c0002level0_row16\" class=\"row_heading level0 row16\" >16</th>\n",
              "                        <td id=\"T_6b296d86_1845_11eb_932b_0242ac1c0002row16_col0\" class=\"data row16 col0\" >Normalize Method </td>\n",
              "                        <td id=\"T_6b296d86_1845_11eb_932b_0242ac1c0002row16_col1\" class=\"data row16 col1\" >zscore</td>\n",
              "            </tr>\n",
              "            <tr>\n",
              "                        <th id=\"T_6b296d86_1845_11eb_932b_0242ac1c0002level0_row17\" class=\"row_heading level0 row17\" >17</th>\n",
              "                        <td id=\"T_6b296d86_1845_11eb_932b_0242ac1c0002row17_col0\" class=\"data row17 col0\" >Transformation </td>\n",
              "                        <td id=\"T_6b296d86_1845_11eb_932b_0242ac1c0002row17_col1\" class=\"data row17 col1\" >True</td>\n",
              "            </tr>\n",
              "            <tr>\n",
              "                        <th id=\"T_6b296d86_1845_11eb_932b_0242ac1c0002level0_row18\" class=\"row_heading level0 row18\" >18</th>\n",
              "                        <td id=\"T_6b296d86_1845_11eb_932b_0242ac1c0002row18_col0\" class=\"data row18 col0\" >Transformation Method </td>\n",
              "                        <td id=\"T_6b296d86_1845_11eb_932b_0242ac1c0002row18_col1\" class=\"data row18 col1\" >quantile</td>\n",
              "            </tr>\n",
              "            <tr>\n",
              "                        <th id=\"T_6b296d86_1845_11eb_932b_0242ac1c0002level0_row19\" class=\"row_heading level0 row19\" >19</th>\n",
              "                        <td id=\"T_6b296d86_1845_11eb_932b_0242ac1c0002row19_col0\" class=\"data row19 col0\" >PCA </td>\n",
              "                        <td id=\"T_6b296d86_1845_11eb_932b_0242ac1c0002row19_col1\" class=\"data row19 col1\" >False</td>\n",
              "            </tr>\n",
              "            <tr>\n",
              "                        <th id=\"T_6b296d86_1845_11eb_932b_0242ac1c0002level0_row20\" class=\"row_heading level0 row20\" >20</th>\n",
              "                        <td id=\"T_6b296d86_1845_11eb_932b_0242ac1c0002row20_col0\" class=\"data row20 col0\" >PCA Method </td>\n",
              "                        <td id=\"T_6b296d86_1845_11eb_932b_0242ac1c0002row20_col1\" class=\"data row20 col1\" >None</td>\n",
              "            </tr>\n",
              "            <tr>\n",
              "                        <th id=\"T_6b296d86_1845_11eb_932b_0242ac1c0002level0_row21\" class=\"row_heading level0 row21\" >21</th>\n",
              "                        <td id=\"T_6b296d86_1845_11eb_932b_0242ac1c0002row21_col0\" class=\"data row21 col0\" >PCA Components </td>\n",
              "                        <td id=\"T_6b296d86_1845_11eb_932b_0242ac1c0002row21_col1\" class=\"data row21 col1\" >None</td>\n",
              "            </tr>\n",
              "            <tr>\n",
              "                        <th id=\"T_6b296d86_1845_11eb_932b_0242ac1c0002level0_row22\" class=\"row_heading level0 row22\" >22</th>\n",
              "                        <td id=\"T_6b296d86_1845_11eb_932b_0242ac1c0002row22_col0\" class=\"data row22 col0\" >Ignore Low Variance </td>\n",
              "                        <td id=\"T_6b296d86_1845_11eb_932b_0242ac1c0002row22_col1\" class=\"data row22 col1\" >False</td>\n",
              "            </tr>\n",
              "            <tr>\n",
              "                        <th id=\"T_6b296d86_1845_11eb_932b_0242ac1c0002level0_row23\" class=\"row_heading level0 row23\" >23</th>\n",
              "                        <td id=\"T_6b296d86_1845_11eb_932b_0242ac1c0002row23_col0\" class=\"data row23 col0\" >Combine Rare Levels </td>\n",
              "                        <td id=\"T_6b296d86_1845_11eb_932b_0242ac1c0002row23_col1\" class=\"data row23 col1\" >False</td>\n",
              "            </tr>\n",
              "            <tr>\n",
              "                        <th id=\"T_6b296d86_1845_11eb_932b_0242ac1c0002level0_row24\" class=\"row_heading level0 row24\" >24</th>\n",
              "                        <td id=\"T_6b296d86_1845_11eb_932b_0242ac1c0002row24_col0\" class=\"data row24 col0\" >Rare Level Threshold </td>\n",
              "                        <td id=\"T_6b296d86_1845_11eb_932b_0242ac1c0002row24_col1\" class=\"data row24 col1\" >None</td>\n",
              "            </tr>\n",
              "            <tr>\n",
              "                        <th id=\"T_6b296d86_1845_11eb_932b_0242ac1c0002level0_row25\" class=\"row_heading level0 row25\" >25</th>\n",
              "                        <td id=\"T_6b296d86_1845_11eb_932b_0242ac1c0002row25_col0\" class=\"data row25 col0\" >Numeric Binning </td>\n",
              "                        <td id=\"T_6b296d86_1845_11eb_932b_0242ac1c0002row25_col1\" class=\"data row25 col1\" >False</td>\n",
              "            </tr>\n",
              "            <tr>\n",
              "                        <th id=\"T_6b296d86_1845_11eb_932b_0242ac1c0002level0_row26\" class=\"row_heading level0 row26\" >26</th>\n",
              "                        <td id=\"T_6b296d86_1845_11eb_932b_0242ac1c0002row26_col0\" class=\"data row26 col0\" >Remove Outliers </td>\n",
              "                        <td id=\"T_6b296d86_1845_11eb_932b_0242ac1c0002row26_col1\" class=\"data row26 col1\" >False</td>\n",
              "            </tr>\n",
              "            <tr>\n",
              "                        <th id=\"T_6b296d86_1845_11eb_932b_0242ac1c0002level0_row27\" class=\"row_heading level0 row27\" >27</th>\n",
              "                        <td id=\"T_6b296d86_1845_11eb_932b_0242ac1c0002row27_col0\" class=\"data row27 col0\" >Outliers Threshold </td>\n",
              "                        <td id=\"T_6b296d86_1845_11eb_932b_0242ac1c0002row27_col1\" class=\"data row27 col1\" >None</td>\n",
              "            </tr>\n",
              "            <tr>\n",
              "                        <th id=\"T_6b296d86_1845_11eb_932b_0242ac1c0002level0_row28\" class=\"row_heading level0 row28\" >28</th>\n",
              "                        <td id=\"T_6b296d86_1845_11eb_932b_0242ac1c0002row28_col0\" class=\"data row28 col0\" >Remove Multicollinearity </td>\n",
              "                        <td id=\"T_6b296d86_1845_11eb_932b_0242ac1c0002row28_col1\" class=\"data row28 col1\" >False</td>\n",
              "            </tr>\n",
              "            <tr>\n",
              "                        <th id=\"T_6b296d86_1845_11eb_932b_0242ac1c0002level0_row29\" class=\"row_heading level0 row29\" >29</th>\n",
              "                        <td id=\"T_6b296d86_1845_11eb_932b_0242ac1c0002row29_col0\" class=\"data row29 col0\" >Multicollinearity Threshold </td>\n",
              "                        <td id=\"T_6b296d86_1845_11eb_932b_0242ac1c0002row29_col1\" class=\"data row29 col1\" >None</td>\n",
              "            </tr>\n",
              "            <tr>\n",
              "                        <th id=\"T_6b296d86_1845_11eb_932b_0242ac1c0002level0_row30\" class=\"row_heading level0 row30\" >30</th>\n",
              "                        <td id=\"T_6b296d86_1845_11eb_932b_0242ac1c0002row30_col0\" class=\"data row30 col0\" >Clustering </td>\n",
              "                        <td id=\"T_6b296d86_1845_11eb_932b_0242ac1c0002row30_col1\" class=\"data row30 col1\" >False</td>\n",
              "            </tr>\n",
              "            <tr>\n",
              "                        <th id=\"T_6b296d86_1845_11eb_932b_0242ac1c0002level0_row31\" class=\"row_heading level0 row31\" >31</th>\n",
              "                        <td id=\"T_6b296d86_1845_11eb_932b_0242ac1c0002row31_col0\" class=\"data row31 col0\" >Clustering Iteration </td>\n",
              "                        <td id=\"T_6b296d86_1845_11eb_932b_0242ac1c0002row31_col1\" class=\"data row31 col1\" >None</td>\n",
              "            </tr>\n",
              "            <tr>\n",
              "                        <th id=\"T_6b296d86_1845_11eb_932b_0242ac1c0002level0_row32\" class=\"row_heading level0 row32\" >32</th>\n",
              "                        <td id=\"T_6b296d86_1845_11eb_932b_0242ac1c0002row32_col0\" class=\"data row32 col0\" >Polynomial Features </td>\n",
              "                        <td id=\"T_6b296d86_1845_11eb_932b_0242ac1c0002row32_col1\" class=\"data row32 col1\" >False</td>\n",
              "            </tr>\n",
              "            <tr>\n",
              "                        <th id=\"T_6b296d86_1845_11eb_932b_0242ac1c0002level0_row33\" class=\"row_heading level0 row33\" >33</th>\n",
              "                        <td id=\"T_6b296d86_1845_11eb_932b_0242ac1c0002row33_col0\" class=\"data row33 col0\" >Polynomial Degree </td>\n",
              "                        <td id=\"T_6b296d86_1845_11eb_932b_0242ac1c0002row33_col1\" class=\"data row33 col1\" >None</td>\n",
              "            </tr>\n",
              "            <tr>\n",
              "                        <th id=\"T_6b296d86_1845_11eb_932b_0242ac1c0002level0_row34\" class=\"row_heading level0 row34\" >34</th>\n",
              "                        <td id=\"T_6b296d86_1845_11eb_932b_0242ac1c0002row34_col0\" class=\"data row34 col0\" >Trignometry Features </td>\n",
              "                        <td id=\"T_6b296d86_1845_11eb_932b_0242ac1c0002row34_col1\" class=\"data row34 col1\" >False</td>\n",
              "            </tr>\n",
              "            <tr>\n",
              "                        <th id=\"T_6b296d86_1845_11eb_932b_0242ac1c0002level0_row35\" class=\"row_heading level0 row35\" >35</th>\n",
              "                        <td id=\"T_6b296d86_1845_11eb_932b_0242ac1c0002row35_col0\" class=\"data row35 col0\" >Polynomial Threshold </td>\n",
              "                        <td id=\"T_6b296d86_1845_11eb_932b_0242ac1c0002row35_col1\" class=\"data row35 col1\" >None</td>\n",
              "            </tr>\n",
              "            <tr>\n",
              "                        <th id=\"T_6b296d86_1845_11eb_932b_0242ac1c0002level0_row36\" class=\"row_heading level0 row36\" >36</th>\n",
              "                        <td id=\"T_6b296d86_1845_11eb_932b_0242ac1c0002row36_col0\" class=\"data row36 col0\" >Group Features </td>\n",
              "                        <td id=\"T_6b296d86_1845_11eb_932b_0242ac1c0002row36_col1\" class=\"data row36 col1\" >False</td>\n",
              "            </tr>\n",
              "            <tr>\n",
              "                        <th id=\"T_6b296d86_1845_11eb_932b_0242ac1c0002level0_row37\" class=\"row_heading level0 row37\" >37</th>\n",
              "                        <td id=\"T_6b296d86_1845_11eb_932b_0242ac1c0002row37_col0\" class=\"data row37 col0\" >Feature Selection </td>\n",
              "                        <td id=\"T_6b296d86_1845_11eb_932b_0242ac1c0002row37_col1\" class=\"data row37 col1\" >False</td>\n",
              "            </tr>\n",
              "            <tr>\n",
              "                        <th id=\"T_6b296d86_1845_11eb_932b_0242ac1c0002level0_row38\" class=\"row_heading level0 row38\" >38</th>\n",
              "                        <td id=\"T_6b296d86_1845_11eb_932b_0242ac1c0002row38_col0\" class=\"data row38 col0\" >Features Selection Threshold </td>\n",
              "                        <td id=\"T_6b296d86_1845_11eb_932b_0242ac1c0002row38_col1\" class=\"data row38 col1\" >None</td>\n",
              "            </tr>\n",
              "            <tr>\n",
              "                        <th id=\"T_6b296d86_1845_11eb_932b_0242ac1c0002level0_row39\" class=\"row_heading level0 row39\" >39</th>\n",
              "                        <td id=\"T_6b296d86_1845_11eb_932b_0242ac1c0002row39_col0\" class=\"data row39 col0\" >Feature Interaction </td>\n",
              "                        <td id=\"T_6b296d86_1845_11eb_932b_0242ac1c0002row39_col1\" class=\"data row39 col1\" >False</td>\n",
              "            </tr>\n",
              "            <tr>\n",
              "                        <th id=\"T_6b296d86_1845_11eb_932b_0242ac1c0002level0_row40\" class=\"row_heading level0 row40\" >40</th>\n",
              "                        <td id=\"T_6b296d86_1845_11eb_932b_0242ac1c0002row40_col0\" class=\"data row40 col0\" >Feature Ratio </td>\n",
              "                        <td id=\"T_6b296d86_1845_11eb_932b_0242ac1c0002row40_col1\" class=\"data row40 col1\" >False</td>\n",
              "            </tr>\n",
              "            <tr>\n",
              "                        <th id=\"T_6b296d86_1845_11eb_932b_0242ac1c0002level0_row41\" class=\"row_heading level0 row41\" >41</th>\n",
              "                        <td id=\"T_6b296d86_1845_11eb_932b_0242ac1c0002row41_col0\" class=\"data row41 col0\" >Interaction Threshold </td>\n",
              "                        <td id=\"T_6b296d86_1845_11eb_932b_0242ac1c0002row41_col1\" class=\"data row41 col1\" >None</td>\n",
              "            </tr>\n",
              "            <tr>\n",
              "                        <th id=\"T_6b296d86_1845_11eb_932b_0242ac1c0002level0_row42\" class=\"row_heading level0 row42\" >42</th>\n",
              "                        <td id=\"T_6b296d86_1845_11eb_932b_0242ac1c0002row42_col0\" class=\"data row42 col0\" >Fix Imbalance</td>\n",
              "                        <td id=\"T_6b296d86_1845_11eb_932b_0242ac1c0002row42_col1\" class=\"data row42 col1\" >False</td>\n",
              "            </tr>\n",
              "            <tr>\n",
              "                        <th id=\"T_6b296d86_1845_11eb_932b_0242ac1c0002level0_row43\" class=\"row_heading level0 row43\" >43</th>\n",
              "                        <td id=\"T_6b296d86_1845_11eb_932b_0242ac1c0002row43_col0\" class=\"data row43 col0\" >Fix Imbalance Method</td>\n",
              "                        <td id=\"T_6b296d86_1845_11eb_932b_0242ac1c0002row43_col1\" class=\"data row43 col1\" >SMOTE</td>\n",
              "            </tr>\n",
              "    </tbody></table>"
            ],
            "text/plain": [
              "<pandas.io.formats.style.Styler at 0x7f136f03e5c0>"
            ]
          },
          "metadata": {
            "tags": []
          }
        }
      ]
    },
    {
      "cell_type": "markdown",
      "metadata": {
        "id": "oS3KJNKkoPF3"
      },
      "source": [
        "### Task 2: Compare model performance"
      ]
    },
    {
      "cell_type": "code",
      "metadata": {
        "id": "loesgF-foPF3",
        "outputId": "115e39b0-be81-4454-f809-f90b3cf1e812",
        "colab": {
          "base_uri": "https://localhost:8080/",
          "height": 334,
          "referenced_widgets": [
            "008f986130314e4cb44d5f510a4feb0d",
            "dff167aed6084845b6dd2fea9cfaf446",
            "00a7eb3652ee453199af3368ba784726"
          ]
        }
      },
      "source": [
        "#comparing for best performing models, fold set to 4, by default it runs a 10 fold Cv.\n",
        "# blacklist parameter is used to exclude models\n",
        "# The best model perfomance has the higher accuracy\n",
        "# In this case, the best two are 'Extreme Gradient Boosting' and 'Gradient Boosting Classifier'.\n",
        "best_model = compare_models(blacklist=['catboost'], fold=4)"
      ],
      "execution_count": null,
      "outputs": [
        {
          "output_type": "display_data",
          "data": {
            "text/html": [
              "<style  type=\"text/css\" >\n",
              "    #T_8dac6fca_1845_11eb_932b_0242ac1c0002 th {\n",
              "          text-align: left;\n",
              "    }#T_8dac6fca_1845_11eb_932b_0242ac1c0002row0_col0,#T_8dac6fca_1845_11eb_932b_0242ac1c0002row0_col2,#T_8dac6fca_1845_11eb_932b_0242ac1c0002row0_col3,#T_8dac6fca_1845_11eb_932b_0242ac1c0002row0_col5,#T_8dac6fca_1845_11eb_932b_0242ac1c0002row0_col6,#T_8dac6fca_1845_11eb_932b_0242ac1c0002row0_col7,#T_8dac6fca_1845_11eb_932b_0242ac1c0002row1_col0,#T_8dac6fca_1845_11eb_932b_0242ac1c0002row1_col1,#T_8dac6fca_1845_11eb_932b_0242ac1c0002row1_col3,#T_8dac6fca_1845_11eb_932b_0242ac1c0002row1_col4,#T_8dac6fca_1845_11eb_932b_0242ac1c0002row1_col5,#T_8dac6fca_1845_11eb_932b_0242ac1c0002row1_col6,#T_8dac6fca_1845_11eb_932b_0242ac1c0002row1_col7,#T_8dac6fca_1845_11eb_932b_0242ac1c0002row2_col0,#T_8dac6fca_1845_11eb_932b_0242ac1c0002row2_col1,#T_8dac6fca_1845_11eb_932b_0242ac1c0002row2_col2,#T_8dac6fca_1845_11eb_932b_0242ac1c0002row2_col3,#T_8dac6fca_1845_11eb_932b_0242ac1c0002row2_col4,#T_8dac6fca_1845_11eb_932b_0242ac1c0002row3_col0,#T_8dac6fca_1845_11eb_932b_0242ac1c0002row3_col1,#T_8dac6fca_1845_11eb_932b_0242ac1c0002row3_col2,#T_8dac6fca_1845_11eb_932b_0242ac1c0002row3_col3,#T_8dac6fca_1845_11eb_932b_0242ac1c0002row3_col4,#T_8dac6fca_1845_11eb_932b_0242ac1c0002row3_col5,#T_8dac6fca_1845_11eb_932b_0242ac1c0002row3_col6,#T_8dac6fca_1845_11eb_932b_0242ac1c0002row3_col7,#T_8dac6fca_1845_11eb_932b_0242ac1c0002row4_col0,#T_8dac6fca_1845_11eb_932b_0242ac1c0002row4_col1,#T_8dac6fca_1845_11eb_932b_0242ac1c0002row4_col2,#T_8dac6fca_1845_11eb_932b_0242ac1c0002row4_col3,#T_8dac6fca_1845_11eb_932b_0242ac1c0002row4_col4,#T_8dac6fca_1845_11eb_932b_0242ac1c0002row4_col5,#T_8dac6fca_1845_11eb_932b_0242ac1c0002row4_col6,#T_8dac6fca_1845_11eb_932b_0242ac1c0002row4_col7,#T_8dac6fca_1845_11eb_932b_0242ac1c0002row5_col0,#T_8dac6fca_1845_11eb_932b_0242ac1c0002row5_col1,#T_8dac6fca_1845_11eb_932b_0242ac1c0002row5_col2,#T_8dac6fca_1845_11eb_932b_0242ac1c0002row5_col3,#T_8dac6fca_1845_11eb_932b_0242ac1c0002row5_col4,#T_8dac6fca_1845_11eb_932b_0242ac1c0002row5_col5,#T_8dac6fca_1845_11eb_932b_0242ac1c0002row5_col6,#T_8dac6fca_1845_11eb_932b_0242ac1c0002row5_col7,#T_8dac6fca_1845_11eb_932b_0242ac1c0002row6_col0,#T_8dac6fca_1845_11eb_932b_0242ac1c0002row6_col1,#T_8dac6fca_1845_11eb_932b_0242ac1c0002row6_col2,#T_8dac6fca_1845_11eb_932b_0242ac1c0002row6_col3,#T_8dac6fca_1845_11eb_932b_0242ac1c0002row6_col4,#T_8dac6fca_1845_11eb_932b_0242ac1c0002row6_col5,#T_8dac6fca_1845_11eb_932b_0242ac1c0002row6_col6,#T_8dac6fca_1845_11eb_932b_0242ac1c0002row6_col7,#T_8dac6fca_1845_11eb_932b_0242ac1c0002row7_col0,#T_8dac6fca_1845_11eb_932b_0242ac1c0002row7_col1,#T_8dac6fca_1845_11eb_932b_0242ac1c0002row7_col2,#T_8dac6fca_1845_11eb_932b_0242ac1c0002row7_col3,#T_8dac6fca_1845_11eb_932b_0242ac1c0002row7_col4,#T_8dac6fca_1845_11eb_932b_0242ac1c0002row7_col5,#T_8dac6fca_1845_11eb_932b_0242ac1c0002row7_col6,#T_8dac6fca_1845_11eb_932b_0242ac1c0002row7_col7,#T_8dac6fca_1845_11eb_932b_0242ac1c0002row8_col0,#T_8dac6fca_1845_11eb_932b_0242ac1c0002row8_col1,#T_8dac6fca_1845_11eb_932b_0242ac1c0002row8_col2,#T_8dac6fca_1845_11eb_932b_0242ac1c0002row8_col3,#T_8dac6fca_1845_11eb_932b_0242ac1c0002row8_col4,#T_8dac6fca_1845_11eb_932b_0242ac1c0002row8_col5,#T_8dac6fca_1845_11eb_932b_0242ac1c0002row8_col6,#T_8dac6fca_1845_11eb_932b_0242ac1c0002row8_col7,#T_8dac6fca_1845_11eb_932b_0242ac1c0002row9_col0,#T_8dac6fca_1845_11eb_932b_0242ac1c0002row9_col1,#T_8dac6fca_1845_11eb_932b_0242ac1c0002row9_col2,#T_8dac6fca_1845_11eb_932b_0242ac1c0002row9_col3,#T_8dac6fca_1845_11eb_932b_0242ac1c0002row9_col4,#T_8dac6fca_1845_11eb_932b_0242ac1c0002row9_col5,#T_8dac6fca_1845_11eb_932b_0242ac1c0002row9_col6,#T_8dac6fca_1845_11eb_932b_0242ac1c0002row9_col7,#T_8dac6fca_1845_11eb_932b_0242ac1c0002row10_col0,#T_8dac6fca_1845_11eb_932b_0242ac1c0002row10_col1,#T_8dac6fca_1845_11eb_932b_0242ac1c0002row10_col2,#T_8dac6fca_1845_11eb_932b_0242ac1c0002row10_col3,#T_8dac6fca_1845_11eb_932b_0242ac1c0002row10_col4,#T_8dac6fca_1845_11eb_932b_0242ac1c0002row10_col5,#T_8dac6fca_1845_11eb_932b_0242ac1c0002row10_col6,#T_8dac6fca_1845_11eb_932b_0242ac1c0002row10_col7,#T_8dac6fca_1845_11eb_932b_0242ac1c0002row11_col0,#T_8dac6fca_1845_11eb_932b_0242ac1c0002row11_col1,#T_8dac6fca_1845_11eb_932b_0242ac1c0002row11_col2,#T_8dac6fca_1845_11eb_932b_0242ac1c0002row11_col3,#T_8dac6fca_1845_11eb_932b_0242ac1c0002row11_col4,#T_8dac6fca_1845_11eb_932b_0242ac1c0002row11_col5,#T_8dac6fca_1845_11eb_932b_0242ac1c0002row11_col6,#T_8dac6fca_1845_11eb_932b_0242ac1c0002row11_col7,#T_8dac6fca_1845_11eb_932b_0242ac1c0002row12_col0,#T_8dac6fca_1845_11eb_932b_0242ac1c0002row12_col1,#T_8dac6fca_1845_11eb_932b_0242ac1c0002row12_col2,#T_8dac6fca_1845_11eb_932b_0242ac1c0002row12_col4,#T_8dac6fca_1845_11eb_932b_0242ac1c0002row12_col5,#T_8dac6fca_1845_11eb_932b_0242ac1c0002row12_col6,#T_8dac6fca_1845_11eb_932b_0242ac1c0002row12_col7,#T_8dac6fca_1845_11eb_932b_0242ac1c0002row13_col0,#T_8dac6fca_1845_11eb_932b_0242ac1c0002row13_col1,#T_8dac6fca_1845_11eb_932b_0242ac1c0002row13_col2,#T_8dac6fca_1845_11eb_932b_0242ac1c0002row13_col3,#T_8dac6fca_1845_11eb_932b_0242ac1c0002row13_col4,#T_8dac6fca_1845_11eb_932b_0242ac1c0002row13_col5,#T_8dac6fca_1845_11eb_932b_0242ac1c0002row13_col6,#T_8dac6fca_1845_11eb_932b_0242ac1c0002row13_col7{\n",
              "            text-align:  left;\n",
              "        }#T_8dac6fca_1845_11eb_932b_0242ac1c0002row0_col1,#T_8dac6fca_1845_11eb_932b_0242ac1c0002row0_col4,#T_8dac6fca_1845_11eb_932b_0242ac1c0002row1_col2,#T_8dac6fca_1845_11eb_932b_0242ac1c0002row2_col5,#T_8dac6fca_1845_11eb_932b_0242ac1c0002row2_col6,#T_8dac6fca_1845_11eb_932b_0242ac1c0002row2_col7,#T_8dac6fca_1845_11eb_932b_0242ac1c0002row12_col3{\n",
              "            background-color:  yellow;\n",
              "            text-align:  left;\n",
              "        }#T_8dac6fca_1845_11eb_932b_0242ac1c0002row0_col8,#T_8dac6fca_1845_11eb_932b_0242ac1c0002row1_col8,#T_8dac6fca_1845_11eb_932b_0242ac1c0002row2_col8,#T_8dac6fca_1845_11eb_932b_0242ac1c0002row3_col8,#T_8dac6fca_1845_11eb_932b_0242ac1c0002row4_col8,#T_8dac6fca_1845_11eb_932b_0242ac1c0002row5_col8,#T_8dac6fca_1845_11eb_932b_0242ac1c0002row6_col8,#T_8dac6fca_1845_11eb_932b_0242ac1c0002row7_col8,#T_8dac6fca_1845_11eb_932b_0242ac1c0002row8_col8,#T_8dac6fca_1845_11eb_932b_0242ac1c0002row9_col8,#T_8dac6fca_1845_11eb_932b_0242ac1c0002row10_col8,#T_8dac6fca_1845_11eb_932b_0242ac1c0002row11_col8,#T_8dac6fca_1845_11eb_932b_0242ac1c0002row12_col8,#T_8dac6fca_1845_11eb_932b_0242ac1c0002row13_col8{\n",
              "            background-color:  lightgrey;\n",
              "            text-align:  left;\n",
              "        }</style><table id=\"T_8dac6fca_1845_11eb_932b_0242ac1c0002\" ><thead>    <tr>        <th class=\"blank level0\" ></th>        <th class=\"col_heading level0 col0\" >Model</th>        <th class=\"col_heading level0 col1\" >Accuracy</th>        <th class=\"col_heading level0 col2\" >AUC</th>        <th class=\"col_heading level0 col3\" >Recall</th>        <th class=\"col_heading level0 col4\" >Prec.</th>        <th class=\"col_heading level0 col5\" >F1</th>        <th class=\"col_heading level0 col6\" >Kappa</th>        <th class=\"col_heading level0 col7\" >MCC</th>        <th class=\"col_heading level0 col8\" >TT (Sec)</th>    </tr></thead><tbody>\n",
              "                <tr>\n",
              "                        <th id=\"T_8dac6fca_1845_11eb_932b_0242ac1c0002level0_row0\" class=\"row_heading level0 row0\" >0</th>\n",
              "                        <td id=\"T_8dac6fca_1845_11eb_932b_0242ac1c0002row0_col0\" class=\"data row0 col0\" >Extreme Gradient Boosting</td>\n",
              "                        <td id=\"T_8dac6fca_1845_11eb_932b_0242ac1c0002row0_col1\" class=\"data row0 col1\" >0.8982</td>\n",
              "                        <td id=\"T_8dac6fca_1845_11eb_932b_0242ac1c0002row0_col2\" class=\"data row0 col2\" >0.8899</td>\n",
              "                        <td id=\"T_8dac6fca_1845_11eb_932b_0242ac1c0002row0_col3\" class=\"data row0 col3\" >0.3150</td>\n",
              "                        <td id=\"T_8dac6fca_1845_11eb_932b_0242ac1c0002row0_col4\" class=\"data row0 col4\" >0.6130</td>\n",
              "                        <td id=\"T_8dac6fca_1845_11eb_932b_0242ac1c0002row0_col5\" class=\"data row0 col5\" >0.4158</td>\n",
              "                        <td id=\"T_8dac6fca_1845_11eb_932b_0242ac1c0002row0_col6\" class=\"data row0 col6\" >0.3665</td>\n",
              "                        <td id=\"T_8dac6fca_1845_11eb_932b_0242ac1c0002row0_col7\" class=\"data row0 col7\" >0.3911</td>\n",
              "                        <td id=\"T_8dac6fca_1845_11eb_932b_0242ac1c0002row0_col8\" class=\"data row0 col8\" >0.3155</td>\n",
              "            </tr>\n",
              "            <tr>\n",
              "                        <th id=\"T_8dac6fca_1845_11eb_932b_0242ac1c0002level0_row1\" class=\"row_heading level0 row1\" >1</th>\n",
              "                        <td id=\"T_8dac6fca_1845_11eb_932b_0242ac1c0002row1_col0\" class=\"data row1 col0\" >Gradient Boosting Classifier</td>\n",
              "                        <td id=\"T_8dac6fca_1845_11eb_932b_0242ac1c0002row1_col1\" class=\"data row1 col1\" >0.8979</td>\n",
              "                        <td id=\"T_8dac6fca_1845_11eb_932b_0242ac1c0002row1_col2\" class=\"data row1 col2\" >0.8955</td>\n",
              "                        <td id=\"T_8dac6fca_1845_11eb_932b_0242ac1c0002row1_col3\" class=\"data row1 col3\" >0.3479</td>\n",
              "                        <td id=\"T_8dac6fca_1845_11eb_932b_0242ac1c0002row1_col4\" class=\"data row1 col4\" >0.5951</td>\n",
              "                        <td id=\"T_8dac6fca_1845_11eb_932b_0242ac1c0002row1_col5\" class=\"data row1 col5\" >0.4381</td>\n",
              "                        <td id=\"T_8dac6fca_1845_11eb_932b_0242ac1c0002row1_col6\" class=\"data row1 col6\" >0.3866</td>\n",
              "                        <td id=\"T_8dac6fca_1845_11eb_932b_0242ac1c0002row1_col7\" class=\"data row1 col7\" >0.4038</td>\n",
              "                        <td id=\"T_8dac6fca_1845_11eb_932b_0242ac1c0002row1_col8\" class=\"data row1 col8\" >0.5483</td>\n",
              "            </tr>\n",
              "            <tr>\n",
              "                        <th id=\"T_8dac6fca_1845_11eb_932b_0242ac1c0002level0_row2\" class=\"row_heading level0 row2\" >2</th>\n",
              "                        <td id=\"T_8dac6fca_1845_11eb_932b_0242ac1c0002row2_col0\" class=\"data row2 col0\" >Light Gradient Boosting Machine</td>\n",
              "                        <td id=\"T_8dac6fca_1845_11eb_932b_0242ac1c0002row2_col1\" class=\"data row2 col1\" >0.8979</td>\n",
              "                        <td id=\"T_8dac6fca_1845_11eb_932b_0242ac1c0002row2_col2\" class=\"data row2 col2\" >0.8937</td>\n",
              "                        <td id=\"T_8dac6fca_1845_11eb_932b_0242ac1c0002row2_col3\" class=\"data row2 col3\" >0.3753</td>\n",
              "                        <td id=\"T_8dac6fca_1845_11eb_932b_0242ac1c0002row2_col4\" class=\"data row2 col4\" >0.5880</td>\n",
              "                        <td id=\"T_8dac6fca_1845_11eb_932b_0242ac1c0002row2_col5\" class=\"data row2 col5\" >0.4577</td>\n",
              "                        <td id=\"T_8dac6fca_1845_11eb_932b_0242ac1c0002row2_col6\" class=\"data row2 col6\" >0.4046</td>\n",
              "                        <td id=\"T_8dac6fca_1845_11eb_932b_0242ac1c0002row2_col7\" class=\"data row2 col7\" >0.4172</td>\n",
              "                        <td id=\"T_8dac6fca_1845_11eb_932b_0242ac1c0002row2_col8\" class=\"data row2 col8\" >0.1195</td>\n",
              "            </tr>\n",
              "            <tr>\n",
              "                        <th id=\"T_8dac6fca_1845_11eb_932b_0242ac1c0002level0_row3\" class=\"row_heading level0 row3\" >3</th>\n",
              "                        <td id=\"T_8dac6fca_1845_11eb_932b_0242ac1c0002row3_col0\" class=\"data row3 col0\" >Logistic Regression</td>\n",
              "                        <td id=\"T_8dac6fca_1845_11eb_932b_0242ac1c0002row3_col1\" class=\"data row3 col1\" >0.8960</td>\n",
              "                        <td id=\"T_8dac6fca_1845_11eb_932b_0242ac1c0002row3_col2\" class=\"data row3 col2\" >0.8852</td>\n",
              "                        <td id=\"T_8dac6fca_1845_11eb_932b_0242ac1c0002row3_col3\" class=\"data row3 col3\" >0.3013</td>\n",
              "                        <td id=\"T_8dac6fca_1845_11eb_932b_0242ac1c0002row3_col4\" class=\"data row3 col4\" >0.5993</td>\n",
              "                        <td id=\"T_8dac6fca_1845_11eb_932b_0242ac1c0002row3_col5\" class=\"data row3 col5\" >0.4009</td>\n",
              "                        <td id=\"T_8dac6fca_1845_11eb_932b_0242ac1c0002row3_col6\" class=\"data row3 col6\" >0.3507</td>\n",
              "                        <td id=\"T_8dac6fca_1845_11eb_932b_0242ac1c0002row3_col7\" class=\"data row3 col7\" >0.3757</td>\n",
              "                        <td id=\"T_8dac6fca_1845_11eb_932b_0242ac1c0002row3_col8\" class=\"data row3 col8\" >0.0909</td>\n",
              "            </tr>\n",
              "            <tr>\n",
              "                        <th id=\"T_8dac6fca_1845_11eb_932b_0242ac1c0002level0_row4\" class=\"row_heading level0 row4\" >4</th>\n",
              "                        <td id=\"T_8dac6fca_1845_11eb_932b_0242ac1c0002row4_col0\" class=\"data row4 col0\" >Ada Boost Classifier</td>\n",
              "                        <td id=\"T_8dac6fca_1845_11eb_932b_0242ac1c0002row4_col1\" class=\"data row4 col1\" >0.8941</td>\n",
              "                        <td id=\"T_8dac6fca_1845_11eb_932b_0242ac1c0002row4_col2\" class=\"data row4 col2\" >0.8751</td>\n",
              "                        <td id=\"T_8dac6fca_1845_11eb_932b_0242ac1c0002row4_col3\" class=\"data row4 col3\" >0.3561</td>\n",
              "                        <td id=\"T_8dac6fca_1845_11eb_932b_0242ac1c0002row4_col4\" class=\"data row4 col4\" >0.5632</td>\n",
              "                        <td id=\"T_8dac6fca_1845_11eb_932b_0242ac1c0002row4_col5\" class=\"data row4 col5\" >0.4360</td>\n",
              "                        <td id=\"T_8dac6fca_1845_11eb_932b_0242ac1c0002row4_col6\" class=\"data row4 col6\" >0.3809</td>\n",
              "                        <td id=\"T_8dac6fca_1845_11eb_932b_0242ac1c0002row4_col7\" class=\"data row4 col7\" >0.3933</td>\n",
              "                        <td id=\"T_8dac6fca_1845_11eb_932b_0242ac1c0002row4_col8\" class=\"data row4 col8\" >0.2213</td>\n",
              "            </tr>\n",
              "            <tr>\n",
              "                        <th id=\"T_8dac6fca_1845_11eb_932b_0242ac1c0002level0_row5\" class=\"row_heading level0 row5\" >5</th>\n",
              "                        <td id=\"T_8dac6fca_1845_11eb_932b_0242ac1c0002row5_col0\" class=\"data row5 col0\" >Linear Discriminant Analysis</td>\n",
              "                        <td id=\"T_8dac6fca_1845_11eb_932b_0242ac1c0002row5_col1\" class=\"data row5 col1\" >0.8916</td>\n",
              "                        <td id=\"T_8dac6fca_1845_11eb_932b_0242ac1c0002row5_col2\" class=\"data row5 col2\" >0.8819</td>\n",
              "                        <td id=\"T_8dac6fca_1845_11eb_932b_0242ac1c0002row5_col3\" class=\"data row5 col3\" >0.2904</td>\n",
              "                        <td id=\"T_8dac6fca_1845_11eb_932b_0242ac1c0002row5_col4\" class=\"data row5 col4\" >0.5574</td>\n",
              "                        <td id=\"T_8dac6fca_1845_11eb_932b_0242ac1c0002row5_col5\" class=\"data row5 col5\" >0.3816</td>\n",
              "                        <td id=\"T_8dac6fca_1845_11eb_932b_0242ac1c0002row5_col6\" class=\"data row5 col6\" >0.3286</td>\n",
              "                        <td id=\"T_8dac6fca_1845_11eb_932b_0242ac1c0002row5_col7\" class=\"data row5 col7\" >0.3498</td>\n",
              "                        <td id=\"T_8dac6fca_1845_11eb_932b_0242ac1c0002row5_col8\" class=\"data row5 col8\" >0.0397</td>\n",
              "            </tr>\n",
              "            <tr>\n",
              "                        <th id=\"T_8dac6fca_1845_11eb_932b_0242ac1c0002level0_row6\" class=\"row_heading level0 row6\" >6</th>\n",
              "                        <td id=\"T_8dac6fca_1845_11eb_932b_0242ac1c0002row6_col0\" class=\"data row6 col0\" >Ridge Classifier</td>\n",
              "                        <td id=\"T_8dac6fca_1845_11eb_932b_0242ac1c0002row6_col1\" class=\"data row6 col1\" >0.8906</td>\n",
              "                        <td id=\"T_8dac6fca_1845_11eb_932b_0242ac1c0002row6_col2\" class=\"data row6 col2\" >0.0000</td>\n",
              "                        <td id=\"T_8dac6fca_1845_11eb_932b_0242ac1c0002row6_col3\" class=\"data row6 col3\" >0.1507</td>\n",
              "                        <td id=\"T_8dac6fca_1845_11eb_932b_0242ac1c0002row6_col4\" class=\"data row6 col4\" >0.6043</td>\n",
              "                        <td id=\"T_8dac6fca_1845_11eb_932b_0242ac1c0002row6_col5\" class=\"data row6 col5\" >0.2407</td>\n",
              "                        <td id=\"T_8dac6fca_1845_11eb_932b_0242ac1c0002row6_col6\" class=\"data row6 col6\" >0.2042</td>\n",
              "                        <td id=\"T_8dac6fca_1845_11eb_932b_0242ac1c0002row6_col7\" class=\"data row6 col7\" >0.2630</td>\n",
              "                        <td id=\"T_8dac6fca_1845_11eb_932b_0242ac1c0002row6_col8\" class=\"data row6 col8\" >0.0169</td>\n",
              "            </tr>\n",
              "            <tr>\n",
              "                        <th id=\"T_8dac6fca_1845_11eb_932b_0242ac1c0002level0_row7\" class=\"row_heading level0 row7\" >7</th>\n",
              "                        <td id=\"T_8dac6fca_1845_11eb_932b_0242ac1c0002row7_col0\" class=\"data row7 col0\" >Random Forest Classifier</td>\n",
              "                        <td id=\"T_8dac6fca_1845_11eb_932b_0242ac1c0002row7_col1\" class=\"data row7 col1\" >0.8894</td>\n",
              "                        <td id=\"T_8dac6fca_1845_11eb_932b_0242ac1c0002row7_col2\" class=\"data row7 col2\" >0.8451</td>\n",
              "                        <td id=\"T_8dac6fca_1845_11eb_932b_0242ac1c0002row7_col3\" class=\"data row7 col3\" >0.1944</td>\n",
              "                        <td id=\"T_8dac6fca_1845_11eb_932b_0242ac1c0002row7_col4\" class=\"data row7 col4\" >0.5452</td>\n",
              "                        <td id=\"T_8dac6fca_1845_11eb_932b_0242ac1c0002row7_col5\" class=\"data row7 col5\" >0.2858</td>\n",
              "                        <td id=\"T_8dac6fca_1845_11eb_932b_0242ac1c0002row7_col6\" class=\"data row7 col6\" >0.2413</td>\n",
              "                        <td id=\"T_8dac6fca_1845_11eb_932b_0242ac1c0002row7_col7\" class=\"data row7 col7\" >0.2792</td>\n",
              "                        <td id=\"T_8dac6fca_1845_11eb_932b_0242ac1c0002row7_col8\" class=\"data row7 col8\" >0.1146</td>\n",
              "            </tr>\n",
              "            <tr>\n",
              "                        <th id=\"T_8dac6fca_1845_11eb_932b_0242ac1c0002level0_row8\" class=\"row_heading level0 row8\" >8</th>\n",
              "                        <td id=\"T_8dac6fca_1845_11eb_932b_0242ac1c0002row8_col0\" class=\"data row8 col0\" >Extra Trees Classifier</td>\n",
              "                        <td id=\"T_8dac6fca_1845_11eb_932b_0242ac1c0002row8_col1\" class=\"data row8 col1\" >0.8884</td>\n",
              "                        <td id=\"T_8dac6fca_1845_11eb_932b_0242ac1c0002row8_col2\" class=\"data row8 col2\" >0.8611</td>\n",
              "                        <td id=\"T_8dac6fca_1845_11eb_932b_0242ac1c0002row8_col3\" class=\"data row8 col3\" >0.1890</td>\n",
              "                        <td id=\"T_8dac6fca_1845_11eb_932b_0242ac1c0002row8_col4\" class=\"data row8 col4\" >0.5435</td>\n",
              "                        <td id=\"T_8dac6fca_1845_11eb_932b_0242ac1c0002row8_col5\" class=\"data row8 col5\" >0.2780</td>\n",
              "                        <td id=\"T_8dac6fca_1845_11eb_932b_0242ac1c0002row8_col6\" class=\"data row8 col6\" >0.2335</td>\n",
              "                        <td id=\"T_8dac6fca_1845_11eb_932b_0242ac1c0002row8_col7\" class=\"data row8 col7\" >0.2728</td>\n",
              "                        <td id=\"T_8dac6fca_1845_11eb_932b_0242ac1c0002row8_col8\" class=\"data row8 col8\" >0.3548</td>\n",
              "            </tr>\n",
              "            <tr>\n",
              "                        <th id=\"T_8dac6fca_1845_11eb_932b_0242ac1c0002level0_row9\" class=\"row_heading level0 row9\" >9</th>\n",
              "                        <td id=\"T_8dac6fca_1845_11eb_932b_0242ac1c0002row9_col0\" class=\"data row9 col0\" >K Neighbors Classifier</td>\n",
              "                        <td id=\"T_8dac6fca_1845_11eb_932b_0242ac1c0002row9_col1\" class=\"data row9 col1\" >0.8865</td>\n",
              "                        <td id=\"T_8dac6fca_1845_11eb_932b_0242ac1c0002row9_col2\" class=\"data row9 col2\" >0.7429</td>\n",
              "                        <td id=\"T_8dac6fca_1845_11eb_932b_0242ac1c0002row9_col3\" class=\"data row9 col3\" >0.1535</td>\n",
              "                        <td id=\"T_8dac6fca_1845_11eb_932b_0242ac1c0002row9_col4\" class=\"data row9 col4\" >0.5285</td>\n",
              "                        <td id=\"T_8dac6fca_1845_11eb_932b_0242ac1c0002row9_col5\" class=\"data row9 col5\" >0.2374</td>\n",
              "                        <td id=\"T_8dac6fca_1845_11eb_932b_0242ac1c0002row9_col6\" class=\"data row9 col6\" >0.1958</td>\n",
              "                        <td id=\"T_8dac6fca_1845_11eb_932b_0242ac1c0002row9_col7\" class=\"data row9 col7\" >0.2404</td>\n",
              "                        <td id=\"T_8dac6fca_1845_11eb_932b_0242ac1c0002row9_col8\" class=\"data row9 col8\" >0.0171</td>\n",
              "            </tr>\n",
              "            <tr>\n",
              "                        <th id=\"T_8dac6fca_1845_11eb_932b_0242ac1c0002level0_row10\" class=\"row_heading level0 row10\" >10</th>\n",
              "                        <td id=\"T_8dac6fca_1845_11eb_932b_0242ac1c0002row10_col0\" class=\"data row10 col0\" >SVM - Linear Kernel</td>\n",
              "                        <td id=\"T_8dac6fca_1845_11eb_932b_0242ac1c0002row10_col1\" class=\"data row10 col1\" >0.8837</td>\n",
              "                        <td id=\"T_8dac6fca_1845_11eb_932b_0242ac1c0002row10_col2\" class=\"data row10 col2\" >0.0000</td>\n",
              "                        <td id=\"T_8dac6fca_1845_11eb_932b_0242ac1c0002row10_col3\" class=\"data row10 col3\" >0.3227</td>\n",
              "                        <td id=\"T_8dac6fca_1845_11eb_932b_0242ac1c0002row10_col4\" class=\"data row10 col4\" >0.5271</td>\n",
              "                        <td id=\"T_8dac6fca_1845_11eb_932b_0242ac1c0002row10_col5\" class=\"data row10 col5\" >0.3739</td>\n",
              "                        <td id=\"T_8dac6fca_1845_11eb_932b_0242ac1c0002row10_col6\" class=\"data row10 col6\" >0.3177</td>\n",
              "                        <td id=\"T_8dac6fca_1845_11eb_932b_0242ac1c0002row10_col7\" class=\"data row10 col7\" >0.3419</td>\n",
              "                        <td id=\"T_8dac6fca_1845_11eb_932b_0242ac1c0002row10_col8\" class=\"data row10 col8\" >0.0422</td>\n",
              "            </tr>\n",
              "            <tr>\n",
              "                        <th id=\"T_8dac6fca_1845_11eb_932b_0242ac1c0002level0_row11\" class=\"row_heading level0 row11\" >11</th>\n",
              "                        <td id=\"T_8dac6fca_1845_11eb_932b_0242ac1c0002row11_col0\" class=\"data row11 col0\" >Quadratic Discriminant Analysis</td>\n",
              "                        <td id=\"T_8dac6fca_1845_11eb_932b_0242ac1c0002row11_col1\" class=\"data row11 col1\" >0.8701</td>\n",
              "                        <td id=\"T_8dac6fca_1845_11eb_932b_0242ac1c0002row11_col2\" class=\"data row11 col2\" >0.6848</td>\n",
              "                        <td id=\"T_8dac6fca_1845_11eb_932b_0242ac1c0002row11_col3\" class=\"data row11 col3\" >0.2822</td>\n",
              "                        <td id=\"T_8dac6fca_1845_11eb_932b_0242ac1c0002row11_col4\" class=\"data row11 col4\" >0.4150</td>\n",
              "                        <td id=\"T_8dac6fca_1845_11eb_932b_0242ac1c0002row11_col5\" class=\"data row11 col5\" >0.3330</td>\n",
              "                        <td id=\"T_8dac6fca_1845_11eb_932b_0242ac1c0002row11_col6\" class=\"data row11 col6\" >0.2643</td>\n",
              "                        <td id=\"T_8dac6fca_1845_11eb_932b_0242ac1c0002row11_col7\" class=\"data row11 col7\" >0.2717</td>\n",
              "                        <td id=\"T_8dac6fca_1845_11eb_932b_0242ac1c0002row11_col8\" class=\"data row11 col8\" >0.0203</td>\n",
              "            </tr>\n",
              "            <tr>\n",
              "                        <th id=\"T_8dac6fca_1845_11eb_932b_0242ac1c0002level0_row12\" class=\"row_heading level0 row12\" >12</th>\n",
              "                        <td id=\"T_8dac6fca_1845_11eb_932b_0242ac1c0002row12_col0\" class=\"data row12 col0\" >Decision Tree Classifier</td>\n",
              "                        <td id=\"T_8dac6fca_1845_11eb_932b_0242ac1c0002row12_col1\" class=\"data row12 col1\" >0.8682</td>\n",
              "                        <td id=\"T_8dac6fca_1845_11eb_932b_0242ac1c0002row12_col2\" class=\"data row12 col2\" >0.6730</td>\n",
              "                        <td id=\"T_8dac6fca_1845_11eb_932b_0242ac1c0002row12_col3\" class=\"data row12 col3\" >0.4192</td>\n",
              "                        <td id=\"T_8dac6fca_1845_11eb_932b_0242ac1c0002row12_col4\" class=\"data row12 col4\" >0.4291</td>\n",
              "                        <td id=\"T_8dac6fca_1845_11eb_932b_0242ac1c0002row12_col5\" class=\"data row12 col5\" >0.4216</td>\n",
              "                        <td id=\"T_8dac6fca_1845_11eb_932b_0242ac1c0002row12_col6\" class=\"data row12 col6\" >0.3477</td>\n",
              "                        <td id=\"T_8dac6fca_1845_11eb_932b_0242ac1c0002row12_col7\" class=\"data row12 col7\" >0.3490</td>\n",
              "                        <td id=\"T_8dac6fca_1845_11eb_932b_0242ac1c0002row12_col8\" class=\"data row12 col8\" >0.0268</td>\n",
              "            </tr>\n",
              "            <tr>\n",
              "                        <th id=\"T_8dac6fca_1845_11eb_932b_0242ac1c0002level0_row13\" class=\"row_heading level0 row13\" >13</th>\n",
              "                        <td id=\"T_8dac6fca_1845_11eb_932b_0242ac1c0002row13_col0\" class=\"data row13 col0\" >Naive Bayes</td>\n",
              "                        <td id=\"T_8dac6fca_1845_11eb_932b_0242ac1c0002row13_col1\" class=\"data row13 col1\" >0.8290</td>\n",
              "                        <td id=\"T_8dac6fca_1845_11eb_932b_0242ac1c0002row13_col2\" class=\"data row13 col2\" >0.7549</td>\n",
              "                        <td id=\"T_8dac6fca_1845_11eb_932b_0242ac1c0002row13_col3\" class=\"data row13 col3\" >0.4110</td>\n",
              "                        <td id=\"T_8dac6fca_1845_11eb_932b_0242ac1c0002row13_col4\" class=\"data row13 col4\" >0.3157</td>\n",
              "                        <td id=\"T_8dac6fca_1845_11eb_932b_0242ac1c0002row13_col5\" class=\"data row13 col5\" >0.3569</td>\n",
              "                        <td id=\"T_8dac6fca_1845_11eb_932b_0242ac1c0002row13_col6\" class=\"data row13 col6\" >0.2603</td>\n",
              "                        <td id=\"T_8dac6fca_1845_11eb_932b_0242ac1c0002row13_col7\" class=\"data row13 col7\" >0.2634</td>\n",
              "                        <td id=\"T_8dac6fca_1845_11eb_932b_0242ac1c0002row13_col8\" class=\"data row13 col8\" >0.0081</td>\n",
              "            </tr>\n",
              "    </tbody></table>"
            ],
            "text/plain": [
              "<pandas.io.formats.style.Styler at 0x7f136f237860>"
            ]
          },
          "metadata": {
            "tags": []
          }
        }
      ]
    },
    {
      "cell_type": "code",
      "metadata": {
        "id": "1Nd5ObKgoPF7",
        "outputId": "c54a1569-6c74-4e48-c8df-bcec196d437e",
        "colab": {
          "base_uri": "https://localhost:8080/",
          "height": 638
        }
      },
      "source": [
        "#naming convention of all models for classification is shown here\n",
        "models()"
      ],
      "execution_count": null,
      "outputs": [
        {
          "output_type": "execute_result",
          "data": {
            "text/html": [
              "<div>\n",
              "<style scoped>\n",
              "    .dataframe tbody tr th:only-of-type {\n",
              "        vertical-align: middle;\n",
              "    }\n",
              "\n",
              "    .dataframe tbody tr th {\n",
              "        vertical-align: top;\n",
              "    }\n",
              "\n",
              "    .dataframe thead th {\n",
              "        text-align: right;\n",
              "    }\n",
              "</style>\n",
              "<table border=\"1\" class=\"dataframe\">\n",
              "  <thead>\n",
              "    <tr style=\"text-align: right;\">\n",
              "      <th></th>\n",
              "      <th>Name</th>\n",
              "      <th>Reference</th>\n",
              "      <th>Turbo</th>\n",
              "    </tr>\n",
              "    <tr>\n",
              "      <th>ID</th>\n",
              "      <th></th>\n",
              "      <th></th>\n",
              "      <th></th>\n",
              "    </tr>\n",
              "  </thead>\n",
              "  <tbody>\n",
              "    <tr>\n",
              "      <th>lr</th>\n",
              "      <td>Logistic Regression</td>\n",
              "      <td>sklearn.linear_model.LogisticRegression</td>\n",
              "      <td>True</td>\n",
              "    </tr>\n",
              "    <tr>\n",
              "      <th>knn</th>\n",
              "      <td>K Neighbors Classifier</td>\n",
              "      <td>sklearn.neighbors.KNeighborsClassifier</td>\n",
              "      <td>True</td>\n",
              "    </tr>\n",
              "    <tr>\n",
              "      <th>nb</th>\n",
              "      <td>Naive Bayes</td>\n",
              "      <td>sklearn.naive_bayes.GaussianNB</td>\n",
              "      <td>True</td>\n",
              "    </tr>\n",
              "    <tr>\n",
              "      <th>dt</th>\n",
              "      <td>Decision Tree Classifier</td>\n",
              "      <td>sklearn.tree.DecisionTreeClassifier</td>\n",
              "      <td>True</td>\n",
              "    </tr>\n",
              "    <tr>\n",
              "      <th>svm</th>\n",
              "      <td>SVM - Linear Kernel</td>\n",
              "      <td>sklearn.linear_model.SGDClassifier</td>\n",
              "      <td>True</td>\n",
              "    </tr>\n",
              "    <tr>\n",
              "      <th>rbfsvm</th>\n",
              "      <td>SVM - Radial Kernel</td>\n",
              "      <td>sklearn.svm.SVC</td>\n",
              "      <td>False</td>\n",
              "    </tr>\n",
              "    <tr>\n",
              "      <th>gpc</th>\n",
              "      <td>Gaussian Process Classifier</td>\n",
              "      <td>sklearn.gaussian_process.GPC</td>\n",
              "      <td>False</td>\n",
              "    </tr>\n",
              "    <tr>\n",
              "      <th>mlp</th>\n",
              "      <td>MLP Classifier</td>\n",
              "      <td>sklearn.neural_network.MLPClassifier</td>\n",
              "      <td>False</td>\n",
              "    </tr>\n",
              "    <tr>\n",
              "      <th>ridge</th>\n",
              "      <td>Ridge Classifier</td>\n",
              "      <td>sklearn.linear_model.RidgeClassifier</td>\n",
              "      <td>True</td>\n",
              "    </tr>\n",
              "    <tr>\n",
              "      <th>rf</th>\n",
              "      <td>Random Forest Classifier</td>\n",
              "      <td>sklearn.ensemble.RandomForestClassifier</td>\n",
              "      <td>True</td>\n",
              "    </tr>\n",
              "    <tr>\n",
              "      <th>qda</th>\n",
              "      <td>Quadratic Discriminant Analysis</td>\n",
              "      <td>sklearn.discriminant_analysis.QDA</td>\n",
              "      <td>True</td>\n",
              "    </tr>\n",
              "    <tr>\n",
              "      <th>ada</th>\n",
              "      <td>Ada Boost Classifier</td>\n",
              "      <td>sklearn.ensemble.AdaBoostClassifier</td>\n",
              "      <td>True</td>\n",
              "    </tr>\n",
              "    <tr>\n",
              "      <th>gbc</th>\n",
              "      <td>Gradient Boosting Classifier</td>\n",
              "      <td>sklearn.ensemble.GradientBoostingClassifier</td>\n",
              "      <td>True</td>\n",
              "    </tr>\n",
              "    <tr>\n",
              "      <th>lda</th>\n",
              "      <td>Linear Discriminant Analysis</td>\n",
              "      <td>sklearn.discriminant_analysis.LDA</td>\n",
              "      <td>True</td>\n",
              "    </tr>\n",
              "    <tr>\n",
              "      <th>et</th>\n",
              "      <td>Extra Trees Classifier</td>\n",
              "      <td>sklearn.ensemble.ExtraTreesClassifier</td>\n",
              "      <td>True</td>\n",
              "    </tr>\n",
              "    <tr>\n",
              "      <th>xgboost</th>\n",
              "      <td>Extreme Gradient Boosting</td>\n",
              "      <td>xgboost.readthedocs.io</td>\n",
              "      <td>True</td>\n",
              "    </tr>\n",
              "    <tr>\n",
              "      <th>lightgbm</th>\n",
              "      <td>Light Gradient Boosting Machine</td>\n",
              "      <td>github.com/microsoft/LightGBM</td>\n",
              "      <td>True</td>\n",
              "    </tr>\n",
              "    <tr>\n",
              "      <th>catboost</th>\n",
              "      <td>CatBoost Classifier</td>\n",
              "      <td>catboost.ai</td>\n",
              "      <td>True</td>\n",
              "    </tr>\n",
              "  </tbody>\n",
              "</table>\n",
              "</div>"
            ],
            "text/plain": [
              "                                     Name  ...  Turbo\n",
              "ID                                         ...       \n",
              "lr                    Logistic Regression  ...   True\n",
              "knn                K Neighbors Classifier  ...   True\n",
              "nb                            Naive Bayes  ...   True\n",
              "dt               Decision Tree Classifier  ...   True\n",
              "svm                   SVM - Linear Kernel  ...   True\n",
              "rbfsvm                SVM - Radial Kernel  ...  False\n",
              "gpc           Gaussian Process Classifier  ...  False\n",
              "mlp                        MLP Classifier  ...  False\n",
              "ridge                    Ridge Classifier  ...   True\n",
              "rf               Random Forest Classifier  ...   True\n",
              "qda       Quadratic Discriminant Analysis  ...   True\n",
              "ada                  Ada Boost Classifier  ...   True\n",
              "gbc          Gradient Boosting Classifier  ...   True\n",
              "lda          Linear Discriminant Analysis  ...   True\n",
              "et                 Extra Trees Classifier  ...   True\n",
              "xgboost         Extreme Gradient Boosting  ...   True\n",
              "lightgbm  Light Gradient Boosting Machine  ...   True\n",
              "catboost              CatBoost Classifier  ...   True\n",
              "\n",
              "[18 rows x 3 columns]"
            ]
          },
          "metadata": {
            "tags": []
          },
          "execution_count": 31
        }
      ]
    },
    {
      "cell_type": "markdown",
      "metadata": {
        "id": "3c0rbxn0oPF-"
      },
      "source": [
        "### Task 3: Create best performing models"
      ]
    },
    {
      "cell_type": "code",
      "metadata": {
        "id": "Q_Alu2wOoPF_",
        "outputId": "f963b892-d8fc-4bac-dfc1-3d7cd1f36769",
        "colab": {
          "base_uri": "https://localhost:8080/",
          "height": 166
        }
      },
      "source": [
        "#light GBM Model\n",
        "lgbm = create_model('lightgbm', fold=4)"
      ],
      "execution_count": null,
      "outputs": [
        {
          "output_type": "display_data",
          "data": {
            "text/html": [
              "<style  type=\"text/css\" >\n",
              "#T_f6c5efae_1845_11eb_932b_0242ac1c0002row4_col0,#T_f6c5efae_1845_11eb_932b_0242ac1c0002row4_col1,#T_f6c5efae_1845_11eb_932b_0242ac1c0002row4_col2,#T_f6c5efae_1845_11eb_932b_0242ac1c0002row4_col3,#T_f6c5efae_1845_11eb_932b_0242ac1c0002row4_col4,#T_f6c5efae_1845_11eb_932b_0242ac1c0002row4_col5,#T_f6c5efae_1845_11eb_932b_0242ac1c0002row4_col6{\n",
              "            background:  yellow;\n",
              "        }</style><table id=\"T_f6c5efae_1845_11eb_932b_0242ac1c0002\" ><thead>    <tr>        <th class=\"blank level0\" ></th>        <th class=\"col_heading level0 col0\" >Accuracy</th>        <th class=\"col_heading level0 col1\" >AUC</th>        <th class=\"col_heading level0 col2\" >Recall</th>        <th class=\"col_heading level0 col3\" >Prec.</th>        <th class=\"col_heading level0 col4\" >F1</th>        <th class=\"col_heading level0 col5\" >Kappa</th>        <th class=\"col_heading level0 col6\" >MCC</th>    </tr></thead><tbody>\n",
              "                <tr>\n",
              "                        <th id=\"T_f6c5efae_1845_11eb_932b_0242ac1c0002level0_row0\" class=\"row_heading level0 row0\" >0</th>\n",
              "                        <td id=\"T_f6c5efae_1845_11eb_932b_0242ac1c0002row0_col0\" class=\"data row0 col0\" >0.8812</td>\n",
              "                        <td id=\"T_f6c5efae_1845_11eb_932b_0242ac1c0002row0_col1\" class=\"data row0 col1\" >0.8752</td>\n",
              "                        <td id=\"T_f6c5efae_1845_11eb_932b_0242ac1c0002row0_col2\" class=\"data row0 col2\" >0.2747</td>\n",
              "                        <td id=\"T_f6c5efae_1845_11eb_932b_0242ac1c0002row0_col3\" class=\"data row0 col3\" >0.4717</td>\n",
              "                        <td id=\"T_f6c5efae_1845_11eb_932b_0242ac1c0002row0_col4\" class=\"data row0 col4\" >0.3472</td>\n",
              "                        <td id=\"T_f6c5efae_1845_11eb_932b_0242ac1c0002row0_col5\" class=\"data row0 col5\" >0.2868</td>\n",
              "                        <td id=\"T_f6c5efae_1845_11eb_932b_0242ac1c0002row0_col6\" class=\"data row0 col6\" >0.2995</td>\n",
              "            </tr>\n",
              "            <tr>\n",
              "                        <th id=\"T_f6c5efae_1845_11eb_932b_0242ac1c0002level0_row1\" class=\"row_heading level0 row1\" >1</th>\n",
              "                        <td id=\"T_f6c5efae_1845_11eb_932b_0242ac1c0002row1_col0\" class=\"data row1 col0\" >0.9001</td>\n",
              "                        <td id=\"T_f6c5efae_1845_11eb_932b_0242ac1c0002row1_col1\" class=\"data row1 col1\" >0.8809</td>\n",
              "                        <td id=\"T_f6c5efae_1845_11eb_932b_0242ac1c0002row1_col2\" class=\"data row1 col2\" >0.4176</td>\n",
              "                        <td id=\"T_f6c5efae_1845_11eb_932b_0242ac1c0002row1_col3\" class=\"data row1 col3\" >0.5938</td>\n",
              "                        <td id=\"T_f6c5efae_1845_11eb_932b_0242ac1c0002row1_col4\" class=\"data row1 col4\" >0.4903</td>\n",
              "                        <td id=\"T_f6c5efae_1845_11eb_932b_0242ac1c0002row1_col5\" class=\"data row1 col5\" >0.4368</td>\n",
              "                        <td id=\"T_f6c5efae_1845_11eb_932b_0242ac1c0002row1_col6\" class=\"data row1 col6\" >0.4451</td>\n",
              "            </tr>\n",
              "            <tr>\n",
              "                        <th id=\"T_f6c5efae_1845_11eb_932b_0242ac1c0002level0_row2\" class=\"row_heading level0 row2\" >2</th>\n",
              "                        <td id=\"T_f6c5efae_1845_11eb_932b_0242ac1c0002row2_col0\" class=\"data row2 col0\" >0.9077</td>\n",
              "                        <td id=\"T_f6c5efae_1845_11eb_932b_0242ac1c0002row2_col1\" class=\"data row2 col1\" >0.9139</td>\n",
              "                        <td id=\"T_f6c5efae_1845_11eb_932b_0242ac1c0002row2_col2\" class=\"data row2 col2\" >0.4176</td>\n",
              "                        <td id=\"T_f6c5efae_1845_11eb_932b_0242ac1c0002row2_col3\" class=\"data row2 col3\" >0.6552</td>\n",
              "                        <td id=\"T_f6c5efae_1845_11eb_932b_0242ac1c0002row2_col4\" class=\"data row2 col4\" >0.5101</td>\n",
              "                        <td id=\"T_f6c5efae_1845_11eb_932b_0242ac1c0002row2_col5\" class=\"data row2 col5\" >0.4619</td>\n",
              "                        <td id=\"T_f6c5efae_1845_11eb_932b_0242ac1c0002row2_col6\" class=\"data row2 col6\" >0.4762</td>\n",
              "            </tr>\n",
              "            <tr>\n",
              "                        <th id=\"T_f6c5efae_1845_11eb_932b_0242ac1c0002level0_row3\" class=\"row_heading level0 row3\" >3</th>\n",
              "                        <td id=\"T_f6c5efae_1845_11eb_932b_0242ac1c0002row3_col0\" class=\"data row3 col0\" >0.9027</td>\n",
              "                        <td id=\"T_f6c5efae_1845_11eb_932b_0242ac1c0002row3_col1\" class=\"data row3 col1\" >0.9047</td>\n",
              "                        <td id=\"T_f6c5efae_1845_11eb_932b_0242ac1c0002row3_col2\" class=\"data row3 col2\" >0.3913</td>\n",
              "                        <td id=\"T_f6c5efae_1845_11eb_932b_0242ac1c0002row3_col3\" class=\"data row3 col3\" >0.6316</td>\n",
              "                        <td id=\"T_f6c5efae_1845_11eb_932b_0242ac1c0002row3_col4\" class=\"data row3 col4\" >0.4832</td>\n",
              "                        <td id=\"T_f6c5efae_1845_11eb_932b_0242ac1c0002row3_col5\" class=\"data row3 col5\" >0.4327</td>\n",
              "                        <td id=\"T_f6c5efae_1845_11eb_932b_0242ac1c0002row3_col6\" class=\"data row3 col6\" >0.4479</td>\n",
              "            </tr>\n",
              "            <tr>\n",
              "                        <th id=\"T_f6c5efae_1845_11eb_932b_0242ac1c0002level0_row4\" class=\"row_heading level0 row4\" >Mean</th>\n",
              "                        <td id=\"T_f6c5efae_1845_11eb_932b_0242ac1c0002row4_col0\" class=\"data row4 col0\" >0.8979</td>\n",
              "                        <td id=\"T_f6c5efae_1845_11eb_932b_0242ac1c0002row4_col1\" class=\"data row4 col1\" >0.8937</td>\n",
              "                        <td id=\"T_f6c5efae_1845_11eb_932b_0242ac1c0002row4_col2\" class=\"data row4 col2\" >0.3753</td>\n",
              "                        <td id=\"T_f6c5efae_1845_11eb_932b_0242ac1c0002row4_col3\" class=\"data row4 col3\" >0.5880</td>\n",
              "                        <td id=\"T_f6c5efae_1845_11eb_932b_0242ac1c0002row4_col4\" class=\"data row4 col4\" >0.4577</td>\n",
              "                        <td id=\"T_f6c5efae_1845_11eb_932b_0242ac1c0002row4_col5\" class=\"data row4 col5\" >0.4046</td>\n",
              "                        <td id=\"T_f6c5efae_1845_11eb_932b_0242ac1c0002row4_col6\" class=\"data row4 col6\" >0.4172</td>\n",
              "            </tr>\n",
              "            <tr>\n",
              "                        <th id=\"T_f6c5efae_1845_11eb_932b_0242ac1c0002level0_row5\" class=\"row_heading level0 row5\" >SD</th>\n",
              "                        <td id=\"T_f6c5efae_1845_11eb_932b_0242ac1c0002row5_col0\" class=\"data row5 col0\" >0.0100</td>\n",
              "                        <td id=\"T_f6c5efae_1845_11eb_932b_0242ac1c0002row5_col1\" class=\"data row5 col1\" >0.0161</td>\n",
              "                        <td id=\"T_f6c5efae_1845_11eb_932b_0242ac1c0002row5_col2\" class=\"data row5 col2\" >0.0590</td>\n",
              "                        <td id=\"T_f6c5efae_1845_11eb_932b_0242ac1c0002row5_col3\" class=\"data row5 col3\" >0.0707</td>\n",
              "                        <td id=\"T_f6c5efae_1845_11eb_932b_0242ac1c0002row5_col4\" class=\"data row5 col4\" >0.0645</td>\n",
              "                        <td id=\"T_f6c5efae_1845_11eb_932b_0242ac1c0002row5_col5\" class=\"data row5 col5\" >0.0689</td>\n",
              "                        <td id=\"T_f6c5efae_1845_11eb_932b_0242ac1c0002row5_col6\" class=\"data row5 col6\" >0.0690</td>\n",
              "            </tr>\n",
              "    </tbody></table>"
            ],
            "text/plain": [
              "<pandas.io.formats.style.Styler at 0x7f139cd470f0>"
            ]
          },
          "metadata": {
            "tags": []
          }
        }
      ]
    },
    {
      "cell_type": "code",
      "metadata": {
        "id": "xOiE-ysToPGD",
        "outputId": "be9f6e57-333d-47bf-cab9-a002a00fbfbb",
        "colab": {
          "base_uri": "https://localhost:8080/",
          "height": 166
        }
      },
      "source": [
        "#gradient boosting tree\n",
        "gbc = create_model('gbc', fold=4)"
      ],
      "execution_count": null,
      "outputs": [
        {
          "output_type": "display_data",
          "data": {
            "text/html": [
              "<style  type=\"text/css\" >\n",
              "#T_0619563a_1846_11eb_932b_0242ac1c0002row4_col0,#T_0619563a_1846_11eb_932b_0242ac1c0002row4_col1,#T_0619563a_1846_11eb_932b_0242ac1c0002row4_col2,#T_0619563a_1846_11eb_932b_0242ac1c0002row4_col3,#T_0619563a_1846_11eb_932b_0242ac1c0002row4_col4,#T_0619563a_1846_11eb_932b_0242ac1c0002row4_col5,#T_0619563a_1846_11eb_932b_0242ac1c0002row4_col6{\n",
              "            background:  yellow;\n",
              "        }</style><table id=\"T_0619563a_1846_11eb_932b_0242ac1c0002\" ><thead>    <tr>        <th class=\"blank level0\" ></th>        <th class=\"col_heading level0 col0\" >Accuracy</th>        <th class=\"col_heading level0 col1\" >AUC</th>        <th class=\"col_heading level0 col2\" >Recall</th>        <th class=\"col_heading level0 col3\" >Prec.</th>        <th class=\"col_heading level0 col4\" >F1</th>        <th class=\"col_heading level0 col5\" >Kappa</th>        <th class=\"col_heading level0 col6\" >MCC</th>    </tr></thead><tbody>\n",
              "                <tr>\n",
              "                        <th id=\"T_0619563a_1846_11eb_932b_0242ac1c0002level0_row0\" class=\"row_heading level0 row0\" >0</th>\n",
              "                        <td id=\"T_0619563a_1846_11eb_932b_0242ac1c0002row0_col0\" class=\"data row0 col0\" >0.8900</td>\n",
              "                        <td id=\"T_0619563a_1846_11eb_932b_0242ac1c0002row0_col1\" class=\"data row0 col1\" >0.8843</td>\n",
              "                        <td id=\"T_0619563a_1846_11eb_932b_0242ac1c0002row0_col2\" class=\"data row0 col2\" >0.2747</td>\n",
              "                        <td id=\"T_0619563a_1846_11eb_932b_0242ac1c0002row0_col3\" class=\"data row0 col3\" >0.5435</td>\n",
              "                        <td id=\"T_0619563a_1846_11eb_932b_0242ac1c0002row0_col4\" class=\"data row0 col4\" >0.3650</td>\n",
              "                        <td id=\"T_0619563a_1846_11eb_932b_0242ac1c0002row0_col5\" class=\"data row0 col5\" >0.3118</td>\n",
              "                        <td id=\"T_0619563a_1846_11eb_932b_0242ac1c0002row0_col6\" class=\"data row0 col6\" >0.3337</td>\n",
              "            </tr>\n",
              "            <tr>\n",
              "                        <th id=\"T_0619563a_1846_11eb_932b_0242ac1c0002level0_row1\" class=\"row_heading level0 row1\" >1</th>\n",
              "                        <td id=\"T_0619563a_1846_11eb_932b_0242ac1c0002row1_col0\" class=\"data row1 col0\" >0.8951</td>\n",
              "                        <td id=\"T_0619563a_1846_11eb_932b_0242ac1c0002row1_col1\" class=\"data row1 col1\" >0.8785</td>\n",
              "                        <td id=\"T_0619563a_1846_11eb_932b_0242ac1c0002row1_col2\" class=\"data row1 col2\" >0.3187</td>\n",
              "                        <td id=\"T_0619563a_1846_11eb_932b_0242ac1c0002row1_col3\" class=\"data row1 col3\" >0.5800</td>\n",
              "                        <td id=\"T_0619563a_1846_11eb_932b_0242ac1c0002row1_col4\" class=\"data row1 col4\" >0.4113</td>\n",
              "                        <td id=\"T_0619563a_1846_11eb_932b_0242ac1c0002row1_col5\" class=\"data row1 col5\" >0.3591</td>\n",
              "                        <td id=\"T_0619563a_1846_11eb_932b_0242ac1c0002row1_col6\" class=\"data row1 col6\" >0.3785</td>\n",
              "            </tr>\n",
              "            <tr>\n",
              "                        <th id=\"T_0619563a_1846_11eb_932b_0242ac1c0002level0_row2\" class=\"row_heading level0 row2\" >2</th>\n",
              "                        <td id=\"T_0619563a_1846_11eb_932b_0242ac1c0002row2_col0\" class=\"data row2 col0\" >0.9115</td>\n",
              "                        <td id=\"T_0619563a_1846_11eb_932b_0242ac1c0002row2_col1\" class=\"data row2 col1\" >0.9179</td>\n",
              "                        <td id=\"T_0619563a_1846_11eb_932b_0242ac1c0002row2_col2\" class=\"data row2 col2\" >0.4396</td>\n",
              "                        <td id=\"T_0619563a_1846_11eb_932b_0242ac1c0002row2_col3\" class=\"data row2 col3\" >0.6780</td>\n",
              "                        <td id=\"T_0619563a_1846_11eb_932b_0242ac1c0002row2_col4\" class=\"data row2 col4\" >0.5333</td>\n",
              "                        <td id=\"T_0619563a_1846_11eb_932b_0242ac1c0002row2_col5\" class=\"data row2 col5\" >0.4869</td>\n",
              "                        <td id=\"T_0619563a_1846_11eb_932b_0242ac1c0002row2_col6\" class=\"data row2 col6\" >0.5009</td>\n",
              "            </tr>\n",
              "            <tr>\n",
              "                        <th id=\"T_0619563a_1846_11eb_932b_0242ac1c0002level0_row3\" class=\"row_heading level0 row3\" >3</th>\n",
              "                        <td id=\"T_0619563a_1846_11eb_932b_0242ac1c0002row3_col0\" class=\"data row3 col0\" >0.8951</td>\n",
              "                        <td id=\"T_0619563a_1846_11eb_932b_0242ac1c0002row3_col1\" class=\"data row3 col1\" >0.9015</td>\n",
              "                        <td id=\"T_0619563a_1846_11eb_932b_0242ac1c0002row3_col2\" class=\"data row3 col2\" >0.3587</td>\n",
              "                        <td id=\"T_0619563a_1846_11eb_932b_0242ac1c0002row3_col3\" class=\"data row3 col3\" >0.5789</td>\n",
              "                        <td id=\"T_0619563a_1846_11eb_932b_0242ac1c0002row3_col4\" class=\"data row3 col4\" >0.4430</td>\n",
              "                        <td id=\"T_0619563a_1846_11eb_932b_0242ac1c0002row3_col5\" class=\"data row3 col5\" >0.3885</td>\n",
              "                        <td id=\"T_0619563a_1846_11eb_932b_0242ac1c0002row3_col6\" class=\"data row3 col6\" >0.4021</td>\n",
              "            </tr>\n",
              "            <tr>\n",
              "                        <th id=\"T_0619563a_1846_11eb_932b_0242ac1c0002level0_row4\" class=\"row_heading level0 row4\" >Mean</th>\n",
              "                        <td id=\"T_0619563a_1846_11eb_932b_0242ac1c0002row4_col0\" class=\"data row4 col0\" >0.8979</td>\n",
              "                        <td id=\"T_0619563a_1846_11eb_932b_0242ac1c0002row4_col1\" class=\"data row4 col1\" >0.8955</td>\n",
              "                        <td id=\"T_0619563a_1846_11eb_932b_0242ac1c0002row4_col2\" class=\"data row4 col2\" >0.3479</td>\n",
              "                        <td id=\"T_0619563a_1846_11eb_932b_0242ac1c0002row4_col3\" class=\"data row4 col3\" >0.5951</td>\n",
              "                        <td id=\"T_0619563a_1846_11eb_932b_0242ac1c0002row4_col4\" class=\"data row4 col4\" >0.4381</td>\n",
              "                        <td id=\"T_0619563a_1846_11eb_932b_0242ac1c0002row4_col5\" class=\"data row4 col5\" >0.3866</td>\n",
              "                        <td id=\"T_0619563a_1846_11eb_932b_0242ac1c0002row4_col6\" class=\"data row4 col6\" >0.4038</td>\n",
              "            </tr>\n",
              "            <tr>\n",
              "                        <th id=\"T_0619563a_1846_11eb_932b_0242ac1c0002level0_row5\" class=\"row_heading level0 row5\" >SD</th>\n",
              "                        <td id=\"T_0619563a_1846_11eb_932b_0242ac1c0002row5_col0\" class=\"data row5 col0\" >0.0081</td>\n",
              "                        <td id=\"T_0619563a_1846_11eb_932b_0242ac1c0002row5_col1\" class=\"data row5 col1\" >0.0154</td>\n",
              "                        <td id=\"T_0619563a_1846_11eb_932b_0242ac1c0002row5_col2\" class=\"data row5 col2\" >0.0607</td>\n",
              "                        <td id=\"T_0619563a_1846_11eb_932b_0242ac1c0002row5_col3\" class=\"data row5 col3\" >0.0501</td>\n",
              "                        <td id=\"T_0619563a_1846_11eb_932b_0242ac1c0002row5_col4\" class=\"data row5 col4\" >0.0616</td>\n",
              "                        <td id=\"T_0619563a_1846_11eb_932b_0242ac1c0002row5_col5\" class=\"data row5 col5\" >0.0641</td>\n",
              "                        <td id=\"T_0619563a_1846_11eb_932b_0242ac1c0002row5_col6\" class=\"data row5 col6\" >0.0612</td>\n",
              "            </tr>\n",
              "    </tbody></table>"
            ],
            "text/plain": [
              "<pandas.io.formats.style.Styler at 0x7f136f0bb4e0>"
            ]
          },
          "metadata": {
            "tags": []
          }
        }
      ]
    },
    {
      "cell_type": "code",
      "metadata": {
        "id": "MVB6WGNmoPGK",
        "outputId": "72697abe-6589-4e44-ec75-24ce02674e72",
        "colab": {
          "base_uri": "https://localhost:8080/",
          "height": 166
        }
      },
      "source": [
        "#extreme gradient boosting \n",
        "xgboost = create_model('xgboost', fold=4)"
      ],
      "execution_count": null,
      "outputs": [
        {
          "output_type": "display_data",
          "data": {
            "text/html": [
              "<style  type=\"text/css\" >\n",
              "#T_73f50f46_1846_11eb_932b_0242ac1c0002row4_col0,#T_73f50f46_1846_11eb_932b_0242ac1c0002row4_col1,#T_73f50f46_1846_11eb_932b_0242ac1c0002row4_col2,#T_73f50f46_1846_11eb_932b_0242ac1c0002row4_col3,#T_73f50f46_1846_11eb_932b_0242ac1c0002row4_col4,#T_73f50f46_1846_11eb_932b_0242ac1c0002row4_col5,#T_73f50f46_1846_11eb_932b_0242ac1c0002row4_col6{\n",
              "            background:  yellow;\n",
              "        }</style><table id=\"T_73f50f46_1846_11eb_932b_0242ac1c0002\" ><thead>    <tr>        <th class=\"blank level0\" ></th>        <th class=\"col_heading level0 col0\" >Accuracy</th>        <th class=\"col_heading level0 col1\" >AUC</th>        <th class=\"col_heading level0 col2\" >Recall</th>        <th class=\"col_heading level0 col3\" >Prec.</th>        <th class=\"col_heading level0 col4\" >F1</th>        <th class=\"col_heading level0 col5\" >Kappa</th>        <th class=\"col_heading level0 col6\" >MCC</th>    </tr></thead><tbody>\n",
              "                <tr>\n",
              "                        <th id=\"T_73f50f46_1846_11eb_932b_0242ac1c0002level0_row0\" class=\"row_heading level0 row0\" >0</th>\n",
              "                        <td id=\"T_73f50f46_1846_11eb_932b_0242ac1c0002row0_col0\" class=\"data row0 col0\" >0.8875</td>\n",
              "                        <td id=\"T_73f50f46_1846_11eb_932b_0242ac1c0002row0_col1\" class=\"data row0 col1\" >0.8849</td>\n",
              "                        <td id=\"T_73f50f46_1846_11eb_932b_0242ac1c0002row0_col2\" class=\"data row0 col2\" >0.2527</td>\n",
              "                        <td id=\"T_73f50f46_1846_11eb_932b_0242ac1c0002row0_col3\" class=\"data row0 col3\" >0.5227</td>\n",
              "                        <td id=\"T_73f50f46_1846_11eb_932b_0242ac1c0002row0_col4\" class=\"data row0 col4\" >0.3407</td>\n",
              "                        <td id=\"T_73f50f46_1846_11eb_932b_0242ac1c0002row0_col5\" class=\"data row0 col5\" >0.2873</td>\n",
              "                        <td id=\"T_73f50f46_1846_11eb_932b_0242ac1c0002row0_col6\" class=\"data row0 col6\" >0.3101</td>\n",
              "            </tr>\n",
              "            <tr>\n",
              "                        <th id=\"T_73f50f46_1846_11eb_932b_0242ac1c0002level0_row1\" class=\"row_heading level0 row1\" >1</th>\n",
              "                        <td id=\"T_73f50f46_1846_11eb_932b_0242ac1c0002row1_col0\" class=\"data row1 col0\" >0.9001</td>\n",
              "                        <td id=\"T_73f50f46_1846_11eb_932b_0242ac1c0002row1_col1\" class=\"data row1 col1\" >0.8737</td>\n",
              "                        <td id=\"T_73f50f46_1846_11eb_932b_0242ac1c0002row1_col2\" class=\"data row1 col2\" >0.3077</td>\n",
              "                        <td id=\"T_73f50f46_1846_11eb_932b_0242ac1c0002row1_col3\" class=\"data row1 col3\" >0.6364</td>\n",
              "                        <td id=\"T_73f50f46_1846_11eb_932b_0242ac1c0002row1_col4\" class=\"data row1 col4\" >0.4148</td>\n",
              "                        <td id=\"T_73f50f46_1846_11eb_932b_0242ac1c0002row1_col5\" class=\"data row1 col5\" >0.3674</td>\n",
              "                        <td id=\"T_73f50f46_1846_11eb_932b_0242ac1c0002row1_col6\" class=\"data row1 col6\" >0.3965</td>\n",
              "            </tr>\n",
              "            <tr>\n",
              "                        <th id=\"T_73f50f46_1846_11eb_932b_0242ac1c0002level0_row2\" class=\"row_heading level0 row2\" >2</th>\n",
              "                        <td id=\"T_73f50f46_1846_11eb_932b_0242ac1c0002row2_col0\" class=\"data row2 col0\" >0.9027</td>\n",
              "                        <td id=\"T_73f50f46_1846_11eb_932b_0242ac1c0002row2_col1\" class=\"data row2 col1\" >0.9062</td>\n",
              "                        <td id=\"T_73f50f46_1846_11eb_932b_0242ac1c0002row2_col2\" class=\"data row2 col2\" >0.3516</td>\n",
              "                        <td id=\"T_73f50f46_1846_11eb_932b_0242ac1c0002row2_col3\" class=\"data row2 col3\" >0.6400</td>\n",
              "                        <td id=\"T_73f50f46_1846_11eb_932b_0242ac1c0002row2_col4\" class=\"data row2 col4\" >0.4539</td>\n",
              "                        <td id=\"T_73f50f46_1846_11eb_932b_0242ac1c0002row2_col5\" class=\"data row2 col5\" >0.4054</td>\n",
              "                        <td id=\"T_73f50f46_1846_11eb_932b_0242ac1c0002row2_col6\" class=\"data row2 col6\" >0.4274</td>\n",
              "            </tr>\n",
              "            <tr>\n",
              "                        <th id=\"T_73f50f46_1846_11eb_932b_0242ac1c0002level0_row3\" class=\"row_heading level0 row3\" >3</th>\n",
              "                        <td id=\"T_73f50f46_1846_11eb_932b_0242ac1c0002row3_col0\" class=\"data row3 col0\" >0.9027</td>\n",
              "                        <td id=\"T_73f50f46_1846_11eb_932b_0242ac1c0002row3_col1\" class=\"data row3 col1\" >0.8948</td>\n",
              "                        <td id=\"T_73f50f46_1846_11eb_932b_0242ac1c0002row3_col2\" class=\"data row3 col2\" >0.3478</td>\n",
              "                        <td id=\"T_73f50f46_1846_11eb_932b_0242ac1c0002row3_col3\" class=\"data row3 col3\" >0.6531</td>\n",
              "                        <td id=\"T_73f50f46_1846_11eb_932b_0242ac1c0002row3_col4\" class=\"data row3 col4\" >0.4539</td>\n",
              "                        <td id=\"T_73f50f46_1846_11eb_932b_0242ac1c0002row3_col5\" class=\"data row3 col5\" >0.4059</td>\n",
              "                        <td id=\"T_73f50f46_1846_11eb_932b_0242ac1c0002row3_col6\" class=\"data row3 col6\" >0.4302</td>\n",
              "            </tr>\n",
              "            <tr>\n",
              "                        <th id=\"T_73f50f46_1846_11eb_932b_0242ac1c0002level0_row4\" class=\"row_heading level0 row4\" >Mean</th>\n",
              "                        <td id=\"T_73f50f46_1846_11eb_932b_0242ac1c0002row4_col0\" class=\"data row4 col0\" >0.8982</td>\n",
              "                        <td id=\"T_73f50f46_1846_11eb_932b_0242ac1c0002row4_col1\" class=\"data row4 col1\" >0.8899</td>\n",
              "                        <td id=\"T_73f50f46_1846_11eb_932b_0242ac1c0002row4_col2\" class=\"data row4 col2\" >0.3150</td>\n",
              "                        <td id=\"T_73f50f46_1846_11eb_932b_0242ac1c0002row4_col3\" class=\"data row4 col3\" >0.6130</td>\n",
              "                        <td id=\"T_73f50f46_1846_11eb_932b_0242ac1c0002row4_col4\" class=\"data row4 col4\" >0.4158</td>\n",
              "                        <td id=\"T_73f50f46_1846_11eb_932b_0242ac1c0002row4_col5\" class=\"data row4 col5\" >0.3665</td>\n",
              "                        <td id=\"T_73f50f46_1846_11eb_932b_0242ac1c0002row4_col6\" class=\"data row4 col6\" >0.3911</td>\n",
              "            </tr>\n",
              "            <tr>\n",
              "                        <th id=\"T_73f50f46_1846_11eb_932b_0242ac1c0002level0_row5\" class=\"row_heading level0 row5\" >SD</th>\n",
              "                        <td id=\"T_73f50f46_1846_11eb_932b_0242ac1c0002row5_col0\" class=\"data row5 col0\" >0.0063</td>\n",
              "                        <td id=\"T_73f50f46_1846_11eb_932b_0242ac1c0002row5_col1\" class=\"data row5 col1\" >0.0120</td>\n",
              "                        <td id=\"T_73f50f46_1846_11eb_932b_0242ac1c0002row5_col2\" class=\"data row5 col2\" >0.0398</td>\n",
              "                        <td id=\"T_73f50f46_1846_11eb_932b_0242ac1c0002row5_col3\" class=\"data row5 col3\" >0.0525</td>\n",
              "                        <td id=\"T_73f50f46_1846_11eb_932b_0242ac1c0002row5_col4\" class=\"data row5 col4\" >0.0462</td>\n",
              "                        <td id=\"T_73f50f46_1846_11eb_932b_0242ac1c0002row5_col5\" class=\"data row5 col5\" >0.0483</td>\n",
              "                        <td id=\"T_73f50f46_1846_11eb_932b_0242ac1c0002row5_col6\" class=\"data row5 col6\" >0.0486</td>\n",
              "            </tr>\n",
              "    </tbody></table>"
            ],
            "text/plain": [
              "<pandas.io.formats.style.Styler at 0x7f136f197ac8>"
            ]
          },
          "metadata": {
            "tags": []
          }
        }
      ]
    },
    {
      "cell_type": "markdown",
      "metadata": {
        "id": "o4AUQVeWoPGQ"
      },
      "source": [
        "### Task 4: Hyper Parameter tuning the model"
      ]
    },
    {
      "cell_type": "code",
      "metadata": {
        "id": "3eLJ0jMVoPGR",
        "outputId": "a03d6de3-b75e-4cc6-b6a1-f43255f28c7d",
        "colab": {
          "base_uri": "https://localhost:8080/",
          "height": 166
        }
      },
      "source": [
        "#tuning\n",
        "tuned_lgbm = tune_model(lgbm, fold=4)"
      ],
      "execution_count": null,
      "outputs": [
        {
          "output_type": "display_data",
          "data": {
            "text/html": [
              "<style  type=\"text/css\" >\n",
              "#T_ac1c9c54_1846_11eb_932b_0242ac1c0002row4_col0,#T_ac1c9c54_1846_11eb_932b_0242ac1c0002row4_col1,#T_ac1c9c54_1846_11eb_932b_0242ac1c0002row4_col2,#T_ac1c9c54_1846_11eb_932b_0242ac1c0002row4_col3,#T_ac1c9c54_1846_11eb_932b_0242ac1c0002row4_col4,#T_ac1c9c54_1846_11eb_932b_0242ac1c0002row4_col5,#T_ac1c9c54_1846_11eb_932b_0242ac1c0002row4_col6{\n",
              "            background:  yellow;\n",
              "        }</style><table id=\"T_ac1c9c54_1846_11eb_932b_0242ac1c0002\" ><thead>    <tr>        <th class=\"blank level0\" ></th>        <th class=\"col_heading level0 col0\" >Accuracy</th>        <th class=\"col_heading level0 col1\" >AUC</th>        <th class=\"col_heading level0 col2\" >Recall</th>        <th class=\"col_heading level0 col3\" >Prec.</th>        <th class=\"col_heading level0 col4\" >F1</th>        <th class=\"col_heading level0 col5\" >Kappa</th>        <th class=\"col_heading level0 col6\" >MCC</th>    </tr></thead><tbody>\n",
              "                <tr>\n",
              "                        <th id=\"T_ac1c9c54_1846_11eb_932b_0242ac1c0002level0_row0\" class=\"row_heading level0 row0\" >0</th>\n",
              "                        <td id=\"T_ac1c9c54_1846_11eb_932b_0242ac1c0002row0_col0\" class=\"data row0 col0\" >0.8837</td>\n",
              "                        <td id=\"T_ac1c9c54_1846_11eb_932b_0242ac1c0002row0_col1\" class=\"data row0 col1\" >0.8728</td>\n",
              "                        <td id=\"T_ac1c9c54_1846_11eb_932b_0242ac1c0002row0_col2\" class=\"data row0 col2\" >0.2747</td>\n",
              "                        <td id=\"T_ac1c9c54_1846_11eb_932b_0242ac1c0002row0_col3\" class=\"data row0 col3\" >0.4902</td>\n",
              "                        <td id=\"T_ac1c9c54_1846_11eb_932b_0242ac1c0002row0_col4\" class=\"data row0 col4\" >0.3521</td>\n",
              "                        <td id=\"T_ac1c9c54_1846_11eb_932b_0242ac1c0002row0_col5\" class=\"data row0 col5\" >0.2938</td>\n",
              "                        <td id=\"T_ac1c9c54_1846_11eb_932b_0242ac1c0002row0_col6\" class=\"data row0 col6\" >0.3087</td>\n",
              "            </tr>\n",
              "            <tr>\n",
              "                        <th id=\"T_ac1c9c54_1846_11eb_932b_0242ac1c0002level0_row1\" class=\"row_heading level0 row1\" >1</th>\n",
              "                        <td id=\"T_ac1c9c54_1846_11eb_932b_0242ac1c0002row1_col0\" class=\"data row1 col0\" >0.8913</td>\n",
              "                        <td id=\"T_ac1c9c54_1846_11eb_932b_0242ac1c0002row1_col1\" class=\"data row1 col1\" >0.8600</td>\n",
              "                        <td id=\"T_ac1c9c54_1846_11eb_932b_0242ac1c0002row1_col2\" class=\"data row1 col2\" >0.2637</td>\n",
              "                        <td id=\"T_ac1c9c54_1846_11eb_932b_0242ac1c0002row1_col3\" class=\"data row1 col3\" >0.5581</td>\n",
              "                        <td id=\"T_ac1c9c54_1846_11eb_932b_0242ac1c0002row1_col4\" class=\"data row1 col4\" >0.3582</td>\n",
              "                        <td id=\"T_ac1c9c54_1846_11eb_932b_0242ac1c0002row1_col5\" class=\"data row1 col5\" >0.3070</td>\n",
              "                        <td id=\"T_ac1c9c54_1846_11eb_932b_0242ac1c0002row1_col6\" class=\"data row1 col6\" >0.3330</td>\n",
              "            </tr>\n",
              "            <tr>\n",
              "                        <th id=\"T_ac1c9c54_1846_11eb_932b_0242ac1c0002level0_row2\" class=\"row_heading level0 row2\" >2</th>\n",
              "                        <td id=\"T_ac1c9c54_1846_11eb_932b_0242ac1c0002row2_col0\" class=\"data row2 col0\" >0.9064</td>\n",
              "                        <td id=\"T_ac1c9c54_1846_11eb_932b_0242ac1c0002row2_col1\" class=\"data row2 col1\" >0.8965</td>\n",
              "                        <td id=\"T_ac1c9c54_1846_11eb_932b_0242ac1c0002row2_col2\" class=\"data row2 col2\" >0.3846</td>\n",
              "                        <td id=\"T_ac1c9c54_1846_11eb_932b_0242ac1c0002row2_col3\" class=\"data row2 col3\" >0.6604</td>\n",
              "                        <td id=\"T_ac1c9c54_1846_11eb_932b_0242ac1c0002row2_col4\" class=\"data row2 col4\" >0.4861</td>\n",
              "                        <td id=\"T_ac1c9c54_1846_11eb_932b_0242ac1c0002row2_col5\" class=\"data row2 col5\" >0.4386</td>\n",
              "                        <td id=\"T_ac1c9c54_1846_11eb_932b_0242ac1c0002row2_col6\" class=\"data row2 col6\" >0.4580</td>\n",
              "            </tr>\n",
              "            <tr>\n",
              "                        <th id=\"T_ac1c9c54_1846_11eb_932b_0242ac1c0002level0_row3\" class=\"row_heading level0 row3\" >3</th>\n",
              "                        <td id=\"T_ac1c9c54_1846_11eb_932b_0242ac1c0002row3_col0\" class=\"data row3 col0\" >0.8951</td>\n",
              "                        <td id=\"T_ac1c9c54_1846_11eb_932b_0242ac1c0002row3_col1\" class=\"data row3 col1\" >0.8844</td>\n",
              "                        <td id=\"T_ac1c9c54_1846_11eb_932b_0242ac1c0002row3_col2\" class=\"data row3 col2\" >0.3261</td>\n",
              "                        <td id=\"T_ac1c9c54_1846_11eb_932b_0242ac1c0002row3_col3\" class=\"data row3 col3\" >0.5882</td>\n",
              "                        <td id=\"T_ac1c9c54_1846_11eb_932b_0242ac1c0002row3_col4\" class=\"data row3 col4\" >0.4196</td>\n",
              "                        <td id=\"T_ac1c9c54_1846_11eb_932b_0242ac1c0002row3_col5\" class=\"data row3 col5\" >0.3671</td>\n",
              "                        <td id=\"T_ac1c9c54_1846_11eb_932b_0242ac1c0002row3_col6\" class=\"data row3 col6\" >0.3864</td>\n",
              "            </tr>\n",
              "            <tr>\n",
              "                        <th id=\"T_ac1c9c54_1846_11eb_932b_0242ac1c0002level0_row4\" class=\"row_heading level0 row4\" >Mean</th>\n",
              "                        <td id=\"T_ac1c9c54_1846_11eb_932b_0242ac1c0002row4_col0\" class=\"data row4 col0\" >0.8941</td>\n",
              "                        <td id=\"T_ac1c9c54_1846_11eb_932b_0242ac1c0002row4_col1\" class=\"data row4 col1\" >0.8784</td>\n",
              "                        <td id=\"T_ac1c9c54_1846_11eb_932b_0242ac1c0002row4_col2\" class=\"data row4 col2\" >0.3123</td>\n",
              "                        <td id=\"T_ac1c9c54_1846_11eb_932b_0242ac1c0002row4_col3\" class=\"data row4 col3\" >0.5742</td>\n",
              "                        <td id=\"T_ac1c9c54_1846_11eb_932b_0242ac1c0002row4_col4\" class=\"data row4 col4\" >0.4040</td>\n",
              "                        <td id=\"T_ac1c9c54_1846_11eb_932b_0242ac1c0002row4_col5\" class=\"data row4 col5\" >0.3516</td>\n",
              "                        <td id=\"T_ac1c9c54_1846_11eb_932b_0242ac1c0002row4_col6\" class=\"data row4 col6\" >0.3715</td>\n",
              "            </tr>\n",
              "            <tr>\n",
              "                        <th id=\"T_ac1c9c54_1846_11eb_932b_0242ac1c0002level0_row5\" class=\"row_heading level0 row5\" >SD</th>\n",
              "                        <td id=\"T_ac1c9c54_1846_11eb_932b_0242ac1c0002row5_col0\" class=\"data row5 col0\" >0.0082</td>\n",
              "                        <td id=\"T_ac1c9c54_1846_11eb_932b_0242ac1c0002row5_col1\" class=\"data row5 col1\" >0.0136</td>\n",
              "                        <td id=\"T_ac1c9c54_1846_11eb_932b_0242ac1c0002row5_col2\" class=\"data row5 col2\" >0.0479</td>\n",
              "                        <td id=\"T_ac1c9c54_1846_11eb_932b_0242ac1c0002row5_col3\" class=\"data row5 col3\" >0.0611</td>\n",
              "                        <td id=\"T_ac1c9c54_1846_11eb_932b_0242ac1c0002row5_col4\" class=\"data row5 col4\" >0.0543</td>\n",
              "                        <td id=\"T_ac1c9c54_1846_11eb_932b_0242ac1c0002row5_col5\" class=\"data row5 col5\" >0.0573</td>\n",
              "                        <td id=\"T_ac1c9c54_1846_11eb_932b_0242ac1c0002row5_col6\" class=\"data row5 col6\" >0.0573</td>\n",
              "            </tr>\n",
              "    </tbody></table>"
            ],
            "text/plain": [
              "<pandas.io.formats.style.Styler at 0x7f136f35e2e8>"
            ]
          },
          "metadata": {
            "tags": []
          }
        }
      ]
    },
    {
      "cell_type": "code",
      "metadata": {
        "id": "8RYCmmUloPGU",
        "outputId": "57827ea2-a86e-4745-dbc2-d1b4e25b69c2",
        "colab": {
          "base_uri": "https://localhost:8080/",
          "height": 119
        }
      },
      "source": [
        "#checking parameters\n",
        "lgbm"
      ],
      "execution_count": null,
      "outputs": [
        {
          "output_type": "execute_result",
          "data": {
            "text/plain": [
              "LGBMClassifier(boosting_type='gbdt', class_weight=None, colsample_bytree=1.0,\n",
              "               importance_type='split', learning_rate=0.1, max_depth=-1,\n",
              "               min_child_samples=20, min_child_weight=0.001, min_split_gain=0.0,\n",
              "               n_estimators=100, n_jobs=-1, num_leaves=31, objective=None,\n",
              "               random_state=123, reg_alpha=0.0, reg_lambda=0.0, silent=True,\n",
              "               subsample=1.0, subsample_for_bin=200000, subsample_freq=0)"
            ]
          },
          "metadata": {
            "tags": []
          },
          "execution_count": 36
        }
      ]
    },
    {
      "cell_type": "markdown",
      "metadata": {
        "id": "25Ps7qmYoPGY"
      },
      "source": [
        "### Task 5: Stacking, Blending & Ensemble multiple models\n",
        "- **Stacking:** A learning technique that combines multiple classification or regression models via meta model. The base model are trained based on a complete training set, then the meta model is trained on the output of these base level models as feature.\n",
        "- **Ennsamble:** Is a techinque that creates multiple models and then combined them to produce improved results, usually produces more accurate solutions than a single model would.\n",
        "- **Blending:** A function that creates a soft voting or majority rule classifier from all the estimators in the list."
      ]
    },
    {
      "cell_type": "code",
      "metadata": {
        "id": "J8YmNzNZoPGZ",
        "outputId": "4085bd50-9635-4027-8193-68caeaa782f0",
        "colab": {
          "base_uri": "https://localhost:8080/",
          "height": 166
        }
      },
      "source": [
        "stacked_lgbm = stack_models(estimator_list = [tuned_lgbm, xgboost, gbc],\n",
        "                           meta_model=lgbm, fold=4)"
      ],
      "execution_count": null,
      "outputs": [
        {
          "output_type": "display_data",
          "data": {
            "text/html": [
              "<style  type=\"text/css\" >\n",
              "#T_93c2009e_1847_11eb_932b_0242ac1c0002row4_col0,#T_93c2009e_1847_11eb_932b_0242ac1c0002row4_col1,#T_93c2009e_1847_11eb_932b_0242ac1c0002row4_col2,#T_93c2009e_1847_11eb_932b_0242ac1c0002row4_col3,#T_93c2009e_1847_11eb_932b_0242ac1c0002row4_col4,#T_93c2009e_1847_11eb_932b_0242ac1c0002row4_col5,#T_93c2009e_1847_11eb_932b_0242ac1c0002row4_col6{\n",
              "            background:  yellow;\n",
              "        }</style><table id=\"T_93c2009e_1847_11eb_932b_0242ac1c0002\" ><thead>    <tr>        <th class=\"blank level0\" ></th>        <th class=\"col_heading level0 col0\" >Accuracy</th>        <th class=\"col_heading level0 col1\" >AUC</th>        <th class=\"col_heading level0 col2\" >Recall</th>        <th class=\"col_heading level0 col3\" >Prec.</th>        <th class=\"col_heading level0 col4\" >F1</th>        <th class=\"col_heading level0 col5\" >Kappa</th>        <th class=\"col_heading level0 col6\" >MCC</th>    </tr></thead><tbody>\n",
              "                <tr>\n",
              "                        <th id=\"T_93c2009e_1847_11eb_932b_0242ac1c0002level0_row0\" class=\"row_heading level0 row0\" >0</th>\n",
              "                        <td id=\"T_93c2009e_1847_11eb_932b_0242ac1c0002row0_col0\" class=\"data row0 col0\" >0.8862</td>\n",
              "                        <td id=\"T_93c2009e_1847_11eb_932b_0242ac1c0002row0_col1\" class=\"data row0 col1\" >0.8722</td>\n",
              "                        <td id=\"T_93c2009e_1847_11eb_932b_0242ac1c0002row0_col2\" class=\"data row0 col2\" >0.1978</td>\n",
              "                        <td id=\"T_93c2009e_1847_11eb_932b_0242ac1c0002row0_col3\" class=\"data row0 col3\" >0.5143</td>\n",
              "                        <td id=\"T_93c2009e_1847_11eb_932b_0242ac1c0002row0_col4\" class=\"data row0 col4\" >0.2857</td>\n",
              "                        <td id=\"T_93c2009e_1847_11eb_932b_0242ac1c0002row0_col5\" class=\"data row0 col5\" >0.2369</td>\n",
              "                        <td id=\"T_93c2009e_1847_11eb_932b_0242ac1c0002row0_col6\" class=\"data row0 col6\" >0.2692</td>\n",
              "            </tr>\n",
              "            <tr>\n",
              "                        <th id=\"T_93c2009e_1847_11eb_932b_0242ac1c0002level0_row1\" class=\"row_heading level0 row1\" >1</th>\n",
              "                        <td id=\"T_93c2009e_1847_11eb_932b_0242ac1c0002row1_col0\" class=\"data row1 col0\" >0.8900</td>\n",
              "                        <td id=\"T_93c2009e_1847_11eb_932b_0242ac1c0002row1_col1\" class=\"data row1 col1\" >0.8680</td>\n",
              "                        <td id=\"T_93c2009e_1847_11eb_932b_0242ac1c0002row1_col2\" class=\"data row1 col2\" >0.3297</td>\n",
              "                        <td id=\"T_93c2009e_1847_11eb_932b_0242ac1c0002row1_col3\" class=\"data row1 col3\" >0.5357</td>\n",
              "                        <td id=\"T_93c2009e_1847_11eb_932b_0242ac1c0002row1_col4\" class=\"data row1 col4\" >0.4082</td>\n",
              "                        <td id=\"T_93c2009e_1847_11eb_932b_0242ac1c0002row1_col5\" class=\"data row1 col5\" >0.3513</td>\n",
              "                        <td id=\"T_93c2009e_1847_11eb_932b_0242ac1c0002row1_col6\" class=\"data row1 col6\" >0.3639</td>\n",
              "            </tr>\n",
              "            <tr>\n",
              "                        <th id=\"T_93c2009e_1847_11eb_932b_0242ac1c0002level0_row2\" class=\"row_heading level0 row2\" >2</th>\n",
              "                        <td id=\"T_93c2009e_1847_11eb_932b_0242ac1c0002row2_col0\" class=\"data row2 col0\" >0.9102</td>\n",
              "                        <td id=\"T_93c2009e_1847_11eb_932b_0242ac1c0002row2_col1\" class=\"data row2 col1\" >0.8980</td>\n",
              "                        <td id=\"T_93c2009e_1847_11eb_932b_0242ac1c0002row2_col2\" class=\"data row2 col2\" >0.4176</td>\n",
              "                        <td id=\"T_93c2009e_1847_11eb_932b_0242ac1c0002row2_col3\" class=\"data row2 col3\" >0.6786</td>\n",
              "                        <td id=\"T_93c2009e_1847_11eb_932b_0242ac1c0002row2_col4\" class=\"data row2 col4\" >0.5170</td>\n",
              "                        <td id=\"T_93c2009e_1847_11eb_932b_0242ac1c0002row2_col5\" class=\"data row2 col5\" >0.4706</td>\n",
              "                        <td id=\"T_93c2009e_1847_11eb_932b_0242ac1c0002row2_col6\" class=\"data row2 col6\" >0.4875</td>\n",
              "            </tr>\n",
              "            <tr>\n",
              "                        <th id=\"T_93c2009e_1847_11eb_932b_0242ac1c0002level0_row3\" class=\"row_heading level0 row3\" >3</th>\n",
              "                        <td id=\"T_93c2009e_1847_11eb_932b_0242ac1c0002row3_col0\" class=\"data row3 col0\" >0.8951</td>\n",
              "                        <td id=\"T_93c2009e_1847_11eb_932b_0242ac1c0002row3_col1\" class=\"data row3 col1\" >0.8869</td>\n",
              "                        <td id=\"T_93c2009e_1847_11eb_932b_0242ac1c0002row3_col2\" class=\"data row3 col2\" >0.3370</td>\n",
              "                        <td id=\"T_93c2009e_1847_11eb_932b_0242ac1c0002row3_col3\" class=\"data row3 col3\" >0.5849</td>\n",
              "                        <td id=\"T_93c2009e_1847_11eb_932b_0242ac1c0002row3_col4\" class=\"data row3 col4\" >0.4276</td>\n",
              "                        <td id=\"T_93c2009e_1847_11eb_932b_0242ac1c0002row3_col5\" class=\"data row3 col5\" >0.3744</td>\n",
              "                        <td id=\"T_93c2009e_1847_11eb_932b_0242ac1c0002row3_col6\" class=\"data row3 col6\" >0.3917</td>\n",
              "            </tr>\n",
              "            <tr>\n",
              "                        <th id=\"T_93c2009e_1847_11eb_932b_0242ac1c0002level0_row4\" class=\"row_heading level0 row4\" >Mean</th>\n",
              "                        <td id=\"T_93c2009e_1847_11eb_932b_0242ac1c0002row4_col0\" class=\"data row4 col0\" >0.8954</td>\n",
              "                        <td id=\"T_93c2009e_1847_11eb_932b_0242ac1c0002row4_col1\" class=\"data row4 col1\" >0.8813</td>\n",
              "                        <td id=\"T_93c2009e_1847_11eb_932b_0242ac1c0002row4_col2\" class=\"data row4 col2\" >0.3205</td>\n",
              "                        <td id=\"T_93c2009e_1847_11eb_932b_0242ac1c0002row4_col3\" class=\"data row4 col3\" >0.5784</td>\n",
              "                        <td id=\"T_93c2009e_1847_11eb_932b_0242ac1c0002row4_col4\" class=\"data row4 col4\" >0.4096</td>\n",
              "                        <td id=\"T_93c2009e_1847_11eb_932b_0242ac1c0002row4_col5\" class=\"data row4 col5\" >0.3583</td>\n",
              "                        <td id=\"T_93c2009e_1847_11eb_932b_0242ac1c0002row4_col6\" class=\"data row4 col6\" >0.3781</td>\n",
              "            </tr>\n",
              "            <tr>\n",
              "                        <th id=\"T_93c2009e_1847_11eb_932b_0242ac1c0002level0_row5\" class=\"row_heading level0 row5\" >SD</th>\n",
              "                        <td id=\"T_93c2009e_1847_11eb_932b_0242ac1c0002row5_col0\" class=\"data row5 col0\" >0.0091</td>\n",
              "                        <td id=\"T_93c2009e_1847_11eb_932b_0242ac1c0002row5_col1\" class=\"data row5 col1\" >0.0119</td>\n",
              "                        <td id=\"T_93c2009e_1847_11eb_932b_0242ac1c0002row5_col2\" class=\"data row5 col2\" >0.0788</td>\n",
              "                        <td id=\"T_93c2009e_1847_11eb_932b_0242ac1c0002row5_col3\" class=\"data row5 col3\" >0.0633</td>\n",
              "                        <td id=\"T_93c2009e_1847_11eb_932b_0242ac1c0002row5_col4\" class=\"data row5 col4\" >0.0825</td>\n",
              "                        <td id=\"T_93c2009e_1847_11eb_932b_0242ac1c0002row5_col5\" class=\"data row5 col5\" >0.0831</td>\n",
              "                        <td id=\"T_93c2009e_1847_11eb_932b_0242ac1c0002row5_col6\" class=\"data row5 col6\" >0.0778</td>\n",
              "            </tr>\n",
              "    </tbody></table>"
            ],
            "text/plain": [
              "<pandas.io.formats.style.Styler at 0x7f136f38b3c8>"
            ]
          },
          "metadata": {
            "tags": []
          }
        }
      ]
    },
    {
      "cell_type": "code",
      "metadata": {
        "id": "yGgdUKpfoPGd",
        "outputId": "43ca2a07-babd-4389-c0a7-09ca47a5d835",
        "colab": {
          "base_uri": "https://localhost:8080/",
          "height": 166
        }
      },
      "source": [
        "en_mod = ensemble_model(lgbm, n_estimators = 10, fold=4)"
      ],
      "execution_count": null,
      "outputs": [
        {
          "output_type": "display_data",
          "data": {
            "text/html": [
              "<style  type=\"text/css\" >\n",
              "#T_b3ad1510_1847_11eb_932b_0242ac1c0002row4_col0,#T_b3ad1510_1847_11eb_932b_0242ac1c0002row4_col1,#T_b3ad1510_1847_11eb_932b_0242ac1c0002row4_col2,#T_b3ad1510_1847_11eb_932b_0242ac1c0002row4_col3,#T_b3ad1510_1847_11eb_932b_0242ac1c0002row4_col4,#T_b3ad1510_1847_11eb_932b_0242ac1c0002row4_col5,#T_b3ad1510_1847_11eb_932b_0242ac1c0002row4_col6{\n",
              "            background:  yellow;\n",
              "        }</style><table id=\"T_b3ad1510_1847_11eb_932b_0242ac1c0002\" ><thead>    <tr>        <th class=\"blank level0\" ></th>        <th class=\"col_heading level0 col0\" >Accuracy</th>        <th class=\"col_heading level0 col1\" >AUC</th>        <th class=\"col_heading level0 col2\" >Recall</th>        <th class=\"col_heading level0 col3\" >Prec.</th>        <th class=\"col_heading level0 col4\" >F1</th>        <th class=\"col_heading level0 col5\" >Kappa</th>        <th class=\"col_heading level0 col6\" >MCC</th>    </tr></thead><tbody>\n",
              "                <tr>\n",
              "                        <th id=\"T_b3ad1510_1847_11eb_932b_0242ac1c0002level0_row0\" class=\"row_heading level0 row0\" >0</th>\n",
              "                        <td id=\"T_b3ad1510_1847_11eb_932b_0242ac1c0002row0_col0\" class=\"data row0 col0\" >0.8862</td>\n",
              "                        <td id=\"T_b3ad1510_1847_11eb_932b_0242ac1c0002row0_col1\" class=\"data row0 col1\" >0.8974</td>\n",
              "                        <td id=\"T_b3ad1510_1847_11eb_932b_0242ac1c0002row0_col2\" class=\"data row0 col2\" >0.2418</td>\n",
              "                        <td id=\"T_b3ad1510_1847_11eb_932b_0242ac1c0002row0_col3\" class=\"data row0 col3\" >0.5116</td>\n",
              "                        <td id=\"T_b3ad1510_1847_11eb_932b_0242ac1c0002row0_col4\" class=\"data row0 col4\" >0.3284</td>\n",
              "                        <td id=\"T_b3ad1510_1847_11eb_932b_0242ac1c0002row0_col5\" class=\"data row0 col5\" >0.2748</td>\n",
              "                        <td id=\"T_b3ad1510_1847_11eb_932b_0242ac1c0002row0_col6\" class=\"data row0 col6\" >0.2980</td>\n",
              "            </tr>\n",
              "            <tr>\n",
              "                        <th id=\"T_b3ad1510_1847_11eb_932b_0242ac1c0002level0_row1\" class=\"row_heading level0 row1\" >1</th>\n",
              "                        <td id=\"T_b3ad1510_1847_11eb_932b_0242ac1c0002row1_col0\" class=\"data row1 col0\" >0.8951</td>\n",
              "                        <td id=\"T_b3ad1510_1847_11eb_932b_0242ac1c0002row1_col1\" class=\"data row1 col1\" >0.8957</td>\n",
              "                        <td id=\"T_b3ad1510_1847_11eb_932b_0242ac1c0002row1_col2\" class=\"data row1 col2\" >0.2967</td>\n",
              "                        <td id=\"T_b3ad1510_1847_11eb_932b_0242ac1c0002row1_col3\" class=\"data row1 col3\" >0.5870</td>\n",
              "                        <td id=\"T_b3ad1510_1847_11eb_932b_0242ac1c0002row1_col4\" class=\"data row1 col4\" >0.3942</td>\n",
              "                        <td id=\"T_b3ad1510_1847_11eb_932b_0242ac1c0002row1_col5\" class=\"data row1 col5\" >0.3434</td>\n",
              "                        <td id=\"T_b3ad1510_1847_11eb_932b_0242ac1c0002row1_col6\" class=\"data row1 col6\" >0.3675</td>\n",
              "            </tr>\n",
              "            <tr>\n",
              "                        <th id=\"T_b3ad1510_1847_11eb_932b_0242ac1c0002level0_row2\" class=\"row_heading level0 row2\" >2</th>\n",
              "                        <td id=\"T_b3ad1510_1847_11eb_932b_0242ac1c0002row2_col0\" class=\"data row2 col0\" >0.9027</td>\n",
              "                        <td id=\"T_b3ad1510_1847_11eb_932b_0242ac1c0002row2_col1\" class=\"data row2 col1\" >0.9176</td>\n",
              "                        <td id=\"T_b3ad1510_1847_11eb_932b_0242ac1c0002row2_col2\" class=\"data row2 col2\" >0.3626</td>\n",
              "                        <td id=\"T_b3ad1510_1847_11eb_932b_0242ac1c0002row2_col3\" class=\"data row2 col3\" >0.6346</td>\n",
              "                        <td id=\"T_b3ad1510_1847_11eb_932b_0242ac1c0002row2_col4\" class=\"data row2 col4\" >0.4615</td>\n",
              "                        <td id=\"T_b3ad1510_1847_11eb_932b_0242ac1c0002row2_col5\" class=\"data row2 col5\" >0.4124</td>\n",
              "                        <td id=\"T_b3ad1510_1847_11eb_932b_0242ac1c0002row2_col6\" class=\"data row2 col6\" >0.4319</td>\n",
              "            </tr>\n",
              "            <tr>\n",
              "                        <th id=\"T_b3ad1510_1847_11eb_932b_0242ac1c0002level0_row3\" class=\"row_heading level0 row3\" >3</th>\n",
              "                        <td id=\"T_b3ad1510_1847_11eb_932b_0242ac1c0002row3_col0\" class=\"data row3 col0\" >0.9052</td>\n",
              "                        <td id=\"T_b3ad1510_1847_11eb_932b_0242ac1c0002row3_col1\" class=\"data row3 col1\" >0.9052</td>\n",
              "                        <td id=\"T_b3ad1510_1847_11eb_932b_0242ac1c0002row3_col2\" class=\"data row3 col2\" >0.3261</td>\n",
              "                        <td id=\"T_b3ad1510_1847_11eb_932b_0242ac1c0002row3_col3\" class=\"data row3 col3\" >0.6977</td>\n",
              "                        <td id=\"T_b3ad1510_1847_11eb_932b_0242ac1c0002row3_col4\" class=\"data row3 col4\" >0.4444</td>\n",
              "                        <td id=\"T_b3ad1510_1847_11eb_932b_0242ac1c0002row3_col5\" class=\"data row3 col5\" >0.4000</td>\n",
              "                        <td id=\"T_b3ad1510_1847_11eb_932b_0242ac1c0002row3_col6\" class=\"data row3 col6\" >0.4348</td>\n",
              "            </tr>\n",
              "            <tr>\n",
              "                        <th id=\"T_b3ad1510_1847_11eb_932b_0242ac1c0002level0_row4\" class=\"row_heading level0 row4\" >Mean</th>\n",
              "                        <td id=\"T_b3ad1510_1847_11eb_932b_0242ac1c0002row4_col0\" class=\"data row4 col0\" >0.8973</td>\n",
              "                        <td id=\"T_b3ad1510_1847_11eb_932b_0242ac1c0002row4_col1\" class=\"data row4 col1\" >0.9040</td>\n",
              "                        <td id=\"T_b3ad1510_1847_11eb_932b_0242ac1c0002row4_col2\" class=\"data row4 col2\" >0.3068</td>\n",
              "                        <td id=\"T_b3ad1510_1847_11eb_932b_0242ac1c0002row4_col3\" class=\"data row4 col3\" >0.6077</td>\n",
              "                        <td id=\"T_b3ad1510_1847_11eb_932b_0242ac1c0002row4_col4\" class=\"data row4 col4\" >0.4071</td>\n",
              "                        <td id=\"T_b3ad1510_1847_11eb_932b_0242ac1c0002row4_col5\" class=\"data row4 col5\" >0.3577</td>\n",
              "                        <td id=\"T_b3ad1510_1847_11eb_932b_0242ac1c0002row4_col6\" class=\"data row4 col6\" >0.3831</td>\n",
              "            </tr>\n",
              "            <tr>\n",
              "                        <th id=\"T_b3ad1510_1847_11eb_932b_0242ac1c0002level0_row5\" class=\"row_heading level0 row5\" >SD</th>\n",
              "                        <td id=\"T_b3ad1510_1847_11eb_932b_0242ac1c0002row5_col0\" class=\"data row5 col0\" >0.0074</td>\n",
              "                        <td id=\"T_b3ad1510_1847_11eb_932b_0242ac1c0002row5_col1\" class=\"data row5 col1\" >0.0086</td>\n",
              "                        <td id=\"T_b3ad1510_1847_11eb_932b_0242ac1c0002row5_col2\" class=\"data row5 col2\" >0.0442</td>\n",
              "                        <td id=\"T_b3ad1510_1847_11eb_932b_0242ac1c0002row5_col3\" class=\"data row5 col3\" >0.0680</td>\n",
              "                        <td id=\"T_b3ad1510_1847_11eb_932b_0242ac1c0002row5_col4\" class=\"data row5 col4\" >0.0518</td>\n",
              "                        <td id=\"T_b3ad1510_1847_11eb_932b_0242ac1c0002row5_col5\" class=\"data row5 col5\" >0.0544</td>\n",
              "                        <td id=\"T_b3ad1510_1847_11eb_932b_0242ac1c0002row5_col6\" class=\"data row5 col6\" >0.0560</td>\n",
              "            </tr>\n",
              "    </tbody></table>"
            ],
            "text/plain": [
              "<pandas.io.formats.style.Styler at 0x7f136f38bcf8>"
            ]
          },
          "metadata": {
            "tags": []
          }
        }
      ]
    },
    {
      "cell_type": "code",
      "metadata": {
        "id": "2fLgOwe2oPGh",
        "outputId": "8195f852-71b1-4b9f-9199-3c3c5f882f6a",
        "colab": {
          "base_uri": "https://localhost:8080/",
          "height": 166,
          "referenced_widgets": [
            "b1eaeec3aaf24aa08e0d50cbe0f67230",
            "bebd4f8865ae41988ec18430213b8382",
            "0e02d18494fa4cee8bcc0227ad26e871"
          ]
        }
      },
      "source": [
        "blender = blend_models(estimator_list = [lgbm,gbc,xgboost, en_mod], method = 'soft', fold=4)"
      ],
      "execution_count": null,
      "outputs": [
        {
          "output_type": "display_data",
          "data": {
            "text/html": [
              "<style  type=\"text/css\" >\n",
              "#T_ff39368a_1847_11eb_932b_0242ac1c0002row4_col0,#T_ff39368a_1847_11eb_932b_0242ac1c0002row4_col1,#T_ff39368a_1847_11eb_932b_0242ac1c0002row4_col2,#T_ff39368a_1847_11eb_932b_0242ac1c0002row4_col3,#T_ff39368a_1847_11eb_932b_0242ac1c0002row4_col4,#T_ff39368a_1847_11eb_932b_0242ac1c0002row4_col5,#T_ff39368a_1847_11eb_932b_0242ac1c0002row4_col6{\n",
              "            background:  yellow;\n",
              "        }</style><table id=\"T_ff39368a_1847_11eb_932b_0242ac1c0002\" ><thead>    <tr>        <th class=\"blank level0\" ></th>        <th class=\"col_heading level0 col0\" >Accuracy</th>        <th class=\"col_heading level0 col1\" >AUC</th>        <th class=\"col_heading level0 col2\" >Recall</th>        <th class=\"col_heading level0 col3\" >Prec.</th>        <th class=\"col_heading level0 col4\" >F1</th>        <th class=\"col_heading level0 col5\" >Kappa</th>        <th class=\"col_heading level0 col6\" >MCC</th>    </tr></thead><tbody>\n",
              "                <tr>\n",
              "                        <th id=\"T_ff39368a_1847_11eb_932b_0242ac1c0002level0_row0\" class=\"row_heading level0 row0\" >0</th>\n",
              "                        <td id=\"T_ff39368a_1847_11eb_932b_0242ac1c0002row0_col0\" class=\"data row0 col0\" >0.8887</td>\n",
              "                        <td id=\"T_ff39368a_1847_11eb_932b_0242ac1c0002row0_col1\" class=\"data row0 col1\" >0.8900</td>\n",
              "                        <td id=\"T_ff39368a_1847_11eb_932b_0242ac1c0002row0_col2\" class=\"data row0 col2\" >0.2418</td>\n",
              "                        <td id=\"T_ff39368a_1847_11eb_932b_0242ac1c0002row0_col3\" class=\"data row0 col3\" >0.5366</td>\n",
              "                        <td id=\"T_ff39368a_1847_11eb_932b_0242ac1c0002row0_col4\" class=\"data row0 col4\" >0.3333</td>\n",
              "                        <td id=\"T_ff39368a_1847_11eb_932b_0242ac1c0002row0_col5\" class=\"data row0 col5\" >0.2820</td>\n",
              "                        <td id=\"T_ff39368a_1847_11eb_932b_0242ac1c0002row0_col6\" class=\"data row0 col6\" >0.3089</td>\n",
              "            </tr>\n",
              "            <tr>\n",
              "                        <th id=\"T_ff39368a_1847_11eb_932b_0242ac1c0002level0_row1\" class=\"row_heading level0 row1\" >1</th>\n",
              "                        <td id=\"T_ff39368a_1847_11eb_932b_0242ac1c0002row1_col0\" class=\"data row1 col0\" >0.8963</td>\n",
              "                        <td id=\"T_ff39368a_1847_11eb_932b_0242ac1c0002row1_col1\" class=\"data row1 col1\" >0.8873</td>\n",
              "                        <td id=\"T_ff39368a_1847_11eb_932b_0242ac1c0002row1_col2\" class=\"data row1 col2\" >0.3297</td>\n",
              "                        <td id=\"T_ff39368a_1847_11eb_932b_0242ac1c0002row1_col3\" class=\"data row1 col3\" >0.5882</td>\n",
              "                        <td id=\"T_ff39368a_1847_11eb_932b_0242ac1c0002row1_col4\" class=\"data row1 col4\" >0.4225</td>\n",
              "                        <td id=\"T_ff39368a_1847_11eb_932b_0242ac1c0002row1_col5\" class=\"data row1 col5\" >0.3705</td>\n",
              "                        <td id=\"T_ff39368a_1847_11eb_932b_0242ac1c0002row1_col6\" class=\"data row1 col6\" >0.3893</td>\n",
              "            </tr>\n",
              "            <tr>\n",
              "                        <th id=\"T_ff39368a_1847_11eb_932b_0242ac1c0002level0_row2\" class=\"row_heading level0 row2\" >2</th>\n",
              "                        <td id=\"T_ff39368a_1847_11eb_932b_0242ac1c0002row2_col0\" class=\"data row2 col0\" >0.9064</td>\n",
              "                        <td id=\"T_ff39368a_1847_11eb_932b_0242ac1c0002row2_col1\" class=\"data row2 col1\" >0.9199</td>\n",
              "                        <td id=\"T_ff39368a_1847_11eb_932b_0242ac1c0002row2_col2\" class=\"data row2 col2\" >0.3846</td>\n",
              "                        <td id=\"T_ff39368a_1847_11eb_932b_0242ac1c0002row2_col3\" class=\"data row2 col3\" >0.6604</td>\n",
              "                        <td id=\"T_ff39368a_1847_11eb_932b_0242ac1c0002row2_col4\" class=\"data row2 col4\" >0.4861</td>\n",
              "                        <td id=\"T_ff39368a_1847_11eb_932b_0242ac1c0002row2_col5\" class=\"data row2 col5\" >0.4386</td>\n",
              "                        <td id=\"T_ff39368a_1847_11eb_932b_0242ac1c0002row2_col6\" class=\"data row2 col6\" >0.4580</td>\n",
              "            </tr>\n",
              "            <tr>\n",
              "                        <th id=\"T_ff39368a_1847_11eb_932b_0242ac1c0002level0_row3\" class=\"row_heading level0 row3\" >3</th>\n",
              "                        <td id=\"T_ff39368a_1847_11eb_932b_0242ac1c0002row3_col0\" class=\"data row3 col0\" >0.9052</td>\n",
              "                        <td id=\"T_ff39368a_1847_11eb_932b_0242ac1c0002row3_col1\" class=\"data row3 col1\" >0.9076</td>\n",
              "                        <td id=\"T_ff39368a_1847_11eb_932b_0242ac1c0002row3_col2\" class=\"data row3 col2\" >0.3696</td>\n",
              "                        <td id=\"T_ff39368a_1847_11eb_932b_0242ac1c0002row3_col3\" class=\"data row3 col3\" >0.6667</td>\n",
              "                        <td id=\"T_ff39368a_1847_11eb_932b_0242ac1c0002row3_col4\" class=\"data row3 col4\" >0.4755</td>\n",
              "                        <td id=\"T_ff39368a_1847_11eb_932b_0242ac1c0002row3_col5\" class=\"data row3 col5\" >0.4281</td>\n",
              "                        <td id=\"T_ff39368a_1847_11eb_932b_0242ac1c0002row3_col6\" class=\"data row3 col6\" >0.4507</td>\n",
              "            </tr>\n",
              "            <tr>\n",
              "                        <th id=\"T_ff39368a_1847_11eb_932b_0242ac1c0002level0_row4\" class=\"row_heading level0 row4\" >Mean</th>\n",
              "                        <td id=\"T_ff39368a_1847_11eb_932b_0242ac1c0002row4_col0\" class=\"data row4 col0\" >0.8992</td>\n",
              "                        <td id=\"T_ff39368a_1847_11eb_932b_0242ac1c0002row4_col1\" class=\"data row4 col1\" >0.9012</td>\n",
              "                        <td id=\"T_ff39368a_1847_11eb_932b_0242ac1c0002row4_col2\" class=\"data row4 col2\" >0.3314</td>\n",
              "                        <td id=\"T_ff39368a_1847_11eb_932b_0242ac1c0002row4_col3\" class=\"data row4 col3\" >0.6130</td>\n",
              "                        <td id=\"T_ff39368a_1847_11eb_932b_0242ac1c0002row4_col4\" class=\"data row4 col4\" >0.4294</td>\n",
              "                        <td id=\"T_ff39368a_1847_11eb_932b_0242ac1c0002row4_col5\" class=\"data row4 col5\" >0.3798</td>\n",
              "                        <td id=\"T_ff39368a_1847_11eb_932b_0242ac1c0002row4_col6\" class=\"data row4 col6\" >0.4017</td>\n",
              "            </tr>\n",
              "            <tr>\n",
              "                        <th id=\"T_ff39368a_1847_11eb_932b_0242ac1c0002level0_row5\" class=\"row_heading level0 row5\" >SD</th>\n",
              "                        <td id=\"T_ff39368a_1847_11eb_932b_0242ac1c0002row5_col0\" class=\"data row5 col0\" >0.0072</td>\n",
              "                        <td id=\"T_ff39368a_1847_11eb_932b_0242ac1c0002row5_col1\" class=\"data row5 col1\" >0.0133</td>\n",
              "                        <td id=\"T_ff39368a_1847_11eb_932b_0242ac1c0002row5_col2\" class=\"data row5 col2\" >0.0555</td>\n",
              "                        <td id=\"T_ff39368a_1847_11eb_932b_0242ac1c0002row5_col3\" class=\"data row5 col3\" >0.0538</td>\n",
              "                        <td id=\"T_ff39368a_1847_11eb_932b_0242ac1c0002row5_col4\" class=\"data row5 col4\" >0.0605</td>\n",
              "                        <td id=\"T_ff39368a_1847_11eb_932b_0242ac1c0002row5_col5\" class=\"data row5 col5\" >0.0621</td>\n",
              "                        <td id=\"T_ff39368a_1847_11eb_932b_0242ac1c0002row5_col6\" class=\"data row5 col6\" >0.0599</td>\n",
              "            </tr>\n",
              "    </tbody></table>"
            ],
            "text/plain": [
              "<pandas.io.formats.style.Styler at 0x7f136f2e5128>"
            ]
          },
          "metadata": {
            "tags": []
          }
        }
      ]
    },
    {
      "cell_type": "markdown",
      "metadata": {
        "id": "irAHOx6t5zpC"
      },
      "source": [
        "The results get improved (read the yellow stripe)."
      ]
    },
    {
      "cell_type": "markdown",
      "metadata": {
        "id": "2gCWSh3QoPGn"
      },
      "source": [
        "### Task 6: Visualize performance"
      ]
    },
    {
      "cell_type": "code",
      "metadata": {
        "id": "1Kl9VVAQoPGo",
        "outputId": "34054f34-1ebc-4ae1-aa90-9cf8e0e5ff15",
        "colab": {
          "base_uri": "https://localhost:8080/",
          "height": 376,
          "referenced_widgets": [
            "564815c56e2841b983e5f59829ef7f4a",
            "465ad61b8fb142568f64a183710fce2c",
            "b0ad2f77008a423ab635becc01c92a7c"
          ]
        }
      },
      "source": [
        "#AUC Plot: This tell us how much a model is capable of distinguishing between\n",
        "# and it is plotted tru positive against the false positive. The most capable\n",
        "# has an AUC equals to 1.\n",
        "plot_model(blender)"
      ],
      "execution_count": null,
      "outputs": [
        {
          "output_type": "display_data",
          "data": {
            "image/png": "[encoded data removed]",
            "text/plain": [
              "<Figure size 576x396 with 1 Axes>"
            ]
          },
          "metadata": {
            "tags": []
          }
        }
      ]
    },
    {
      "cell_type": "code",
      "metadata": {
        "id": "kpR4KmvcoPGt",
        "outputId": "a22e2ab7-aff8-4072-a389-c2bfda8827f7",
        "colab": {
          "base_uri": "https://localhost:8080/",
          "height": 376,
          "referenced_widgets": [
            "63d75983efb941dd8748325043568094"
          ]
        }
      },
      "source": [
        "#precision recall plot: Shows the trade off between precision and recall for\n",
        "# different thereshold.\n",
        "# A high area under the curve represents both high recall and high precision.\n",
        "plot_model(blender, plot='pr')"
      ],
      "execution_count": null,
      "outputs": [
        {
          "output_type": "display_data",
          "data": {
            "image/png": "[encoded data removed]",
            "text/plain": [
              "<Figure size 576x396 with 1 Axes>"
            ]
          },
          "metadata": {
            "tags": []
          }
        }
      ]
    },
    {
      "cell_type": "code",
      "metadata": {
        "id": "MqettaE2oPGx",
        "outputId": "7cf8407d-bcac-482b-9cb3-6b9680cd9846",
        "colab": {
          "base_uri": "https://localhost:8080/",
          "height": 401,
          "referenced_widgets": [
            "a90ec4cb73de407185b4aa964fc0de8b"
          ]
        }
      },
      "source": [
        "#confusion matrix\n",
        "plot_model(blender, plot='confusion_matrix')"
      ],
      "execution_count": null,
      "outputs": [
        {
          "output_type": "display_data",
          "data": {
            "image/png": "[encoded data removed]",
            "text/plain": [
              "<Figure size 576x396 with 1 Axes>"
            ]
          },
          "metadata": {
            "tags": []
          }
        }
      ]
    },
    {
      "cell_type": "code",
      "metadata": {
        "id": "FgKPX_OcoPG2",
        "outputId": "d3ba8f52-96de-4db1-ab29-cf047dcfb894",
        "colab": {
          "base_uri": "https://localhost:8080/",
          "height": 401
        }
      },
      "source": [
        "#classification report\n",
        "plot_model(blender, plot='class_report')"
      ],
      "execution_count": null,
      "outputs": [
        {
          "output_type": "display_data",
          "data": {
            "image/png": "[encoded data removed]",
            "text/plain": [
              "<Figure size 576x396 with 2 Axes>"
            ]
          },
          "metadata": {
            "tags": []
          }
        }
      ]
    },
    {
      "cell_type": "code",
      "metadata": {
        "id": "9dRo97I5oPG8",
        "outputId": "8ce0e7b2-a06e-490c-89d4-0cd748da3c26",
        "colab": {
          "base_uri": "https://localhost:8080/",
          "height": 361,
          "referenced_widgets": [
            "2ed817fcf7c7481ebcfbf902f34739e3",
            "dedb8432f3f14cdf87161d0ff1e8746d",
            "8468bcb8041b444aa169f26ece5828af"
          ]
        }
      },
      "source": [
        "#visualizing decision boundary\n",
        "plot_model(blender, plot='boundary')"
      ],
      "execution_count": null,
      "outputs": [
        {
          "output_type": "display_data",
          "data": {
            "image/png": "[encoded data removed]",
            "text/plain": [
              "<Figure size 576x396 with 1 Axes>"
            ]
          },
          "metadata": {
            "tags": []
          }
        }
      ]
    },
    {
      "cell_type": "code",
      "metadata": {
        "id": "xfCt8tDpoPHD",
        "outputId": "9e1febc3-32fd-45ee-b4a2-a059619e26de",
        "colab": {
          "base_uri": "https://localhost:8080/",
          "height": 349
        }
      },
      "source": [
        "#feature importance by lgbm: the features provide us the most information\n",
        "# gain\n",
        "plot_model(lgbm, plot='feature')"
      ],
      "execution_count": null,
      "outputs": [
        {
          "output_type": "display_data",
          "data": {
            "image/png": "[encoded data removed]",
            "text/plain": [
              "<Figure size 576x360 with 1 Axes>"
            ]
          },
          "metadata": {
            "tags": []
          }
        }
      ]
    },
    {
      "cell_type": "code",
      "metadata": {
        "id": "L3wrk94xoPHJ",
        "outputId": "091e826b-98fc-4fa3-cb61-3d4d9bdd7eb5",
        "colab": {
          "base_uri": "https://localhost:8080/",
          "height": 349
        }
      },
      "source": [
        "#feature importance by gbc: we want to drop off models with few feature\n",
        "# importance and this model has fewer than the previous one.\n",
        "# For this model duration is very important, the rest are not important.\n",
        "plot_model(gbc, plot='feature')"
      ],
      "execution_count": null,
      "outputs": [
        {
          "output_type": "display_data",
          "data": {
            "image/png": "[encoded data removed]",
            "text/plain": [
              "<Figure size 576x360 with 1 Axes>"
            ]
          },
          "metadata": {
            "tags": []
          }
        }
      ]
    },
    {
      "cell_type": "code",
      "metadata": {
        "id": "lfx8PvO3oPHO",
        "outputId": "415950f0-0cdd-4f9c-9bab-d2eff5c88240",
        "colab": {
          "base_uri": "https://localhost:8080/",
          "height": 442
        }
      },
      "source": [
        "pip install shap"
      ],
      "execution_count": null,
      "outputs": [
        {
          "output_type": "stream",
          "text": [
            "Collecting shap\n",
            "\u001b[?25l  Downloading https://files.pythonhosted.org/packages/d2/17/37ee6c79cafbd9bb7423b54e55ea90beec66aa7638664d607bcc28de0bae/shap-0.36.0.tar.gz (319kB)\n",
            "\r\u001b[K     |█                               | 10kB 16.2MB/s eta 0:00:01\r\u001b[K     |██                              | 20kB 2.9MB/s eta 0:00:01\r\u001b[K     |███                             | 30kB 3.6MB/s eta 0:00:01\r\u001b[K     |████                            | 40kB 3.9MB/s eta 0:00:01\r\u001b[K     |█████▏                          | 51kB 3.4MB/s eta 0:00:01\r\u001b[K     |██████▏                         | 61kB 3.9MB/s eta 0:00:01\r\u001b[K     |███████▏                        | 71kB 4.0MB/s eta 0:00:01\r\u001b[K     |████████▏                       | 81kB 4.4MB/s eta 0:00:01\r\u001b[K     |█████████▏                      | 92kB 4.7MB/s eta 0:00:01\r\u001b[K     |██████████▎                     | 102kB 4.6MB/s eta 0:00:01\r\u001b[K     |███████████▎                    | 112kB 4.6MB/s eta 0:00:01\r\u001b[K     |████████████▎                   | 122kB 4.6MB/s eta 0:00:01\r\u001b[K     |█████████████▎                  | 133kB 4.6MB/s eta 0:00:01\r\u001b[K     |██████████████▍                 | 143kB 4.6MB/s eta 0:00:01\r\u001b[K     |███████████████▍                | 153kB 4.6MB/s eta 0:00:01\r\u001b[K     |████████████████▍               | 163kB 4.6MB/s eta 0:00:01\r\u001b[K     |█████████████████▍              | 174kB 4.6MB/s eta 0:00:01\r\u001b[K     |██████████████████▍             | 184kB 4.6MB/s eta 0:00:01\r\u001b[K     |███████████████████▌            | 194kB 4.6MB/s eta 0:00:01\r\u001b[K     |████████████████████▌           | 204kB 4.6MB/s eta 0:00:01\r\u001b[K     |█████████████████████▌          | 215kB 4.6MB/s eta 0:00:01\r\u001b[K     |██████████████████████▌         | 225kB 4.6MB/s eta 0:00:01\r\u001b[K     |███████████████████████▋        | 235kB 4.6MB/s eta 0:00:01\r\u001b[K     |████████████████████████▋       | 245kB 4.6MB/s eta 0:00:01\r\u001b[K     |█████████████████████████▋      | 256kB 4.6MB/s eta 0:00:01\r\u001b[K     |██████████████████████████▋     | 266kB 4.6MB/s eta 0:00:01\r\u001b[K     |███████████████████████████▋    | 276kB 4.6MB/s eta 0:00:01\r\u001b[K     |████████████████████████████▊   | 286kB 4.6MB/s eta 0:00:01\r\u001b[K     |█████████████████████████████▊  | 296kB 4.6MB/s eta 0:00:01\r\u001b[K     |██████████████████████████████▊ | 307kB 4.6MB/s eta 0:00:01\r\u001b[K     |███████████████████████████████▊| 317kB 4.6MB/s eta 0:00:01\r\u001b[K     |████████████████████████████████| 327kB 4.6MB/s \n",
            "\u001b[?25hRequirement already satisfied: numpy in /usr/local/lib/python3.6/dist-packages (from shap) (1.18.5)\n",
            "Requirement already satisfied: scipy in /usr/local/lib/python3.6/dist-packages (from shap) (1.4.1)\n",
            "Requirement already satisfied: scikit-learn in /usr/local/lib/python3.6/dist-packages (from shap) (0.23.2)\n",
            "Requirement already satisfied: pandas in /usr/local/lib/python3.6/dist-packages (from shap) (1.1.3)\n",
            "Requirement already satisfied: tqdm>4.25.0 in /usr/local/lib/python3.6/dist-packages (from shap) (4.51.0)\n",
            "Collecting slicer\n",
            "  Downloading https://files.pythonhosted.org/packages/46/cf/f37ac7f61214ed044b0df91252ab19376de5587926c5b572f060eb7bf257/slicer-0.0.4-py3-none-any.whl\n",
            "Requirement already satisfied: numba in /usr/local/lib/python3.6/dist-packages (from shap) (0.48.0)\n",
            "Requirement already satisfied: joblib>=0.11 in /usr/local/lib/python3.6/dist-packages (from scikit-learn->shap) (0.17.0)\n",
            "Requirement already satisfied: threadpoolctl>=2.0.0 in /usr/local/lib/python3.6/dist-packages (from scikit-learn->shap) (2.1.0)\n",
            "Requirement already satisfied: pytz>=2017.2 in /usr/local/lib/python3.6/dist-packages (from pandas->shap) (2018.9)\n",
            "Requirement already satisfied: python-dateutil>=2.7.3 in /usr/local/lib/python3.6/dist-packages (from pandas->shap) (2.8.1)\n",
            "Requirement already satisfied: llvmlite<0.32.0,>=0.31.0dev0 in /usr/local/lib/python3.6/dist-packages (from numba->shap) (0.31.0)\n",
            "Requirement already satisfied: setuptools in /usr/local/lib/python3.6/dist-packages (from numba->shap) (50.3.0)\n",
            "Requirement already satisfied: six>=1.5 in /usr/local/lib/python3.6/dist-packages (from python-dateutil>=2.7.3->pandas->shap) (1.15.0)\n",
            "Building wheels for collected packages: shap\n",
            "  Building wheel for shap (setup.py) ... \u001b[?25l\u001b[?25hdone\n",
            "  Created wheel for shap: filename=shap-0.36.0-cp36-cp36m-linux_x86_64.whl size=456472 sha256=6c467e32871c4d4b700d6724f343820849c6eaf05e9d9fafea4291e2e323971e\n",
            "  Stored in directory: /root/.cache/pip/wheels/fb/15/e1/8f61106790da27e0765aaa6e664550ca2c50ea339099e799f4\n",
            "Successfully built shap\n",
            "Installing collected packages: slicer, shap\n",
            "Successfully installed shap-0.36.0 slicer-0.0.4\n"
          ],
          "name": "stdout"
        }
      ]
    },
    {
      "cell_type": "code",
      "metadata": {
        "id": "ywQHMhIaoPHT",
        "outputId": "f2a7d0ad-f8cb-40d8-d3ab-8b245adb494c",
        "colab": {
          "base_uri": "https://localhost:8080/",
          "height": 336
        }
      },
      "source": [
        "#feature wise correlation: we will plot one of the feature by correlation\n",
        "# In this plot, it is appreciated that Age is correlated with the duration,\n",
        "# since duration was the feature with highest important in both models\n",
        "interpret_model(lgbm, plot = 'correlation', feature='age')"
      ],
      "execution_count": null,
      "outputs": [
        {
          "output_type": "display_data",
          "data": {
            "image/png": "[encoded data removed]",
            "text/plain": [
              "<Figure size 540x360 with 2 Axes>"
            ]
          },
          "metadata": {
            "tags": []
          }
        }
      ]
    },
    {
      "cell_type": "code",
      "metadata": {
        "id": "BiM6Vc8noPHX",
        "outputId": "7dc3125b-780d-4bf9-bc7d-bb1ebe711a83",
        "colab": {
          "base_uri": "https://localhost:8080/",
          "height": 340
        }
      },
      "source": [
        "# We see that the correlation is quite linear.\n",
        "interpret_model(lgbm, plot = 'correlation', feature='duration')"
      ],
      "execution_count": null,
      "outputs": [
        {
          "output_type": "display_data",
          "data": {
            "image/png": "[encoded data removed]",
            "text/plain": [
              "<Figure size 540x360 with 2 Axes>"
            ]
          },
          "metadata": {
            "tags": []
          }
        }
      ]
    },
    {
      "cell_type": "code",
      "metadata": {
        "id": "ysK_uCQpoPHc",
        "outputId": "ac88d721-cc1a-42ec-c737-32de6c2779bf",
        "colab": {
          "base_uri": "https://localhost:8080/",
          "height": 580
        }
      },
      "source": [
        "#model summary: The summary plot give us the importance of our features with\n",
        "# respect to our target.\n",
        "# If it would be a multi class classifier, we  could have seen more classes\n",
        "# here and how these features have impacted on that classification task\n",
        "interpret_model(lgbm, plot = 'summary')"
      ],
      "execution_count": null,
      "outputs": [
        {
          "output_type": "display_data",
          "data": {
            "image/png": "[encoded data removed]",
            "text/plain": [
              "<Figure size 576x684 with 1 Axes>"
            ]
          },
          "metadata": {
            "tags": []
          }
        }
      ]
    },
    {
      "cell_type": "code",
      "metadata": {
        "id": "wMquAArooPHg",
        "outputId": "6edc516a-02b4-4a91-c6fb-8e3bd7441dd0",
        "colab": {
          "base_uri": "https://localhost:8080/",
          "height": 34
        }
      },
      "source": [
        "#if you want to save the model\n",
        "\n",
        "save_model(lgbm, 'lgbm_model_1')"
      ],
      "execution_count": null,
      "outputs": [
        {
          "output_type": "stream",
          "text": [
            "Transformation Pipeline and Model Succesfully Saved\n"
          ],
          "name": "stdout"
        }
      ]
    }
  ]
}